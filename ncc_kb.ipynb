{
 "cells": [
  {
   "cell_type": "code",
   "execution_count": 3,
   "metadata": {},
   "outputs": [
    {
     "name": "stdout",
     "output_type": "stream",
     "text": [
      "Microsoft Windows [Version 10.0.19045.3086]\n",
      "(c) Microsoft Corporation. All rights reserved.\n",
      "\n",
      "(venv310) d:\\Documents\\work\\docqa>pip install --upgrade pip\n",
      "Requirement already satisfied: pip in d:\\documents\\work\\ask_api\\ask-api\\venv310\\lib\\site-packages (22.3.1)\n",
      "Collecting pip\n",
      "  Using cached pip-23.1.2-py3-none-any.whl (2.1 MB)\n"
     ]
    },
    {
     "name": "stderr",
     "output_type": "stream",
     "text": [
      "ERROR: To modify pip, please run the following command:\n",
      "D:\\Documents\\work\\ask_api\\ask-api\\venv310\\Scripts\\python.exe -m pip install --upgrade pip\n",
      "\n",
      "[notice] A new release of pip available: 22.3.1 -> 23.1.2\n",
      "[notice] To update, run: python.exe -m pip install --upgrade pip\n"
     ]
    },
    {
     "name": "stdout",
     "output_type": "stream",
     "text": [
      "\n",
      "(venv310) d:\\Documents\\work\\docqa>pip install -r requirements.txt \n",
      "Collecting Chromadb\n",
      "  Downloading chromadb-0.3.27-py3-none-any.whl (396 kB)\n",
      "     -------------------------------------- 396.4/396.4 kB 1.5 MB/s eta 0:00:00\n",
      "Collecting Flask\n",
      "  Using cached Flask-2.3.2-py3-none-any.whl (96 kB)\n",
      "Collecting google-search-results\n",
      "  Using cached google_search_results-2.4.2.tar.gz (18 kB)\n",
      "  Preparing metadata (setup.py): started\n",
      "  Preparing metadata (setup.py): finished with status 'done'\n",
      "Requirement already satisfied: jupyterlab_widgets in d:\\documents\\work\\ask_api\\ask-api\\venv310\\lib\\site-packages (from -r requirements.txt (line 4)) (3.0.7)\n",
      "Requirement already satisfied: ipywidgets in d:\\documents\\work\\ask_api\\ask-api\\venv310\\lib\\site-packages (from -r requirements.txt (line 5)) (8.0.6)\n",
      "Collecting langchain==0.0.157\n",
      "  Using cached langchain-0.0.157-py3-none-any.whl (727 kB)\n",
      "Requirement already satisfied: numpy in d:\\documents\\work\\ask_api\\ask-api\\venv310\\lib\\site-packages (from -r requirements.txt (line 8)) (1.24.3)\n",
      "Collecting openai\n",
      "  Downloading openai-0.27.8-py3-none-any.whl (73 kB)\n",
      "     -------------------------------------- 73.6/73.6 kB 673.5 kB/s eta 0:00:00\n",
      "Collecting PyCryptodome\n",
      "  Downloading pycryptodome-3.18.0-cp35-abi3-win_amd64.whl (1.7 MB)\n",
      "     ---------------------------------------- 1.7/1.7 MB 2.3 MB/s eta 0:00:00\n",
      "Collecting pypdf\n",
      "  Downloading pypdf-3.12.1-py3-none-any.whl (254 kB)\n",
      "     -------------------------------------- 254.8/254.8 kB 1.6 MB/s eta 0:00:00\n",
      "Collecting sentencepiece==0.1.97\n",
      "  Using cached sentencepiece-0.1.97-cp310-cp310-win_amd64.whl (1.1 MB)\n",
      "Collecting tiktoken\n",
      "  Using cached tiktoken-0.4.0-cp310-cp310-win_amd64.whl (635 kB)\n",
      "Requirement already satisfied: requests<3,>=2 in d:\\documents\\work\\ask_api\\ask-api\\venv310\\lib\\site-packages (from langchain==0.0.157->-r requirements.txt (line 6)) (2.31.0)\n",
      "Collecting async-timeout<5.0.0,>=4.0.0\n",
      "  Using cached async_timeout-4.0.2-py3-none-any.whl (5.8 kB)\n",
      "Collecting aiohttp<4.0.0,>=3.8.3\n",
      "  Using cached aiohttp-3.8.4-cp310-cp310-win_amd64.whl (319 kB)\n",
      "Collecting openapi-schema-pydantic<2.0,>=1.2\n",
      "  Using cached openapi_schema_pydantic-1.2.4-py3-none-any.whl (90 kB)\n",
      "Collecting tenacity<9.0.0,>=8.1.0\n",
      "  Using cached tenacity-8.2.2-py3-none-any.whl (24 kB)\n",
      "Requirement already satisfied: PyYAML>=5.4.1 in d:\\documents\\work\\ask_api\\ask-api\\venv310\\lib\\site-packages (from langchain==0.0.157->-r requirements.txt (line 6)) (6.0)\n",
      "Collecting numexpr<3.0.0,>=2.8.4\n",
      "  Using cached numexpr-2.8.4-cp310-cp310-win_amd64.whl (92 kB)\n",
      "Collecting dataclasses-json<0.6.0,>=0.5.7\n",
      "  Downloading dataclasses_json-0.5.9-py3-none-any.whl (26 kB)\n",
      "Collecting SQLAlchemy<3,>=1.3\n",
      "  Downloading SQLAlchemy-2.0.18-cp310-cp310-win_amd64.whl (2.0 MB)\n",
      "     ---------------------------------------- 2.0/2.0 MB 2.0 MB/s eta 0:00:00\n",
      "Collecting pydantic<2,>=1\n",
      "  Downloading pydantic-1.10.11-cp310-cp310-win_amd64.whl (2.1 MB)\n",
      "     ---------------------------------------- 2.1/2.1 MB 2.0 MB/s eta 0:00:00\n",
      "Requirement already satisfied: tqdm>=4.48.0 in d:\\documents\\work\\ask_api\\ask-api\\venv310\\lib\\site-packages (from langchain==0.0.157->-r requirements.txt (line 6)) (4.65.0)\n",
      "Collecting posthog>=2.4.0\n",
      "  Using cached posthog-3.0.1-py2.py3-none-any.whl (37 kB)\n",
      "Collecting fastapi==0.85.1\n",
      "  Downloading fastapi-0.85.1-py3-none-any.whl (55 kB)\n",
      "     ---------------------------------------- 55.4/55.4 kB 2.8 MB/s eta 0:00:00\n",
      "Collecting onnxruntime>=1.14.1\n",
      "  Downloading onnxruntime-1.15.1-cp310-cp310-win_amd64.whl (6.7 MB)\n",
      "     ---------------------------------------- 6.7/6.7 MB 2.3 MB/s eta 0:00:00\n",
      "Collecting clickhouse-connect>=0.5.7\n",
      "  Downloading clickhouse_connect-0.6.6-cp310-cp310-win_amd64.whl (227 kB)\n",
      "     -------------------------------------- 227.3/227.3 kB 3.5 MB/s eta 0:00:00\n",
      "Collecting uvicorn[standard]>=0.18.3\n",
      "  Using cached uvicorn-0.22.0-py3-none-any.whl (58 kB)\n",
      "Collecting pydantic<2,>=1\n",
      "  Downloading pydantic-1.9.0-cp310-cp310-win_amd64.whl (2.1 MB)\n",
      "     ---------------------------------------- 2.1/2.1 MB 2.2 MB/s eta 0:00:00\n",
      "Collecting pulsar-client>=3.1.0\n",
      "  Downloading pulsar_client-3.2.0-cp310-cp310-win_amd64.whl (3.4 MB)\n",
      "     ---------------------------------------- 3.4/3.4 MB 2.0 MB/s eta 0:00:00\n",
      "Collecting overrides>=7.3.1\n",
      "  Downloading overrides-7.3.1-py3-none-any.whl (17 kB)\n",
      "Collecting hnswlib>=0.7\n",
      "  Using cached hnswlib-0.7.0-cp310-cp310-win_amd64.whl\n",
      "Requirement already satisfied: pandas>=1.3 in d:\\documents\\work\\ask_api\\ask-api\\venv310\\lib\\site-packages (from Chromadb->-r requirements.txt (line 1)) (2.0.2)\n",
      "Collecting duckdb>=0.7.1\n",
      "  Downloading duckdb-0.8.1-cp310-cp310-win_amd64.whl (9.8 MB)\n",
      "     ---------------------------------------- 9.8/9.8 MB 2.0 MB/s eta 0:00:00\n",
      "Requirement already satisfied: typing-extensions>=4.5.0 in d:\\documents\\work\\ask_api\\ask-api\\venv310\\lib\\site-packages (from Chromadb->-r requirements.txt (line 1)) (4.6.3)\n",
      "Collecting tokenizers>=0.13.2\n",
      "  Using cached tokenizers-0.13.3-cp310-cp310-win_amd64.whl (3.5 MB)\n",
      "Collecting starlette==0.20.4\n",
      "  Downloading starlette-0.20.4-py3-none-any.whl (63 kB)\n",
      "     -------------------------------------- 63.6/63.6 kB 847.1 kB/s eta 0:00:00\n",
      "Collecting anyio<5,>=3.4.0\n",
      "  Downloading anyio-3.7.1-py3-none-any.whl (80 kB)\n",
      "     ---------------------------------------- 80.9/80.9 kB 1.5 MB/s eta 0:00:00\n",
      "Collecting click>=8.1.3\n",
      "  Downloading click-8.1.4-py3-none-any.whl (98 kB)\n",
      "     ---------------------------------------- 98.2/98.2 kB 1.9 MB/s eta 0:00:00\n",
      "Collecting blinker>=1.6.2\n",
      "  Using cached blinker-1.6.2-py3-none-any.whl (13 kB)\n",
      "Collecting Werkzeug>=2.3.3\n",
      "  Downloading Werkzeug-2.3.6-py3-none-any.whl (242 kB)\n",
      "     -------------------------------------- 242.5/242.5 kB 2.5 MB/s eta 0:00:00\n",
      "Collecting itsdangerous>=2.1.2\n",
      "  Using cached itsdangerous-2.1.2-py3-none-any.whl (15 kB)\n",
      "Requirement already satisfied: Jinja2>=3.1.2 in d:\\documents\\work\\ask_api\\ask-api\\venv310\\lib\\site-packages (from Flask->-r requirements.txt (line 2)) (3.1.2)\n",
      "Requirement already satisfied: traitlets>=4.3.1 in d:\\documents\\work\\ask_api\\ask-api\\venv310\\lib\\site-packages (from ipywidgets->-r requirements.txt (line 5)) (5.9.0)\n",
      "Requirement already satisfied: widgetsnbextension~=4.0.7 in d:\\documents\\work\\ask_api\\ask-api\\venv310\\lib\\site-packages (from ipywidgets->-r requirements.txt (line 5)) (4.0.7)\n",
      "Requirement already satisfied: ipykernel>=4.5.1 in d:\\documents\\work\\ask_api\\ask-api\\venv310\\lib\\site-packages (from ipywidgets->-r requirements.txt (line 5)) (6.22.0)\n",
      "Requirement already satisfied: ipython>=6.1.0 in d:\\documents\\work\\ask_api\\ask-api\\venv310\\lib\\site-packages (from ipywidgets->-r requirements.txt (line 5)) (8.13.2)\n",
      "Collecting regex>=2022.1.18\n",
      "  Downloading regex-2023.6.3-cp310-cp310-win_amd64.whl (268 kB)\n",
      "     -------------------------------------- 268.0/268.0 kB 2.8 MB/s eta 0:00:00\n",
      "Collecting aiosignal>=1.1.2\n",
      "  Using cached aiosignal-1.3.1-py3-none-any.whl (7.6 kB)\n",
      "Collecting multidict<7.0,>=4.5\n",
      "  Using cached multidict-6.0.4-cp310-cp310-win_amd64.whl (28 kB)\n",
      "Collecting yarl<2.0,>=1.0\n",
      "  Using cached yarl-1.9.2-cp310-cp310-win_amd64.whl (61 kB)\n",
      "Collecting frozenlist>=1.1.1\n",
      "  Using cached frozenlist-1.3.3-cp310-cp310-win_amd64.whl (33 kB)\n",
      "Collecting attrs>=17.3.0\n",
      "  Using cached attrs-23.1.0-py3-none-any.whl (61 kB)\n",
      "Requirement already satisfied: charset-normalizer<4.0,>=2.0 in d:\\documents\\work\\ask_api\\ask-api\\venv310\\lib\\site-packages (from aiohttp<4.0.0,>=3.8.3->langchain==0.0.157->-r requirements.txt (line 6)) (3.1.0)\n",
      "Requirement already satisfied: colorama in d:\\documents\\work\\ask_api\\ask-api\\venv310\\lib\\site-packages (from click>=8.1.3->Flask->-r requirements.txt (line 2)) (0.4.6)\n",
      "Requirement already satisfied: urllib3>=1.26 in d:\\documents\\work\\ask_api\\ask-api\\venv310\\lib\\site-packages (from clickhouse-connect>=0.5.7->Chromadb->-r requirements.txt (line 1)) (2.0.2)\n",
      "Requirement already satisfied: certifi in d:\\documents\\work\\ask_api\\ask-api\\venv310\\lib\\site-packages (from clickhouse-connect>=0.5.7->Chromadb->-r requirements.txt (line 1)) (2023.5.7)\n",
      "Requirement already satisfied: pytz in d:\\documents\\work\\ask_api\\ask-api\\venv310\\lib\\site-packages (from clickhouse-connect>=0.5.7->Chromadb->-r requirements.txt (line 1)) (2023.3)\n",
      "Collecting zstandard\n",
      "  Using cached zstandard-0.21.0-cp310-cp310-win_amd64.whl (511 kB)\n",
      "Collecting lz4\n",
      "  Using cached lz4-4.3.2-cp310-cp310-win_amd64.whl (99 kB)\n",
      "Collecting importlib-metadata\n",
      "  Downloading importlib_metadata-6.8.0-py3-none-any.whl (22 kB)\n",
      "Collecting marshmallow-enum<2.0.0,>=1.5.1\n",
      "  Using cached marshmallow_enum-1.5.1-py2.py3-none-any.whl (4.2 kB)\n",
      "Collecting typing-inspect>=0.4.0\n",
      "  Downloading typing_inspect-0.9.0-py3-none-any.whl (8.8 kB)\n",
      "Collecting marshmallow<4.0.0,>=3.3.0\n",
      "  Using cached marshmallow-3.19.0-py3-none-any.whl (49 kB)\n",
      "Requirement already satisfied: debugpy>=1.6.5 in d:\\documents\\work\\ask_api\\ask-api\\venv310\\lib\\site-packages (from ipykernel>=4.5.1->ipywidgets->-r requirements.txt (line 5)) (1.6.7)\n",
      "Requirement already satisfied: jupyter-client>=6.1.12 in d:\\documents\\work\\ask_api\\ask-api\\venv310\\lib\\site-packages (from ipykernel>=4.5.1->ipywidgets->-r requirements.txt (line 5)) (8.2.0)\n",
      "Requirement already satisfied: psutil in d:\\documents\\work\\ask_api\\ask-api\\venv310\\lib\\site-packages (from ipykernel>=4.5.1->ipywidgets->-r requirements.txt (line 5)) (5.9.5)\n",
      "Requirement already satisfied: comm>=0.1.1 in d:\\documents\\work\\ask_api\\ask-api\\venv310\\lib\\site-packages (from ipykernel>=4.5.1->ipywidgets->-r requirements.txt (line 5)) (0.1.3)\n",
      "Requirement already satisfied: matplotlib-inline>=0.1 in d:\\documents\\work\\ask_api\\ask-api\\venv310\\lib\\site-packages (from ipykernel>=4.5.1->ipywidgets->-r requirements.txt (line 5)) (0.1.6)\n",
      "Requirement already satisfied: packaging in d:\\documents\\work\\ask_api\\ask-api\\venv310\\lib\\site-packages (from ipykernel>=4.5.1->ipywidgets->-r requirements.txt (line 5)) (23.1)\n",
      "Requirement already satisfied: nest-asyncio in d:\\documents\\work\\ask_api\\ask-api\\venv310\\lib\\site-packages (from ipykernel>=4.5.1->ipywidgets->-r requirements.txt (line 5)) (1.5.6)\n",
      "Requirement already satisfied: jupyter-core!=5.0.*,>=4.12 in d:\\documents\\work\\ask_api\\ask-api\\venv310\\lib\\site-packages (from ipykernel>=4.5.1->ipywidgets->-r requirements.txt (line 5)) (5.3.0)\n",
      "Requirement already satisfied: pyzmq>=20 in d:\\documents\\work\\ask_api\\ask-api\\venv310\\lib\\site-packages (from ipykernel>=4.5.1->ipywidgets->-r requirements.txt (line 5)) (25.0.2)\n",
      "Requirement already satisfied: tornado>=6.1 in d:\\documents\\work\\ask_api\\ask-api\\venv310\\lib\\site-packages (from ipykernel>=4.5.1->ipywidgets->-r requirements.txt (line 5)) (6.3.1)\n",
      "Requirement already satisfied: decorator in d:\\documents\\work\\ask_api\\ask-api\\venv310\\lib\\site-packages (from ipython>=6.1.0->ipywidgets->-r requirements.txt (line 5)) (5.1.1)\n",
      "Requirement already satisfied: jedi>=0.16 in d:\\documents\\work\\ask_api\\ask-api\\venv310\\lib\\site-packages (from ipython>=6.1.0->ipywidgets->-r requirements.txt (line 5)) (0.18.2)\n",
      "Requirement already satisfied: backcall in d:\\documents\\work\\ask_api\\ask-api\\venv310\\lib\\site-packages (from ipython>=6.1.0->ipywidgets->-r requirements.txt (line 5)) (0.2.0)\n",
      "Requirement already satisfied: prompt-toolkit!=3.0.37,<3.1.0,>=3.0.30 in d:\\documents\\work\\ask_api\\ask-api\\venv310\\lib\\site-packages (from ipython>=6.1.0->ipywidgets->-r requirements.txt (line 5)) (3.0.38)\n",
      "Requirement already satisfied: pickleshare in d:\\documents\\work\\ask_api\\ask-api\\venv310\\lib\\site-packages (from ipython>=6.1.0->ipywidgets->-r requirements.txt (line 5)) (0.7.5)\n",
      "Requirement already satisfied: stack-data in d:\\documents\\work\\ask_api\\ask-api\\venv310\\lib\\site-packages (from ipython>=6.1.0->ipywidgets->-r requirements.txt (line 5)) (0.6.2)\n",
      "Requirement already satisfied: pygments>=2.4.0 in d:\\documents\\work\\ask_api\\ask-api\\venv310\\lib\\site-packages (from ipython>=6.1.0->ipywidgets->-r requirements.txt (line 5)) (2.15.1)\n",
      "Requirement already satisfied: MarkupSafe>=2.0 in d:\\documents\\work\\ask_api\\ask-api\\venv310\\lib\\site-packages (from Jinja2>=3.1.2->Flask->-r requirements.txt (line 2)) (2.1.3)\n",
      "Collecting protobuf\n",
      "  Downloading protobuf-4.23.4-cp310-abi3-win_amd64.whl (422 kB)\n",
      "     -------------------------------------- 422.5/422.5 kB 2.6 MB/s eta 0:00:00\n",
      "Collecting coloredlogs\n",
      "  Downloading coloredlogs-15.0.1-py2.py3-none-any.whl (46 kB)\n",
      "     ---------------------------------------- 46.0/46.0 kB 2.2 MB/s eta 0:00:00\n",
      "Collecting flatbuffers\n",
      "  Downloading flatbuffers-23.5.26-py2.py3-none-any.whl (26 kB)\n",
      "Collecting sympy\n",
      "  Downloading sympy-1.12-py3-none-any.whl (5.7 MB)\n",
      "     ---------------------------------------- 5.7/5.7 MB 2.3 MB/s eta 0:00:00\n",
      "Requirement already satisfied: python-dateutil>=2.8.2 in d:\\documents\\work\\ask_api\\ask-api\\venv310\\lib\\site-packages (from pandas>=1.3->Chromadb->-r requirements.txt (line 1)) (2.8.2)\n",
      "Requirement already satisfied: tzdata>=2022.1 in d:\\documents\\work\\ask_api\\ask-api\\venv310\\lib\\site-packages (from pandas>=1.3->Chromadb->-r requirements.txt (line 1)) (2023.3)\n",
      "Collecting backoff>=1.10.0\n",
      "  Using cached backoff-2.2.1-py3-none-any.whl (15 kB)\n",
      "Requirement already satisfied: six>=1.5 in d:\\documents\\work\\ask_api\\ask-api\\venv310\\lib\\site-packages (from posthog>=2.4.0->Chromadb->-r requirements.txt (line 1)) (1.16.0)\n",
      "Collecting monotonic>=1.5\n",
      "  Using cached monotonic-1.6-py2.py3-none-any.whl (8.2 kB)\n",
      "Requirement already satisfied: idna<4,>=2.5 in d:\\documents\\work\\ask_api\\ask-api\\venv310\\lib\\site-packages (from requests<3,>=2->langchain==0.0.157->-r requirements.txt (line 6)) (3.4)\n",
      "Collecting greenlet!=0.4.17\n",
      "  Using cached greenlet-2.0.2-cp310-cp310-win_amd64.whl (192 kB)\n",
      "Collecting h11>=0.8\n",
      "  Using cached h11-0.14.0-py3-none-any.whl (58 kB)\n",
      "Collecting watchfiles>=0.13\n",
      "  Using cached watchfiles-0.19.0-cp37-abi3-win_amd64.whl (270 kB)\n",
      "Collecting websockets>=10.4\n",
      "  Using cached websockets-11.0.3-cp310-cp310-win_amd64.whl (124 kB)\n",
      "Collecting httptools>=0.5.0\n",
      "  Downloading httptools-0.6.0-cp310-cp310-win_amd64.whl (145 kB)\n",
      "     -------------------------------------- 145.4/145.4 kB 1.4 MB/s eta 0:00:00\n",
      "Collecting python-dotenv>=0.13\n",
      "  Using cached python_dotenv-1.0.0-py3-none-any.whl (19 kB)\n",
      "Requirement already satisfied: parso<0.9.0,>=0.8.0 in d:\\documents\\work\\ask_api\\ask-api\\venv310\\lib\\site-packages (from jedi>=0.16->ipython>=6.1.0->ipywidgets->-r requirements.txt (line 5)) (0.8.3)\n",
      "Requirement already satisfied: pywin32>=300 in d:\\documents\\work\\ask_api\\ask-api\\venv310\\lib\\site-packages (from jupyter-core!=5.0.*,>=4.12->ipykernel>=4.5.1->ipywidgets->-r requirements.txt (line 5)) (306)\n",
      "Requirement already satisfied: platformdirs>=2.5 in d:\\documents\\work\\ask_api\\ask-api\\venv310\\lib\\site-packages (from jupyter-core!=5.0.*,>=4.12->ipykernel>=4.5.1->ipywidgets->-r requirements.txt (line 5)) (3.5.0)\n",
      "Requirement already satisfied: wcwidth in d:\\documents\\work\\ask_api\\ask-api\\venv310\\lib\\site-packages (from prompt-toolkit!=3.0.37,<3.1.0,>=3.0.30->ipython>=6.1.0->ipywidgets->-r requirements.txt (line 5)) (0.2.6)\n",
      "Collecting mypy-extensions>=0.3.0\n",
      "  Using cached mypy_extensions-1.0.0-py3-none-any.whl (4.7 kB)\n",
      "Collecting humanfriendly>=9.1\n",
      "  Downloading humanfriendly-10.0-py2.py3-none-any.whl (86 kB)\n",
      "     -------------------------------------- 86.8/86.8 kB 969.0 kB/s eta 0:00:00\n",
      "Collecting zipp>=0.5\n",
      "  Downloading zipp-3.16.0-py3-none-any.whl (6.7 kB)\n",
      "Requirement already satisfied: asttokens>=2.1.0 in d:\\documents\\work\\ask_api\\ask-api\\venv310\\lib\\site-packages (from stack-data->ipython>=6.1.0->ipywidgets->-r requirements.txt (line 5)) (2.2.1)\n",
      "Requirement already satisfied: executing>=1.2.0 in d:\\documents\\work\\ask_api\\ask-api\\venv310\\lib\\site-packages (from stack-data->ipython>=6.1.0->ipywidgets->-r requirements.txt (line 5)) (1.2.0)\n",
      "Requirement already satisfied: pure-eval in d:\\documents\\work\\ask_api\\ask-api\\venv310\\lib\\site-packages (from stack-data->ipython>=6.1.0->ipywidgets->-r requirements.txt (line 5)) (0.2.2)\n",
      "Collecting mpmath>=0.19\n",
      "  Using cached mpmath-1.3.0-py3-none-any.whl (536 kB)\n",
      "Collecting exceptiongroup\n",
      "  Downloading exceptiongroup-1.1.2-py3-none-any.whl (14 kB)\n",
      "Collecting sniffio>=1.1\n",
      "  Using cached sniffio-1.3.0-py3-none-any.whl (10 kB)\n",
      "Collecting pyreadline3\n",
      "  Downloading pyreadline3-3.4.1-py3-none-any.whl (95 kB)\n",
      "     ---------------------------------------- 95.2/95.2 kB 2.7 MB/s eta 0:00:00\n",
      "Installing collected packages: tokenizers, sentencepiece, pyreadline3, mpmath, monotonic, flatbuffers, duckdb, zstandard, zipp, Werkzeug, websockets, tenacity, sympy, sniffio, regex, python-dotenv, pypdf, pydantic, PyCryptodome, pulsar-client, protobuf, overrides, numexpr, mypy-extensions, multidict, marshmallow, lz4, itsdangerous, humanfriendly, httptools, hnswlib, h11, greenlet, frozenlist, exceptiongroup, click, blinker, backoff, attrs, async-timeout, yarl, uvicorn, typing-inspect, tiktoken, SQLAlchemy, posthog, openapi-schema-pydantic, marshmallow-enum, importlib-metadata, google-search-results, Flask, coloredlogs, anyio, aiosignal, watchfiles, starlette, onnxruntime, dataclasses-json, clickhouse-connect, aiohttp, openai, langchain, fastapi, Chromadb\n"
     ]
    },
    {
     "name": "stderr",
     "output_type": "stream",
     "text": [
      "  DEPRECATION: google-search-results is being installed using the legacy 'setup.py install' method, because it does not have a 'pyproject.toml' and the 'wheel' package is not installed. pip 23.1 will enforce this behaviour change. A possible replacement is to enable the '--use-pep517' option. Discussion can be found at https://github.com/pypa/pip/issues/8559\n"
     ]
    },
    {
     "name": "stdout",
     "output_type": "stream",
     "text": [
      "  Running setup.py install for google-search-results: started\n",
      "  Running setup.py install for google-search-results: finished with status 'done'\n",
      "Successfully installed Chromadb-0.3.27 Flask-2.3.2 PyCryptodome-3.18.0 SQLAlchemy-2.0.18 Werkzeug-2.3.6 aiohttp-3.8.4 aiosignal-1.3.1 anyio-3.7.1 async-timeout-4.0.2 attrs-23.1.0 backoff-2.2.1 blinker-1.6.2 click-8.1.4 clickhouse-connect-0.6.6 coloredlogs-15.0.1 dataclasses-json-0.5.9 duckdb-0.8.1 exceptiongroup-1.1.2 fastapi-0.85.1 flatbuffers-23.5.26 frozenlist-1.3.3 google-search-results-2.4.2 greenlet-2.0.2 h11-0.14.0 hnswlib-0.7.0 httptools-0.6.0 humanfriendly-10.0 importlib-metadata-6.8.0 itsdangerous-2.1.2 langchain-0.0.157 lz4-4.3.2 marshmallow-3.19.0 marshmallow-enum-1.5.1 monotonic-1.6 mpmath-1.3.0 multidict-6.0.4 mypy-extensions-1.0.0 numexpr-2.8.4 onnxruntime-1.15.1 openai-0.27.8 openapi-schema-pydantic-1.2.4 overrides-7.3.1 posthog-3.0.1 protobuf-4.23.4 pulsar-client-3.2.0 pydantic-1.9.0 pypdf-3.12.1 pyreadline3-3.4.1 python-dotenv-1.0.0 regex-2023.6.3 sentencepiece-0.1.97 sniffio-1.3.0 starlette-0.20.4 sympy-1.12 tenacity-8.2.2 tiktoken-0.4.0 tokenizers-0.13.3 typing-inspect-0.9.0 uvicorn-0.22.0 watchfiles-0.19.0 websockets-11.0.3 yarl-1.9.2 zipp-3.16.0 zstandard-0.21.0\n"
     ]
    },
    {
     "name": "stderr",
     "output_type": "stream",
     "text": [
      "\n",
      "[notice] A new release of pip available: 22.3.1 -> 23.1.2\n",
      "[notice] To update, run: python.exe -m pip install --upgrade pip\n"
     ]
    },
    {
     "name": "stdout",
     "output_type": "stream",
     "text": [
      "\n",
      "(venv310) d:\\Documents\\work\\docqa>"
     ]
    }
   ],
   "source": [
    "%%cmd\n",
    "pip install --upgrade pip\n",
    "pip install -r requirements.txt "
   ]
  },
  {
   "cell_type": "code",
   "execution_count": 22,
   "metadata": {},
   "outputs": [
    {
     "name": "stderr",
     "output_type": "stream",
     "text": [
      "Enabling notebook extension jupyter-js-widgets/extension...\n",
      "      - Validating: ok\n"
     ]
    }
   ],
   "source": [
    "%jupyter nbextension enable --py widgetsnbextension"
   ]
  },
  {
   "attachments": {},
   "cell_type": "markdown",
   "metadata": {},
   "source": [
    "check virtual environment"
   ]
  },
  {
   "cell_type": "code",
   "execution_count": 1,
   "metadata": {},
   "outputs": [
    {
     "data": {
      "text/plain": [
       "'d:\\\\Documents\\\\work\\\\ask_api\\\\ask-api\\\\venv310'"
      ]
     },
     "execution_count": 1,
     "metadata": {},
     "output_type": "execute_result"
    }
   ],
   "source": [
    "import sys\n",
    "sys.prefix"
   ]
  },
  {
   "cell_type": "code",
   "execution_count": 4,
   "metadata": {},
   "outputs": [],
   "source": [
    "import os\n",
    "import glob\n",
    "import pprint\n",
    "from langchain.document_loaders import PyPDFLoader\n",
    "from langchain.text_splitter import CharacterTextSplitter\n",
    "import openai\n",
    "import chromadb\n",
    "from chromadb.config import Settings\n",
    "from chromadb.utils import embedding_functions\n",
    "from tqdm.notebook import tqdm\n",
    "\n",
    "\n",
    "\n",
    "\n",
    "openai.api_key = os.getenv(\"OPENAI_API_KEY\")"
   ]
  },
  {
   "cell_type": "code",
   "execution_count": 33,
   "metadata": {},
   "outputs": [
    {
     "name": "stderr",
     "output_type": "stream",
     "text": [
      "Using embedded DuckDB with persistence: data will be stored in: ./chroma_db/\n"
     ]
    }
   ],
   "source": [
    "chromadb_client = chromadb.Client(Settings(\n",
    "    chroma_db_impl='duckdb+parquet', #chroma_db_impl=\"duckdb\",\n",
    "    persist_directory=\"./chroma_db/\"\n",
    "))\n",
    "sentence_transformer_ef = embedding_functions.SentenceTransformerEmbeddingFunction(model_name=\"all-MiniLM-L6-v2\")\n",
    "collection_ncc2022 = chromadb_client.get_or_create_collection(name=\"ncc2022\", embedding_function=sentence_transformer_ef) \n",
    "\n",
    "# openai_ef = embedding_functions.OpenAIEmbeddingFunction(\n",
    "#                 api_key=os.environ['OPENAI_API_KEY'],\n",
    "#                 model_name=\"text-embedding-ada-002\"\n",
    "#             )\n",
    "\n",
    "# collection_ncc_openai = client.create_collection(name=\"ncc2022openai\", embedding_function=openai_ef) "
   ]
  },
  {
   "cell_type": "code",
   "execution_count": 36,
   "metadata": {},
   "outputs": [
    {
     "name": "stderr",
     "output_type": "stream",
     "text": [
      "No embedding_function provided, using default embedding function: SentenceTransformerEmbeddingFunction\n"
     ]
    },
    {
     "data": {
      "text/plain": [
       "[Collection(name=ncc2022)]"
      ]
     },
     "execution_count": 36,
     "metadata": {},
     "output_type": "execute_result"
    }
   ],
   "source": [
    "chromadb_client.list_collections()"
   ]
  },
  {
   "cell_type": "code",
   "execution_count": 22,
   "metadata": {},
   "outputs": [],
   "source": [
    "#chromadb_client.delete_collection(name=\"ncc2022\")"
   ]
  },
  {
   "cell_type": "code",
   "execution_count": 35,
   "metadata": {},
   "outputs": [
    {
     "name": "stdout",
     "output_type": "stream",
     "text": [
      "processing D:/Documents/data/national construction code/2022\\abcb-housing-provisions-2022-20230501.pdf\n",
      "processing D:/Documents/data/national construction code/2022\\ncc2022-combined-vol2-housing-provisions-20230501.pdf\n",
      "processing D:/Documents/data/national construction code/2022\\ncc2022-consolidated-performance-requirements-20230501.pdf\n",
      "processing D:/Documents/data/national construction code/2022\\ncc2022-volume-one-20230501.pdf\n",
      "processing D:/Documents/data/national construction code/2022\\ncc2022-volume-three-20230501.pdf\n",
      "processing D:/Documents/data/national construction code/2022\\ncc2022-volume-two-20230501.pdf\n"
     ]
    },
    {
     "name": "stderr",
     "output_type": "stream",
     "text": [
      " impossible to decode XFormObject /Fm0\n"
     ]
    },
    {
     "data": {
      "text/plain": [
       "True"
      ]
     },
     "execution_count": 35,
     "metadata": {},
     "output_type": "execute_result"
    }
   ],
   "source": [
    "file_folder = \"D:/Documents/data/national construction code/2022/*.pdf\"\n",
    "for f in glob.glob(file_folder):\n",
    "    print(f'processing {f}')\n",
    "    pdf_loader = PyPDFLoader(f)\n",
    "    docs = pdf_loader.load()\n",
    "    text_splitter = CharacterTextSplitter(chunk_size=2000, chunk_overlap=0)\n",
    "    docs = text_splitter.split_documents(docs)\n",
    "    collection_ncc2022.add(\n",
    "        documents=[d.page_content for d in docs],\n",
    "        metadatas=[d.metadata for d in docs],\n",
    "        ids=[d.metadata['source'] + str(d.metadata['page']) for d in docs]\n",
    "    )\n",
    "chromadb_client.persist()"
   ]
  },
  {
   "cell_type": "code",
   "execution_count": 43,
   "metadata": {},
   "outputs": [
    {
     "name": "stderr",
     "output_type": "stream",
     "text": [
      "Using embedded DuckDB with persistence: data will be stored in: D:/Documents/work/docqa/chroma_db\n"
     ]
    }
   ],
   "source": [
    "chromadb_client_2 = chromadb.Client(Settings(\n",
    "    chroma_db_impl=\"duckdb+parquet\",\n",
    "    persist_directory=\"D:/Documents/work/docqa/chroma_db\"\n",
    "))\n",
    "sentence_transformer_ef = embedding_functions.SentenceTransformerEmbeddingFunction(model_name=\"all-MiniLM-L6-v2\")\n",
    "collection_ncc2022_2 = chromadb_client_2.get_or_create_collection(name=\"ncc2022\", embedding_function=sentence_transformer_ef) \n"
   ]
  },
  {
   "cell_type": "code",
   "execution_count": 44,
   "metadata": {},
   "outputs": [
    {
     "data": {
      "text/plain": [
       "{'ids': [['D:/Documents/data/national construction code/2022\\\\ncc2022-volume-one-20230501.pdf185',\n",
       "   'D:/Documents/data/national construction code/2022\\\\ncc2022-volume-one-20230501.pdf193',\n",
       "   'D:/Documents/data/national construction code/2022\\\\ncc2022-combined-vol2-housing-provisions-20230501.pdf513']],\n",
       " 'embeddings': None,\n",
       " 'documents': [['Access and egress\\nNCC 2022 Volume One - Building Code of Australia Page 186must be not more than 60 m. \\n(6) Assembly buildings — In a Class 9b building other than a school  or early childhood centre , the distance to one of the  \\nexits may be 60 m if—  \\nthe path of travel from the room concerned to that exit is through another area which is a corridor, hallway, lobby,  (a)\\nramp or other circulation space; and  \\nthe room is smoke-separated from the circulation space by construction having an FRL of not less than 60/60/60  (b)\\nwith every doorway in that construction protected by a tight fitting, self-closing , solid-core door not less than 35  \\nmm thick; and \\nthe maximum distance of travel does not exceed 40 m within the room and 20 m from the doorway to the room  (c)\\nthrough the circulation space to the exit. \\nSA D2D5(7)  \\nSA D2D5(8)  \\n \\nSA D2D6  \\n\\u200aD2D6\\u200a \\xa0Distance between alternative exits  \\n[2019: D1.5]  \\nExits  that are required  as alternative means of egress must be—  \\ndistributed as uniformly as practicable within or around the storey  served and in positions where unobstructed  (a)\\naccess to at least 2 exits is readily available from all points on the floor including lift lobby areas; and  \\nnot less than 9 m apart; and (b)\\nnot more than— (c)\\nin a Class 2 or 3 building — 45 m apart; or  (i)\\nin a Class 9a health-care building , if such required  exit serves a patient care area  — 45 m apart; or  (ii)\\nin all other cases — 60 m apart; and  (iii)\\nlocated so that alternative paths of travel do not converge such that they become less than 6 m apart.  (d)\\n\\u200aD2D7\\u200a \\xa0Height of exits, paths of travel to exits and doorways  \\n[2019: D1.6(a)]  \\nIn a required  exit or path of travel to an exit the unobstructed height throughout must be not less than 2 m, except the  \\nunobstructed height of any doorway may be reduced to not less than 1980 mm.  \\n\\u200aD2D8\\u200a \\xa0Width of exits and paths of travel to exits  \\n[2019: D1.6(b), (c), (d) and (e) ] \\n(1) The unobstructed width of each required  exit or path of travel to an exit, except for ladders provided in accordance  \\nwith D2D21 , D3D23  or I3D5 , and doorways, must be not less than—  \\n1 m; or (a)\\n1.8 m in a passageway, corridor or ramp normally used for the transportation of patients in beds within a treatment  (b)\\narea or ward area ; and  \\nin a public corridor  in a Class 9c aged care building , notwithstanding (2) and (3)—  (c)\\n1.5 m; and (i)\\n1.8 m for the full width of the doorway, providing access into a sole-occupancy unit  or communal bathroom.  (ii)\\n(2) If the storey , mezzanine  or open spectator stand  accommodates more than 100 persons but not more than 200  \\npersons, the aggregate unobstructed width of required  exits or paths of travel to an exit, except for doorways, must  \\nbe not less than— \\n1 m plus 250 mm for each 25 persons (or part) in excess of 100; or  (a)D2D5\\n (1 May 2023)',\n",
       "   'Access and egress\\nNCC 2022 Volume One - Building Code of Australia Page 194If more than one corridor, hallway, or other internal path of travel connects required  exits, for the purposes of  (e)\\nD2D6(c)  the measurement is along the path of travel through the point at which travel in different directions to  \\nthose exits is available, as determined in accordance with D2D5 . \\nIf a wall (including a demountable internal wall ) that does not bound a room, corridor, hallway or the like causes  (f)\\na change of direction in proceeding to a required  exit, the distance is measured along the path of travel past that  \\nwall. \\nIf permanent fixed seating is provided, the distance is measured along the path of travel between the rows of  (g)\\nseats. \\nIn the case of a non- fire-isolated stairway  or non- fire-isolated ramp , the distance is measured along a line  (h)\\nconnecting the nosings of the treads, or along the slope of the ramp, together with the distance connecting those  \\nlines across any intermediate landings.  \\n\\u200aD2D21\\u200a \\xa0Plant rooms, lift machine rooms and electricity network substations:  \\nConcession  \\n[2019: D1.16]  \\n(1) A ladder may be used in lieu of a stairway to provide egress from—  \\na plant room with a floor area  of not more than 100 m2; or (a)\\nall but one point of egress from a plant room, a lift machine room or a Class 8 electricity network substation  with (b)\\na floor area  of not more than 200 m2. \\n(2) A ladder permitted under (1)—  \\nmay— (a)\\nform part of an exit provided that in the case of a fire-isolated stairway  it is contained within the shaft ; or (i)\\ndischarge within a storey  in which case it must be considered as forming part of the path of travel; and  (ii)\\nfor a plant room or a Class 8 electricity network substation , must comply with AS 1657; and  (b)\\nfor a lift machine room, where access is provided from within a machine room to a secondary floor, a fixed rung  (c)\\ntype ladder complying with AS 1657 may be used, provided that—  \\nthe height between the floors is not more than 2800 mm; and  (i)\\nthe ladder is inclined at an angle to the horizontal not less than 65 degrees nor more than 75 degrees; and  (ii)\\nthe distance between the front face of the ladder and any adjacent obstruction is not less than—  (iii)\\n960 mm, where the ladder is inclined 65 degrees to the horizontal; or  (A)\\n760 mm, where the ladder is inclined 75 degrees to the horizontal; or  (B)\\na distance that is determined by interpolating the values in (A) and (B), where the ladder is inclined at  (C)\\nany angle between 65 degrees and 75 degrees to the horizontal; and  \\na clear space not less than 600 mm exists between the foot of the ladder and any equipment.  (iv)\\nSA D2D21(3)  \\n\\u200aD2D22\\u200a \\xa0Access to lift pits \\n[2019: D1.17]  \\nAccess to lift pits must— \\nwhere the pit depth is not more than 3 m, be through the lowest landing doors; or  (a)\\nwhere the pit depth is more than 3 m, be provided through an access doorway complying with the following:  (b)\\nIn lieu of D2D7  to D2D11 , the doorway must be level with the pit floor and not be less than 600 mm wide  (i)\\nby 1980 mm high clear opening, which may be reduced to 1500 mm where it is necessary to comply with  \\n(ii). \\nNo part of the lift car or platform must encroach on the pit doorway entrance when the car is on a fully  (ii)\\ncompressed buffer.  D2D20\\n (1 May 2023)',\n",
       "   'Fire safety\\nABCB Housing Provisions Standard 2022 Page 514  \\n \\n \\nSA 9.2.1  \\n\\u200a9.2.1\\u200a \\xa0External walls of Class 1 buildings  \\n[2019: 3.7.2.2]  \\nAn external wall  of a Class 1 building, and any openings in that wall, must comply with 9.2.3  if the wall is less than—  \\n900 mm from an allotment boundary other than the boundary adjoining a road alignment or other public space;  (a)\\nor \\n1.8 m from another building on the same allotment other than a Class 10 building associated with the Class 1  (b)\\nbuilding or a detached part of the same Class 1 building.  \\n\\u200a9.2.2\\u200a \\xa0Measurement of distances  \\n[2019: 3.7.2.3]  \\n(1) The distance from any point on an external wall  of a building to an allotment boundary or another building is the  \\ndistance to that point measured along a line at right angles from the allotment boundary or external wall  of the other  \\nbuilding which intersects that point without being obstructed by a wall complying with 9.2.3 . \\n(2) Where a wall within a specified distance is required  to comply with 9.2.3 , only that part of the wall (including any  \\nopenings) within the specified distance need be constructed in that manner (see Figure 9.2.2a , Figure 9.2.2b  and \\nFigure 9.2.2c ). \\n(3) Where the distance measured is between attached or detached buildings of different heights, the distance must be  \\ntaken from the external wall  with the highest elevation measured at right angles to a point that intersects the nearest  \\npart of a vertical projection above the adjacent building, excluding any eave overhang (see Figure 9.2.2d  and Figure  \\n9.2.2e ). \\nSA 9.2.2(4)  Part 9.2 Fire separation of external walls\\n (1 May 2023)']],\n",
       " 'metadatas': [[{'source': 'D:/Documents/data/national construction code/2022\\\\ncc2022-volume-one-20230501.pdf',\n",
       "    'page': 185},\n",
       "   {'source': 'D:/Documents/data/national construction code/2022\\\\ncc2022-volume-one-20230501.pdf',\n",
       "    'page': 193},\n",
       "   {'source': 'D:/Documents/data/national construction code/2022\\\\ncc2022-combined-vol2-housing-provisions-20230501.pdf',\n",
       "    'page': 513}]],\n",
       " 'distances': [[0.9626188278198242, 0.9803008437156677, 0.9991926550865173]]}"
      ]
     },
     "execution_count": 44,
     "metadata": {},
     "output_type": "execute_result"
    }
   ],
   "source": [
    "collection_ncc2022_2.query(query_texts=[\"What's the maximum travel distance between two fire exits in a shopping center?\"],\n",
    "                     include=['documents', 'distances', 'metadatas'],\n",
    "                     n_results=3)"
   ]
  },
  {
   "cell_type": "code",
   "execution_count": 42,
   "metadata": {},
   "outputs": [
    {
     "name": "stderr",
     "output_type": "stream",
     "text": [
      "Using embedded DuckDB with persistence: data will be stored in: D:/Documents/work/docqa/chroma_db\n",
      "No embedding_function provided, using default embedding function: SentenceTransformerEmbeddingFunction\n"
     ]
    },
    {
     "name": "stdout",
     "output_type": "stream",
     "text": [
      "[Collection(name=ncc2022)]\n"
     ]
    },
    {
     "data": {
      "text/plain": [
       "{'ids': [['D:/Documents/data/national construction code/2022\\\\ncc2022-volume-one-20230501.pdf185',\n",
       "   'D:/Documents/data/national construction code/2022\\\\ncc2022-volume-one-20230501.pdf193',\n",
       "   'D:/Documents/data/national construction code/2022\\\\ncc2022-combined-vol2-housing-provisions-20230501.pdf513']],\n",
       " 'embeddings': None,\n",
       " 'documents': [['Access and egress\\nNCC 2022 Volume One - Building Code of Australia Page 186must be not more than 60 m. \\n(6) Assembly buildings — In a Class 9b building other than a school  or early childhood centre , the distance to one of the  \\nexits may be 60 m if—  \\nthe path of travel from the room concerned to that exit is through another area which is a corridor, hallway, lobby,  (a)\\nramp or other circulation space; and  \\nthe room is smoke-separated from the circulation space by construction having an FRL of not less than 60/60/60  (b)\\nwith every doorway in that construction protected by a tight fitting, self-closing , solid-core door not less than 35  \\nmm thick; and \\nthe maximum distance of travel does not exceed 40 m within the room and 20 m from the doorway to the room  (c)\\nthrough the circulation space to the exit. \\nSA D2D5(7)  \\nSA D2D5(8)  \\n \\nSA D2D6  \\n\\u200aD2D6\\u200a \\xa0Distance between alternative exits  \\n[2019: D1.5]  \\nExits  that are required  as alternative means of egress must be—  \\ndistributed as uniformly as practicable within or around the storey  served and in positions where unobstructed  (a)\\naccess to at least 2 exits is readily available from all points on the floor including lift lobby areas; and  \\nnot less than 9 m apart; and (b)\\nnot more than— (c)\\nin a Class 2 or 3 building — 45 m apart; or  (i)\\nin a Class 9a health-care building , if such required  exit serves a patient care area  — 45 m apart; or  (ii)\\nin all other cases — 60 m apart; and  (iii)\\nlocated so that alternative paths of travel do not converge such that they become less than 6 m apart.  (d)\\n\\u200aD2D7\\u200a \\xa0Height of exits, paths of travel to exits and doorways  \\n[2019: D1.6(a)]  \\nIn a required  exit or path of travel to an exit the unobstructed height throughout must be not less than 2 m, except the  \\nunobstructed height of any doorway may be reduced to not less than 1980 mm.  \\n\\u200aD2D8\\u200a \\xa0Width of exits and paths of travel to exits  \\n[2019: D1.6(b), (c), (d) and (e) ] \\n(1) The unobstructed width of each required  exit or path of travel to an exit, except for ladders provided in accordance  \\nwith D2D21 , D3D23  or I3D5 , and doorways, must be not less than—  \\n1 m; or (a)\\n1.8 m in a passageway, corridor or ramp normally used for the transportation of patients in beds within a treatment  (b)\\narea or ward area ; and  \\nin a public corridor  in a Class 9c aged care building , notwithstanding (2) and (3)—  (c)\\n1.5 m; and (i)\\n1.8 m for the full width of the doorway, providing access into a sole-occupancy unit  or communal bathroom.  (ii)\\n(2) If the storey , mezzanine  or open spectator stand  accommodates more than 100 persons but not more than 200  \\npersons, the aggregate unobstructed width of required  exits or paths of travel to an exit, except for doorways, must  \\nbe not less than— \\n1 m plus 250 mm for each 25 persons (or part) in excess of 100; or  (a)D2D5\\n (1 May 2023)',\n",
       "   'Access and egress\\nNCC 2022 Volume One - Building Code of Australia Page 194If more than one corridor, hallway, or other internal path of travel connects required  exits, for the purposes of  (e)\\nD2D6(c)  the measurement is along the path of travel through the point at which travel in different directions to  \\nthose exits is available, as determined in accordance with D2D5 . \\nIf a wall (including a demountable internal wall ) that does not bound a room, corridor, hallway or the like causes  (f)\\na change of direction in proceeding to a required  exit, the distance is measured along the path of travel past that  \\nwall. \\nIf permanent fixed seating is provided, the distance is measured along the path of travel between the rows of  (g)\\nseats. \\nIn the case of a non- fire-isolated stairway  or non- fire-isolated ramp , the distance is measured along a line  (h)\\nconnecting the nosings of the treads, or along the slope of the ramp, together with the distance connecting those  \\nlines across any intermediate landings.  \\n\\u200aD2D21\\u200a \\xa0Plant rooms, lift machine rooms and electricity network substations:  \\nConcession  \\n[2019: D1.16]  \\n(1) A ladder may be used in lieu of a stairway to provide egress from—  \\na plant room with a floor area  of not more than 100 m2; or (a)\\nall but one point of egress from a plant room, a lift machine room or a Class 8 electricity network substation  with (b)\\na floor area  of not more than 200 m2. \\n(2) A ladder permitted under (1)—  \\nmay— (a)\\nform part of an exit provided that in the case of a fire-isolated stairway  it is contained within the shaft ; or (i)\\ndischarge within a storey  in which case it must be considered as forming part of the path of travel; and  (ii)\\nfor a plant room or a Class 8 electricity network substation , must comply with AS 1657; and  (b)\\nfor a lift machine room, where access is provided from within a machine room to a secondary floor, a fixed rung  (c)\\ntype ladder complying with AS 1657 may be used, provided that—  \\nthe height between the floors is not more than 2800 mm; and  (i)\\nthe ladder is inclined at an angle to the horizontal not less than 65 degrees nor more than 75 degrees; and  (ii)\\nthe distance between the front face of the ladder and any adjacent obstruction is not less than—  (iii)\\n960 mm, where the ladder is inclined 65 degrees to the horizontal; or  (A)\\n760 mm, where the ladder is inclined 75 degrees to the horizontal; or  (B)\\na distance that is determined by interpolating the values in (A) and (B), where the ladder is inclined at  (C)\\nany angle between 65 degrees and 75 degrees to the horizontal; and  \\na clear space not less than 600 mm exists between the foot of the ladder and any equipment.  (iv)\\nSA D2D21(3)  \\n\\u200aD2D22\\u200a \\xa0Access to lift pits \\n[2019: D1.17]  \\nAccess to lift pits must— \\nwhere the pit depth is not more than 3 m, be through the lowest landing doors; or  (a)\\nwhere the pit depth is more than 3 m, be provided through an access doorway complying with the following:  (b)\\nIn lieu of D2D7  to D2D11 , the doorway must be level with the pit floor and not be less than 600 mm wide  (i)\\nby 1980 mm high clear opening, which may be reduced to 1500 mm where it is necessary to comply with  \\n(ii). \\nNo part of the lift car or platform must encroach on the pit doorway entrance when the car is on a fully  (ii)\\ncompressed buffer.  D2D20\\n (1 May 2023)',\n",
       "   'Fire safety\\nABCB Housing Provisions Standard 2022 Page 514  \\n \\n \\nSA 9.2.1  \\n\\u200a9.2.1\\u200a \\xa0External walls of Class 1 buildings  \\n[2019: 3.7.2.2]  \\nAn external wall  of a Class 1 building, and any openings in that wall, must comply with 9.2.3  if the wall is less than—  \\n900 mm from an allotment boundary other than the boundary adjoining a road alignment or other public space;  (a)\\nor \\n1.8 m from another building on the same allotment other than a Class 10 building associated with the Class 1  (b)\\nbuilding or a detached part of the same Class 1 building.  \\n\\u200a9.2.2\\u200a \\xa0Measurement of distances  \\n[2019: 3.7.2.3]  \\n(1) The distance from any point on an external wall  of a building to an allotment boundary or another building is the  \\ndistance to that point measured along a line at right angles from the allotment boundary or external wall  of the other  \\nbuilding which intersects that point without being obstructed by a wall complying with 9.2.3 . \\n(2) Where a wall within a specified distance is required  to comply with 9.2.3 , only that part of the wall (including any  \\nopenings) within the specified distance need be constructed in that manner (see Figure 9.2.2a , Figure 9.2.2b  and \\nFigure 9.2.2c ). \\n(3) Where the distance measured is between attached or detached buildings of different heights, the distance must be  \\ntaken from the external wall  with the highest elevation measured at right angles to a point that intersects the nearest  \\npart of a vertical projection above the adjacent building, excluding any eave overhang (see Figure 9.2.2d  and Figure  \\n9.2.2e ). \\nSA 9.2.2(4)  Part 9.2 Fire separation of external walls\\n (1 May 2023)']],\n",
       " 'metadatas': [[{'source': 'D:/Documents/data/national construction code/2022\\\\ncc2022-volume-one-20230501.pdf',\n",
       "    'page': 185},\n",
       "   {'source': 'D:/Documents/data/national construction code/2022\\\\ncc2022-volume-one-20230501.pdf',\n",
       "    'page': 193},\n",
       "   {'source': 'D:/Documents/data/national construction code/2022\\\\ncc2022-combined-vol2-housing-provisions-20230501.pdf',\n",
       "    'page': 513}]],\n",
       " 'distances': [[0.9626188278198242, 0.9803008437156677, 0.9991926550865173]]}"
      ]
     },
     "execution_count": 42,
     "metadata": {},
     "output_type": "execute_result"
    }
   ],
   "source": [
    "chromadb_client_3 = chromadb.Client(Settings(\n",
    "    chroma_db_impl=\"duckdb+parquet\",\n",
    "    persist_directory=\"D:/Documents/work/docqa/chroma_db\"\n",
    "))\n",
    "sentence_transformer_ef = embedding_functions.SentenceTransformerEmbeddingFunction(model_name=\"all-MiniLM-L6-v2\")\n",
    "collection_ncc2022_3 = chromadb_client_3.get_or_create_collection(name=\"ncc2022\", embedding_function=sentence_transformer_ef) \n",
    "# file_folder = \"D:/Documents/data/national construction code/2022/*.pdf\"\n",
    "# for f in glob.glob(file_folder):\n",
    "#     print(f'processing {f}')\n",
    "#     pdf_loader = PyPDFLoader(f)\n",
    "#     docs = pdf_loader.load()\n",
    "#     text_splitter = CharacterTextSplitter(chunk_size=2000, chunk_overlap=0)\n",
    "#     docs = text_splitter.split_documents(docs)\n",
    "#     collection_ncc2022.add(\n",
    "#         documents=[d.page_content for d in docs],\n",
    "#         metadatas=[d.metadata for d in docs],\n",
    "#         ids=[d.metadata['source'] + str(d.metadata['page']) for d in docs]\n",
    "#     )\n",
    "# chromadb_client.persist()\n",
    "print(chromadb_client_3.list_collections())\n",
    "text = collection_ncc2022_3.query(query_texts=[\"What's the maximum travel distance between two fire exits in a shopping center?\"],\n",
    "                     include=['documents', 'distances', 'metadatas'],\n",
    "                     n_results=3)\n",
    "text"
   ]
  },
  {
   "cell_type": "code",
   "execution_count": 37,
   "metadata": {},
   "outputs": [
    {
     "name": "stdout",
     "output_type": "stream",
     "text": [
      "{'ids': [['D:/Documents/data/national construction code/2022\\\\ncc2022-volume-one-20230501.pdf185', 'D:/Documents/data/national construction code/2022\\\\ncc2022-volume-one-20230501.pdf193', 'D:/Documents/data/national construction code/2022\\\\ncc2022-combined-vol2-housing-provisions-20230501.pdf513']], 'embeddings': None, 'documents': [['Access and egress\\nNCC 2022 Volume One - Building Code of Australia Page 186must be not more than 60 m. \\n(6) Assembly buildings — In a Class 9b building other than a school  or early childhood centre , the distance to one of the  \\nexits may be 60 m if—  \\nthe path of travel from the room concerned to that exit is through another area which is a corridor, hallway, lobby,  (a)\\nramp or other circulation space; and  \\nthe room is smoke-separated from the circulation space by construction having an FRL of not less than 60/60/60  (b)\\nwith every doorway in that construction protected by a tight fitting, self-closing , solid-core door not less than 35  \\nmm thick; and \\nthe maximum distance of travel does not exceed 40 m within the room and 20 m from the doorway to the room  (c)\\nthrough the circulation space to the exit. \\nSA D2D5(7)  \\nSA D2D5(8)  \\n \\nSA D2D6  \\n\\u200aD2D6\\u200a \\xa0Distance between alternative exits  \\n[2019: D1.5]  \\nExits  that are required  as alternative means of egress must be—  \\ndistributed as uniformly as practicable within or around the storey  served and in positions where unobstructed  (a)\\naccess to at least 2 exits is readily available from all points on the floor including lift lobby areas; and  \\nnot less than 9 m apart; and (b)\\nnot more than— (c)\\nin a Class 2 or 3 building — 45 m apart; or  (i)\\nin a Class 9a health-care building , if such required  exit serves a patient care area  — 45 m apart; or  (ii)\\nin all other cases — 60 m apart; and  (iii)\\nlocated so that alternative paths of travel do not converge such that they become less than 6 m apart.  (d)\\n\\u200aD2D7\\u200a \\xa0Height of exits, paths of travel to exits and doorways  \\n[2019: D1.6(a)]  \\nIn a required  exit or path of travel to an exit the unobstructed height throughout must be not less than 2 m, except the  \\nunobstructed height of any doorway may be reduced to not less than 1980 mm.  \\n\\u200aD2D8\\u200a \\xa0Width of exits and paths of travel to exits  \\n[2019: D1.6(b), (c), (d) and (e) ] \\n(1) The unobstructed width of each required  exit or path of travel to an exit, except for ladders provided in accordance  \\nwith D2D21 , D3D23  or I3D5 , and doorways, must be not less than—  \\n1 m; or (a)\\n1.8 m in a passageway, corridor or ramp normally used for the transportation of patients in beds within a treatment  (b)\\narea or ward area ; and  \\nin a public corridor  in a Class 9c aged care building , notwithstanding (2) and (3)—  (c)\\n1.5 m; and (i)\\n1.8 m for the full width of the doorway, providing access into a sole-occupancy unit  or communal bathroom.  (ii)\\n(2) If the storey , mezzanine  or open spectator stand  accommodates more than 100 persons but not more than 200  \\npersons, the aggregate unobstructed width of required  exits or paths of travel to an exit, except for doorways, must  \\nbe not less than— \\n1 m plus 250 mm for each 25 persons (or part) in excess of 100; or  (a)D2D5\\n (1 May 2023)', 'Access and egress\\nNCC 2022 Volume One - Building Code of Australia Page 194If more than one corridor, hallway, or other internal path of travel connects required  exits, for the purposes of  (e)\\nD2D6(c)  the measurement is along the path of travel through the point at which travel in different directions to  \\nthose exits is available, as determined in accordance with D2D5 . \\nIf a wall (including a demountable internal wall ) that does not bound a room, corridor, hallway or the like causes  (f)\\na change of direction in proceeding to a required  exit, the distance is measured along the path of travel past that  \\nwall. \\nIf permanent fixed seating is provided, the distance is measured along the path of travel between the rows of  (g)\\nseats. \\nIn the case of a non- fire-isolated stairway  or non- fire-isolated ramp , the distance is measured along a line  (h)\\nconnecting the nosings of the treads, or along the slope of the ramp, together with the distance connecting those  \\nlines across any intermediate landings.  \\n\\u200aD2D21\\u200a \\xa0Plant rooms, lift machine rooms and electricity network substations:  \\nConcession  \\n[2019: D1.16]  \\n(1) A ladder may be used in lieu of a stairway to provide egress from—  \\na plant room with a floor area  of not more than 100 m2; or (a)\\nall but one point of egress from a plant room, a lift machine room or a Class 8 electricity network substation  with (b)\\na floor area  of not more than 200 m2. \\n(2) A ladder permitted under (1)—  \\nmay— (a)\\nform part of an exit provided that in the case of a fire-isolated stairway  it is contained within the shaft ; or (i)\\ndischarge within a storey  in which case it must be considered as forming part of the path of travel; and  (ii)\\nfor a plant room or a Class 8 electricity network substation , must comply with AS 1657; and  (b)\\nfor a lift machine room, where access is provided from within a machine room to a secondary floor, a fixed rung  (c)\\ntype ladder complying with AS 1657 may be used, provided that—  \\nthe height between the floors is not more than 2800 mm; and  (i)\\nthe ladder is inclined at an angle to the horizontal not less than 65 degrees nor more than 75 degrees; and  (ii)\\nthe distance between the front face of the ladder and any adjacent obstruction is not less than—  (iii)\\n960 mm, where the ladder is inclined 65 degrees to the horizontal; or  (A)\\n760 mm, where the ladder is inclined 75 degrees to the horizontal; or  (B)\\na distance that is determined by interpolating the values in (A) and (B), where the ladder is inclined at  (C)\\nany angle between 65 degrees and 75 degrees to the horizontal; and  \\na clear space not less than 600 mm exists between the foot of the ladder and any equipment.  (iv)\\nSA D2D21(3)  \\n\\u200aD2D22\\u200a \\xa0Access to lift pits \\n[2019: D1.17]  \\nAccess to lift pits must— \\nwhere the pit depth is not more than 3 m, be through the lowest landing doors; or  (a)\\nwhere the pit depth is more than 3 m, be provided through an access doorway complying with the following:  (b)\\nIn lieu of D2D7  to D2D11 , the doorway must be level with the pit floor and not be less than 600 mm wide  (i)\\nby 1980 mm high clear opening, which may be reduced to 1500 mm where it is necessary to comply with  \\n(ii). \\nNo part of the lift car or platform must encroach on the pit doorway entrance when the car is on a fully  (ii)\\ncompressed buffer.  D2D20\\n (1 May 2023)', 'Fire safety\\nABCB Housing Provisions Standard 2022 Page 514  \\n \\n \\nSA 9.2.1  \\n\\u200a9.2.1\\u200a \\xa0External walls of Class 1 buildings  \\n[2019: 3.7.2.2]  \\nAn external wall  of a Class 1 building, and any openings in that wall, must comply with 9.2.3  if the wall is less than—  \\n900 mm from an allotment boundary other than the boundary adjoining a road alignment or other public space;  (a)\\nor \\n1.8 m from another building on the same allotment other than a Class 10 building associated with the Class 1  (b)\\nbuilding or a detached part of the same Class 1 building.  \\n\\u200a9.2.2\\u200a \\xa0Measurement of distances  \\n[2019: 3.7.2.3]  \\n(1) The distance from any point on an external wall  of a building to an allotment boundary or another building is the  \\ndistance to that point measured along a line at right angles from the allotment boundary or external wall  of the other  \\nbuilding which intersects that point without being obstructed by a wall complying with 9.2.3 . \\n(2) Where a wall within a specified distance is required  to comply with 9.2.3 , only that part of the wall (including any  \\nopenings) within the specified distance need be constructed in that manner (see Figure 9.2.2a , Figure 9.2.2b  and \\nFigure 9.2.2c ). \\n(3) Where the distance measured is between attached or detached buildings of different heights, the distance must be  \\ntaken from the external wall  with the highest elevation measured at right angles to a point that intersects the nearest  \\npart of a vertical projection above the adjacent building, excluding any eave overhang (see Figure 9.2.2d  and Figure  \\n9.2.2e ). \\nSA 9.2.2(4)  Part 9.2 Fire separation of external walls\\n (1 May 2023)']], 'metadatas': [[{'source': 'D:/Documents/data/national construction code/2022\\\\ncc2022-volume-one-20230501.pdf', 'page': 185}, {'source': 'D:/Documents/data/national construction code/2022\\\\ncc2022-volume-one-20230501.pdf', 'page': 193}, {'source': 'D:/Documents/data/national construction code/2022\\\\ncc2022-combined-vol2-housing-provisions-20230501.pdf', 'page': 513}]], 'distances': [[0.9626188278198242, 0.9803008437156677, 0.9991926550865173]]}\n"
     ]
    }
   ],
   "source": [
    "text = collection_ncc2022.query(query_texts=[\"What's the maximum travel distance between two fire exits in a shopping center?\"],\n",
    "                     include=['documents', 'distances', 'metadatas'],\n",
    "                     n_results=3)\n",
    "print(text)"
   ]
  },
  {
   "cell_type": "code",
   "execution_count": 13,
   "metadata": {},
   "outputs": [],
   "source": [
    "def build_prompt_with_context(question, context):\n",
    "    system_prompt = {\n",
    "        \"role\": \"system\",\n",
    "        \"content\": \"\"\"You are a helpful assistant who knows a lot about architecture standards in Australia. \n",
    "        I will ask you questions about architecture standards. I will provide a number of relevant paragraphs extracted from \n",
    "        the architecture standards for your reference.\"\"\"\n",
    "    }\n",
    "    user_prompt = {\n",
    "        \"role\": \"user\",\n",
    "        \"content\": f\"\"\"\n",
    "        Please help me on the question delimited by ``` regarding archituecture standards in Australia. The texts delimited by === are \n",
    "        a number of paragraphs extracted from National Construction Code. You can use the texts as reference. Please provide your reply in format of json with 3 fields: \"answer\",\n",
    "        \"confidence score\" between 0 to 1, and \"source\" which are the original clauses supporting your answer. \n",
    "        \n",
    "        Question:```\n",
    "        {question}\n",
    "        ```\n",
    "        Texts:===\n",
    "        {os.linesep.join(context)}\n",
    "        ===\n",
    "        \"\"\"\n",
    "    }\n",
    "    return [system_prompt,\n",
    "            user_prompt]\n",
    "\n",
    "\n",
    "\n"
   ]
  },
  {
   "cell_type": "code",
   "execution_count": 8,
   "metadata": {},
   "outputs": [
    {
     "data": {
      "text/plain": [
       "<OpenAIObject chat.completion id=chatcmpl-7DPEUY9XE2HKBMpyIo47h1aYYB9n9 at 0x17d1034cae0> JSON: {\n",
       "  \"choices\": [\n",
       "    {\n",
       "      \"finish_reason\": \"stop\",\n",
       "      \"index\": 0,\n",
       "      \"message\": {\n",
       "        \"content\": \"Based on the National Construction Code, a shopping center would fall under the Class 6 category in Australia, as it is a commercial building that serves more than one tenant. Regarding fire stairs, if a Class 6 building has a single storey, a fire-isolated stairway serving the Class 6 should have an automatic smoke detection and alarm system complying with Specification 20. If a Class 6 building has more than one storey, air pressurisation system must be fitted for the fire-isolated exits. The answer confidence is 0.9 as the source clearly mentions that shopping center belongs to Class 6, but it does not explicitly mention the required distance for fire stairs. \\n\\nAnswer: \\n{\\n    \\\"answer\\\": \\\"A shopping center belongs to Class 6 in the building classification in Australia. Fire stairs requirements depend on the height and storey number of the building, but if the building is Class 6 and has more than one storey, an air pressurisation system must be installed for the fire-isolated exits, or an automatic smoke detection and alarm system is required if the building is single storey.\\\",\\n    \\\"confidence_score\\\": 0.9,\\n    \\\"source\\\": \\\"(1) A building not more than 25 m in effective height  that\\u2014 is a Class 5 or 9b school  building or part of a building having a rise in storeys  of more than 3; or (a) is a Class 6, 7b, 8 or 9b building (other than a school ) or part of a building having a rise in storeys  of more than (b) 2; or ...\\\"\\n}\",\n",
       "        \"role\": \"assistant\"\n",
       "      }\n",
       "    }\n",
       "  ],\n",
       "  \"created\": 1683429614,\n",
       "  \"id\": \"chatcmpl-7DPEUY9XE2HKBMpyIo47h1aYYB9n9\",\n",
       "  \"model\": \"gpt-3.5-turbo-0301\",\n",
       "  \"object\": \"chat.completion\",\n",
       "  \"usage\": {\n",
       "    \"completion_tokens\": 341,\n",
       "    \"prompt_tokens\": 2856,\n",
       "    \"total_tokens\": 3197\n",
       "  }\n",
       "}"
      ]
     },
     "execution_count": 8,
     "metadata": {},
     "output_type": "execute_result"
    }
   ],
   "source": [
    "question = \"What class of building does a shopping center belong to? What distance should fire staires of shopping center be?\"\n",
    "texts = collection_ncc2022.query(query_texts=[question],\n",
    "                     include=['documents', 'distances', 'metadatas'],\n",
    "                     n_results=3\n",
    "                     )\n",
    "messages = build_prompt_with_context(question, texts['documents'][0])\n",
    "response = openai.ChatCompletion.create(\n",
    "            model='gpt-3.5-turbo',\n",
    "            messages=messages,\n",
    "            max_tokens=1000,\n",
    "        )\n",
    "response"
   ]
  },
  {
   "cell_type": "code",
   "execution_count": 44,
   "metadata": {},
   "outputs": [
    {
     "data": {
      "text/plain": [
       "{'ids': [['D:/Documents/data/national construction code\\\\NCC_2019_BCA_Guide.pdf217',\n",
       "   'D:/Documents/data/national construction code\\\\NCC_2019_BCA_Guide.pdf93',\n",
       "   'D:/Documents/data/national construction code\\\\ncc2022-volume-one-20230501.pdf245']],\n",
       " 'embeddings': None,\n",
       " 'documents': [['Services and equipment \\nNCC 2019 Guide to BCA Volume One Page 218 Figure E2.2b(1) Plan of shopping centre for Example 1 \\nThe specific smoke hazard management provisions for Class 6 buildings containing shops and an enclosed common \\nwalkway or mall are similar. Where such a building has a fire compartment with a floor area of more than 2 000 m 2, an \\nautomatic smoke exhaust system or an automatic smoke-and-heat vent system to control smoke during a fire is required. \\nHowever, where a single storey shop does not open onto the mall and its main public entrance opens to a road or open \\nspace, it does not need to have any smoke exhaust or smoke venting, if its floor area does not exceed 2 000 m 2. This is \\nsimilar to the concession for a shop in a building which does not contain a mall. \\nAnother concession applies to shops that open onto the mall. They do not need to have any smoke exhaust or smoke \\nventing system if their individual floor areas are less than 1 000m 2. \\nA concession is also available for another part of the building with a different classification (i.e. other than Class 6) which \\nis smoke separated, including openings, junctions and joints of building elements, etc., from the Class 6 part. \\nIn a Class 6 building containing a mall, a sprinkler system can also be used in lieu of a required automatic smoke exhaust \\nsystem or an automatic smoke-and-heat vent system, if the floor area of the whole fire compartment is not more than 3 \\n500 m 2.\\nExample 2: Single storey shopping complex containing a mall \\nExample 2 \\nExample 2 looks at a single storey shopping complex containing a mall, as shown in Figure E2.2b(2) . The fire \\ncompartment is 15 900 m 2, therefore smoke exhaust/venting is required (if the floor area of the fire compartment had \\nbeen less than 3 500 m 2, a sprinkler system could have been used instead of a smoke exhaust/venting system). Smoke \\nexhaust or venting is not required to shop B, which opens onto the mall, because the floor area is less than 1 000 m 2.\\nIt is also not required to shop D, because the floor area is less than 2 000 m 2, it does not open onto the mall, and the \\nmain entrance is to a road or open space. \\nShop Area Entry Smoke exhaust OR smoke-and- \\nheat vents \\nA 900 m 2From open space None required as it is single storey, \\nthe floor area is less than 2 000 m 2\\nand the main entrance opens to a \\nroad or open space \\nB 900 m 2From mall None required as the floor area is E2.3',\n",
       "   'Fire resistance \\nNCC 2019 Guide to BCA Volume One Page 94 lining or a ceiling lining. \\nThe locations within the building referred to in Table 3 are fire-isolated exits, fire control rooms, public corridors, \\nspecific areas and other areas. The definition of specific areas differs according to the use of the building. The specific \\nareas are as follows: \\nfor Class 2 and 3 buildings, a sole-occupancy unit; •\\nfor Class 5 buildings, open plan offices with a minimum floor dimension/floor to ceiling height ratio >5; •\\nfor Class 6 buildings, shops or other buildings with a minimum floor dimension/floor to ceiling height ratio •\\n>5; \\nfor Class 9a health care buildings, patient care areas; •\\nfor Class 9b theatres and halls, etc, an auditorium; •\\nfor Class 9b schools, a classroom; and •\\nfor Class 9c buildings, resident use areas. •\\nFor Class 5 and 6 buildings, the minimum floor dimension and the floor to ceiling height need to be considered when \\ndetermining “specific areas”. An area is a specific area if the minimum floor dimension/floor to ceiling height ratio is \\nmore than 5. \\n“Other areas” are areas which are not either a fire-isolated exit, a public corridor or a “specific area”. \\nThe requirements differ between the building classifications. These requirements are based on research which \\nindicated that the required egress time differed between the building’s classifications and therefore proposed levels \\nof control needed to be greater. \\nClause 4(a) contains requirements dealing with a material’s smoke development rate. The requirements only apply \\nwhere the wall and/or ceiling lining material is installed in a building that does not have a sprinkler system complying \\nwith Specification E1.5 (other than a FPAA101D or FPAA101H system). \\n5\\u200a  Air-handling ductwork \\nAir-handling ductwork has the potential to cause the rapid spread of fire throughout a building. It is important that \\nthe materials used in its construction are appropriate to avoid this potentially dangerous situation. The particular \\nrequirements are covered by AS 4254. \\n6\\u200a  Lift cars \\nLift cars are small, enclosed spaces, with minimal ventilation and no active fire suppression equipment. They also \\nhave no immediate means of egress. The materials used in their construction must be appropriate to avoid a \\npotentially dangerous situation. The particular requirements are outlined in AS 1735.2. The appropriate Occupational \\nHealth and Safety Authorities also enforce these requirements. \\nAdditionally, floor linings and floor coverings must have a critical radiant flux of not less than 2.2, and the wall linings \\nand ceiling linings must be either a Group 1 material or  a Group 2 material, which are similar to those required in \\npublic corridors. Example \\nConsider the case of a Class 5 building having a 15 m by 20 m open plan office with a ceiling height of 2.5 m. The \\nbuilding also contains an enclosed office having a floor plan of 3 m by 4 m. \\nFor the open plan office area, as the minimum floor dimension (15 m) divided by the ceiling height (2.5 m) is 6, i.e. \\nmore than 5, it would be deemed a “specific area” and therefore wall and ceiling linings in the area would need to \\ncomply with the requirements for Class 5 “specific areas”. \\nFor the enclosed office, as the minimum floor dimension (3 m) divided by the ceiling height (2.5 m) is 1.2, i.e. less than \\n5, it would not be deemed to be a “specific area” and therefore wall and ceiling linings in the enclosed office would \\nneed to comply with the requirements for Class 5 “other areas”. \\nIntent \\nTo specify requirements for air-handling ductwork. \\nIntent \\nTo specify requirements for lift cars. 4',\n",
       "   'Services and equipment\\nNCC 2022 Volume One - Building Code of Australia Page 246if the building is more than 25 m in effective height . \\n(2) For the purposes of (1), ‘vertically separated fire compartments ’ are fire compartments  above and below each other,\\nand not fire compartments  within the same storey .\\nNotes \\nA building more than 25 m in effective height  requires a sprinkler system under E1D4 . \\n\\u200aE2D8\\u200a \\xa0Buildings not more than 25 m in effective height: Class 2 and 3 buildings  \\nand Class 4 part of a building  \\n[2019: Table E2.2a]  \\nIn a Class 2 and 3 building or part of a building, or Class 4 part of a building, if the building is not more than 25 m in  \\neffective height — \\nit must be provided with an automatic  smoke detection and alarm system complying with Specification 20 ; and (a)\\nwhere a required  fire-isolated stairway  serving the Class 2 or 3 parts also serves one or more storeys  of Class (b)\\n5, 6, 7 (other than an open-deck carpark ), 8 or 9b parts—\\nthe fire-isolated stairway , including any associated fire-isolated passageway  or fire-isolated ramp , must be (i)\\nprovided with an automatic  air pressurisation system for fire-isolated exits in accordance with AS 1668.1;\\nor\\nthe Class 5, 6, 7 (other than an open-deck carpark ), 8 and 9b parts must be provided with— (ii)\\nan automatic  smoke detection and alarm system complying with Specification 20 ; or (A)\\na sprinkler system (other than a FP\\nAA101D or FPAA101H system) complying with Specification 17 ; (B)\\nand\\nwhere a required  fire-isolated stairway  serving the Class 4 part also serves one or more storeys  of Class 5, 6, 7 (c)\\n(other than an open-deck carpark ), 8 or 9b parts—\\na system complying with (b)(i) or (b)(ii) must be installed; or (i)\\na smoke alarm or detector system complying with Specification 20  must be provided except that alarms or (ii)\\ndetectors need only be installed adjacent to each doorway into each fire-isolated stairway  (set back\\nhorizontally from the doorway by a distance of not more than 1.5 m) to initiate a building occupant warning\\nsystem for the Class 4 part.\\nNotes \\nRefer to C3D15  for division of public corridors  greater than 40 m in length. (1)\\nRefer to E2D14  to E2D20  for specific provisions applicable to a Class 6 (in a fire compartment  having a floor area (2)\\nof more than 2000 m2) and Class 9b building or part of a building.\\n\\u200aE2D9\\u200a \\xa0Buildings not more than 25 m in effective height: Class 5, 6, 7b, 8 and 9b  \\nbuildings \\n[2019: Table E2.2a]  \\n(1) A building not more than 25 m in effective height  that—\\nis a Class 5 or 9b school  building or part of a building having a rise in storeys  of more than 3; or (a)\\nis a Class 6, 7b, 8 or 9b building (other than a school ) or part of a building having a rise in storeys  of more than (b)\\n2; or\\nhas a rise in storeys  of more than 2 and contains— (c)\\na Class 5 or 9b school  part; and (i)\\na Class 6, 7b, 8 or 9b (other than a school ) part, (ii)E2D7\\n (1 May 2023)']],\n",
       " 'metadatas': [[{'source': 'D:/Documents/data/national construction code\\\\NCC_2019_BCA_Guide.pdf',\n",
       "    'page': 217},\n",
       "   {'source': 'D:/Documents/data/national construction code\\\\NCC_2019_BCA_Guide.pdf',\n",
       "    'page': 93},\n",
       "   {'source': 'D:/Documents/data/national construction code\\\\ncc2022-volume-one-20230501.pdf',\n",
       "    'page': 245}]],\n",
       " 'distances': [[0.8253273367881775, 0.8670549988746643, 0.9279711246490479]]}"
      ]
     },
     "execution_count": 44,
     "metadata": {},
     "output_type": "execute_result"
    }
   ],
   "source": [
    "texts"
   ]
  },
  {
   "cell_type": "code",
   "execution_count": 45,
   "metadata": {},
   "outputs": [
    {
     "data": {
      "text/plain": [
       "<OpenAIObject chat.completion id=chatcmpl-7DBmgsxthsbyrBtt5OxfXPUhrz4fb at 0x1909f935120> JSON: {\n",
       "  \"choices\": [\n",
       "    {\n",
       "      \"finish_reason\": \"stop\",\n",
       "      \"index\": 0,\n",
       "      \"message\": {\n",
       "        \"content\": \"The required distance for fire stairs within a shopping center in Australia is not explicitly stated in the given text. However, the NCC 2019 Guide to BCA Volume One provides information on the width of stairways and ramps where it states that the maximum width of the stairway should be limited to 2 meters, which allows for a reach of 1 meter to either side of the barrier. Wider stairways are allowed but are deemed to add no more than 2 meters of aggregate width. The guide also specifies safe gradients for ramps used as required exits. In case of a shopping center, the required distance for fire stairs would be determined based on the use and size of the building, as well as other factors such as building materials, fire safety systems, among others. Therefore, it is recommended that you consult the local building codes and regulations for specific requirements. \\n\\n{\\n\\\"answer\\\": \\\"The required distance for fire stairs within a shopping center in Australia is not explicitly stated in the given text. However, the NCC 2019 Guide to BCA Volume One provides information on the width of stairways and ramps where it states that the maximum width of the stairway should be limited to 2 meters.\\\",\\n\\\"confidence_score\\\": 0.6,\\n\\\"source\\\": \\\"NCC 2019 Guide to BCA Volume One Page 160 Figure D2.8 Section showing enclosure of space below fire-isolated stairway D2.9 Width of stairways and ramps D2.10  Pedestrian ramps D1.6(h)(i) and (ii)\\\" \\n}\",\n",
       "        \"role\": \"assistant\"\n",
       "      }\n",
       "    }\n",
       "  ],\n",
       "  \"created\": 1683377918,\n",
       "  \"id\": \"chatcmpl-7DBmgsxthsbyrBtt5OxfXPUhrz4fb\",\n",
       "  \"model\": \"gpt-3.5-turbo-0301\",\n",
       "  \"object\": \"chat.completion\",\n",
       "  \"usage\": {\n",
       "    \"completion_tokens\": 321,\n",
       "    \"prompt_tokens\": 1074,\n",
       "    \"total_tokens\": 1395\n",
       "  }\n",
       "}"
      ]
     },
     "execution_count": 45,
     "metadata": {},
     "output_type": "execute_result"
    }
   ],
   "source": [
    "question = \"What distance should fire staires of shopping center be?\"\n",
    "texts = collection_ncc2022.query(query_texts=[question],\n",
    "                     include=['documents', 'distances', 'metadatas'],\n",
    "                     n_results=3\n",
    "                     )\n",
    "messages = build_prompt_with_context(question, texts['documents'][0])\n",
    "response = openai.ChatCompletion.create(\n",
    "            model='gpt-3.5-turbo',\n",
    "            messages=messages,\n",
    "            max_tokens=1000,\n",
    "        )\n",
    "response"
   ]
  },
  {
   "cell_type": "code",
   "execution_count": 33,
   "metadata": {},
   "outputs": [
    {
     "data": {
      "text/plain": [
       "<OpenAIObject chat.completion id=chatcmpl-7DAg1VCQvHiaA9TdhOTMmWmnjJolO at 0x1909b0c9260> JSON: {\n",
       "  \"choices\": [\n",
       "    {\n",
       "      \"finish_reason\": \"stop\",\n",
       "      \"index\": 0,\n",
       "      \"message\": {\n",
       "        \"content\": \"Answer: \\nA shopping center belongs to Class 6 of the building classification according to the National Construction Code in Australia. Class 6 includes buildings that are for the sale of goods by retail or the supply of services directly to the public, including eating rooms, cafes, restaurants, and service stations. \\n\\nConfidence Score: 0.95\\n\\nSource: \\n- A3.2 General Provisions of the National Construction Code (NCC) 2015 Building Code of Australia - Volume One. Specifically, Class 6 is defined as \\\"a shop or other building for the sale of goods by retail or the supply of services direct to the public, including\\u2014(a) an eating room, caf\\u00e9, restaurant, milk or soft-drink bar; or (b) a dining room, bar area that is not an assembly building, shop or kiosk part of a hotel or motel; or (c) a hairdresser\\u2019s or barber\\u2019s shop, public laundry, or undertaker\\u2019s establishment; or (d) market or sale room, showroom, or service station.\\\"\",\n",
       "        \"role\": \"assistant\"\n",
       "      }\n",
       "    }\n",
       "  ],\n",
       "  \"created\": 1683373661,\n",
       "  \"id\": \"chatcmpl-7DAg1VCQvHiaA9TdhOTMmWmnjJolO\",\n",
       "  \"model\": \"gpt-3.5-turbo-0301\",\n",
       "  \"object\": \"chat.completion\",\n",
       "  \"usage\": {\n",
       "    \"completion_tokens\": 218,\n",
       "    \"prompt_tokens\": 2057,\n",
       "    \"total_tokens\": 2275\n",
       "  }\n",
       "}"
      ]
     },
     "execution_count": 33,
     "metadata": {},
     "output_type": "execute_result"
    }
   ],
   "source": [
    "question = \"What class of building does a shopping center belong to?\"\n",
    "texts = collection_ncc2022.query(query_texts=[question],\n",
    "                     include=['documents', 'distances', 'metadatas'],\n",
    "                     n_results=3\n",
    "                     )\n",
    "messages = build_prompt_with_context(question, texts['documents'][0])\n",
    "response = openai.ChatCompletion.create(\n",
    "            model='gpt-3.5-turbo',\n",
    "            messages=messages,\n",
    "            max_tokens=1000,\n",
    "        )\n",
    "response"
   ]
  },
  {
   "cell_type": "code",
   "execution_count": 46,
   "metadata": {},
   "outputs": [
    {
     "data": {
      "text/plain": [
       "<OpenAIObject chat.completion id=chatcmpl-7DBnevqFAJMrCky1JuIXWcLgQfxev at 0x1909b0de750> JSON: {\n",
       "  \"choices\": [\n",
       "    {\n",
       "      \"finish_reason\": \"stop\",\n",
       "      \"index\": 0,\n",
       "      \"message\": {\n",
       "        \"content\": \"Based on the NCC 2019 Guide to BCA Volume One, the required width for stairways is a maximum of 2 meters, effectively permitting a reach of 1 meter to either side. Wider stairways are permitted, with more than 2 meters between the handrails, but are deemed to add no more than 2 meters to the aggregate required width. There are, however, no specific length requirements for fire stairways of shopping centers in Australia mentioned in this text. Therefore, I cannot provide a confident answer to your question.\",\n",
       "        \"role\": \"assistant\"\n",
       "      }\n",
       "    }\n",
       "  ],\n",
       "  \"created\": 1683377978,\n",
       "  \"id\": \"chatcmpl-7DBnevqFAJMrCky1JuIXWcLgQfxev\",\n",
       "  \"model\": \"gpt-3.5-turbo-0301\",\n",
       "  \"object\": \"chat.completion\",\n",
       "  \"usage\": {\n",
       "    \"completion_tokens\": 111,\n",
       "    \"prompt_tokens\": 1075,\n",
       "    \"total_tokens\": 1186\n",
       "  }\n",
       "}"
      ]
     },
     "execution_count": 46,
     "metadata": {},
     "output_type": "execute_result"
    }
   ],
   "source": [
    "question = \"What length of fire stairways of shopping centers should be?\"\n",
    "texts = collection_ncc2022.query(query_texts=[question],\n",
    "                     include=['documents', 'distances', 'metadatas'],\n",
    "                     n_results=3\n",
    "                     )\n",
    "messages = build_prompt_with_context(question, texts['documents'][0])\n",
    "response = openai.ChatCompletion.create(\n",
    "            model='gpt-3.5-turbo',\n",
    "            messages=messages,\n",
    "            max_tokens=1000,\n",
    "        )\n",
    "response"
   ]
  },
  {
   "cell_type": "code",
   "execution_count": 20,
   "metadata": {},
   "outputs": [
    {
     "data": {
      "text/plain": [
       "<OpenAIObject chat.completion id=chatcmpl-7EGMHxVMEqZm2OQSdLmlF53P7kgEl at 0x158394acf90> JSON: {\n",
       "  \"choices\": [\n",
       "    {\n",
       "      \"finish_reason\": \"stop\",\n",
       "      \"index\": 0,\n",
       "      \"message\": {\n",
       "        \"content\": \"Based on the text, the maximum travel distance allowed between two fire exits in a shopping center is 60 meters, as stated in SA D2D6. The maximum distance may only exceed 60 meters if specific requirements are met, such as the room being smoke-separated from the circulation space by a construction with an FRL of not less than 60/60/60, and the maximum distance of travel not exceeding 40 meters within the room and 20 meters from the doorway. The confidence score for this answer is high since the text clearly states the distance between alternative fire exits for Class 2 and 3 buildings and in health-care buildings (45 meters apart) and for all other cases (60 meters apart). \\n\\n{\\n    \\\"answer\\\": \\\"The maximum travel distance allowed between two fire exits in a shopping center is 60 meters.\\\",\\n    \\\"confidence\\\": 0.9,\\n    \\\"source\\\": \\\"SA D2D6\\\"\\n}\",\n",
       "        \"role\": \"assistant\"\n",
       "      }\n",
       "    }\n",
       "  ],\n",
       "  \"created\": 1683633829,\n",
       "  \"id\": \"chatcmpl-7EGMHxVMEqZm2OQSdLmlF53P7kgEl\",\n",
       "  \"model\": \"gpt-3.5-turbo-0301\",\n",
       "  \"object\": \"chat.completion\",\n",
       "  \"usage\": {\n",
       "    \"completion_tokens\": 191,\n",
       "    \"prompt_tokens\": 2342,\n",
       "    \"total_tokens\": 2533\n",
       "  }\n",
       "}"
      ]
     },
     "execution_count": 20,
     "metadata": {},
     "output_type": "execute_result"
    }
   ],
   "source": [
    "question = \"What's the maximum travel distance between two fire exits in a shopping center?\"\n",
    "texts = collection_ncc2022.query(query_texts=[question],\n",
    "                     include=['documents', 'distances', 'metadatas'],\n",
    "                     n_results=3\n",
    "                     )\n",
    "messages = build_prompt_with_context(question, texts['documents'][0])\n",
    "response = openai.ChatCompletion.create(\n",
    "            model='gpt-3.5-turbo',\n",
    "            messages=messages,\n",
    "            max_tokens=1000,\n",
    "        )\n",
    "response"
   ]
  },
  {
   "cell_type": "code",
   "execution_count": 48,
   "metadata": {},
   "outputs": [
    {
     "data": {
      "text/plain": [
       "{'ids': [['D:/Documents/data/national construction code\\\\NCC_2019_BCA_Guide.pdf129',\n",
       "   'D:/Documents/data/national construction code\\\\NCC_2019_BCA_Guide.pdf128',\n",
       "   'D:/Documents/data/national construction code\\\\NCC_2019_BCA_Guide.pdf136']],\n",
       " 'embeddings': None,\n",
       " 'documents': [['Access and egress \\nNCC 2019 Guide to BCA Volume One Page 130 blocked. \\nUniform distribution of exits— D1.5(a) \\nD1.5(a) requires that where multiple exits exist, they must be distributed as uniformly as practicable to improve the level \\nof safety when evacuating. \\nMinimum and maximum distances are set \\nD1.5 specifies the minimum and maximum permitted distances between alternative exits (for example, two exits may be \\nlocated next to one another, so long as they are not each other’s alternative in an emergency). Where scissor stairs are \\nused, the shafts will be adjacent and separated by fire-resisting construction. However, the access doors to the alternative \\nscissor stairs must comply with the minimum separation distance. \\nMinimum distance— D1.5(b) \\nThe minimum distance minimises the risk of fire spreading to block the alternative exit. \\nMaximum distance— D1.5(c) \\nThe maximum distance between alternative exits minimises the need to travel too far to reach an exit. \\nConvergence distance— D1.5(d) \\nIf alternative paths of travel converge too closely, both paths can be blocked by the same fire. The minimum distance \\nbetween the paths of travel aims to negate this. \\nThe minimum convergence distance only comes into operation when the paths of travel have already diverged to that \\ndistance. The paths can commence more closely together than the distance specified. \\nMethod of measurement \\nThe travel distances specified in D1.5 are measured in accordance with D1.15 .\\nFigure D1.5(1) illustrates the method of measuring the maximum and minimum distances between exits. D1.5',\n",
       "   'Access and egress \\nNCC 2019 Guide to BCA Volume One Page 129 Figure D1.4(2) Distance to exits in Class 5 to Class 9 buildings \\nOpen spectator stands— D1.4(e) \\nThe construction of an open spectator stand is such that the build up of smoke is unlikely. Greater distances of travel to \\nan exit are therefore permitted. \\nAssembly buildings— D1.4(f) \\nThe concession available for assembly buildings is based on a specific level of fire and smoke separation being provided \\nbetween the area being evacuated and the circulation space passed through to reach an exit. \\nTo obtain the concession, D1.4(f)(iii) limits the distance of travel through the room being evacuated and across the \\ncirculation space outside that room to the exit. \\nD1.5\\u200a  Distance between alternative exits \\nWhy is this matter regulated? \\nWhere a building requires multiple exits, the exits maximise the choices of a person evacuating, in case one exit becomes \\nIntent \\nTo require that if an exit is inaccessible, access to any required alternative exit must be available within a reasonable \\ndistance. D1.4',\n",
       "   'Access and egress \\nNCC 2019 Guide to BCA Volume One Page 137 D1.7\\u200a  Travel via fire-isolated exits \\nAccess to fire-isolated exits— D1.7(a) \\nD1.7(a) requires that a doorway must not open into a fire-isolated exit unless it opens from a public area, a sole-occupancy \\nunit which occupies a whole floor, or a toilet. This is to limit the number of entry points into a fire-isolated exit to retain its \\nfire-resisting performance. \\nNote that D1.7(a)(i) refers to a “public corridor, public lobby, or the like”. A smoke lobby which serves at least two sole- \\noccupancy units is a “public lobby”, and can open directly into a fire-isolated exit. Figure D1.7(1) illustrates permitted and \\nprohibited entry into a fire-isolated passageway from sole-occupancy units in a shopping centre. \\nDischarge to areas not roads and open spaces— D1.7(b) \\nD1.7(b)(i) requires fire-isolated exits to discharge to roads or open spaces. However, there are some exemptions: \\nD1.7(b)(ii) sets out the requirements for a fire-isolated exit to discharge into an area within a building (including •\\nthe requirement that it be open for at least two thirds of its perimeter, to aid smoke ventilation); and \\nD1.7(b)(iii) sets out the requirements for a fire-isolated exit to discharge into a covered area outside the building •\\n(including the requirement that it be open for at least one third of its perimeter, to aid smoke ventilation). Intent \\nTo enable occupants to safely enter a fire-isolated exit which discharges to a safe location. D1.6']],\n",
       " 'metadatas': [[{'source': 'D:/Documents/data/national construction code\\\\NCC_2019_BCA_Guide.pdf',\n",
       "    'page': 129},\n",
       "   {'source': 'D:/Documents/data/national construction code\\\\NCC_2019_BCA_Guide.pdf',\n",
       "    'page': 128},\n",
       "   {'source': 'D:/Documents/data/national construction code\\\\NCC_2019_BCA_Guide.pdf',\n",
       "    'page': 136}]],\n",
       " 'distances': [[0.8493850231170654, 0.8558542132377625, 0.9145013093948364]]}"
      ]
     },
     "execution_count": 48,
     "metadata": {},
     "output_type": "execute_result"
    }
   ],
   "source": [
    "texts"
   ]
  },
  {
   "cell_type": "code",
   "execution_count": 24,
   "metadata": {},
   "outputs": [
    {
     "ename": "IndexError",
     "evalue": "list index out of range",
     "output_type": "error",
     "traceback": [
      "\u001b[1;31m---------------------------------------------------------------------------\u001b[0m",
      "\u001b[1;31mIndexError\u001b[0m                                Traceback (most recent call last)",
      "Cell \u001b[1;32mIn[24], line 2\u001b[0m\n\u001b[0;32m      1\u001b[0m question \u001b[39m=\u001b[39m \u001b[39m\"\u001b[39m\u001b[39mWhat class building is a shopping center? What\u001b[39m\u001b[39m'\u001b[39m\u001b[39ms the maximum travel distance between two fire exits in a shopping center?\u001b[39m\u001b[39m\"\u001b[39m\n\u001b[1;32m----> 2\u001b[0m texts \u001b[39m=\u001b[39m collection_ncc2022\u001b[39m.\u001b[39;49mquery(query_texts\u001b[39m=\u001b[39;49m[question],\n\u001b[0;32m      3\u001b[0m                      include\u001b[39m=\u001b[39;49m[\u001b[39m'\u001b[39;49m\u001b[39mdocuments\u001b[39;49m\u001b[39m'\u001b[39;49m, \u001b[39m'\u001b[39;49m\u001b[39mdistances\u001b[39;49m\u001b[39m'\u001b[39;49m, \u001b[39m'\u001b[39;49m\u001b[39mmetadatas\u001b[39;49m\u001b[39m'\u001b[39;49m],\n\u001b[0;32m      4\u001b[0m                      n_results\u001b[39m=\u001b[39;49m\u001b[39m3\u001b[39;49m\n\u001b[0;32m      5\u001b[0m                      )\n\u001b[0;32m      6\u001b[0m messages \u001b[39m=\u001b[39m build_prompt_with_context(question, texts[\u001b[39m'\u001b[39m\u001b[39mdocuments\u001b[39m\u001b[39m'\u001b[39m][\u001b[39m0\u001b[39m])\n\u001b[0;32m      7\u001b[0m response \u001b[39m=\u001b[39m openai\u001b[39m.\u001b[39mChatCompletion\u001b[39m.\u001b[39mcreate(\n\u001b[0;32m      8\u001b[0m             model\u001b[39m=\u001b[39m\u001b[39m'\u001b[39m\u001b[39mgpt-3.5-turbo\u001b[39m\u001b[39m'\u001b[39m,\n\u001b[0;32m      9\u001b[0m             messages\u001b[39m=\u001b[39mmessages,\n\u001b[0;32m     10\u001b[0m             max_tokens\u001b[39m=\u001b[39m\u001b[39m1000\u001b[39m,\n\u001b[0;32m     11\u001b[0m         )\n",
      "File \u001b[1;32md:\\Documents\\work\\langchain-study\\python310\\lib\\site-packages\\chromadb\\api\\models\\Collection.py:202\u001b[0m, in \u001b[0;36mCollection.query\u001b[1;34m(self, query_embeddings, query_texts, n_results, where, where_document, include)\u001b[0m\n\u001b[0;32m    199\u001b[0m \u001b[39mif\u001b[39;00m where_document \u001b[39mis\u001b[39;00m \u001b[39mNone\u001b[39;00m:\n\u001b[0;32m    200\u001b[0m     where_document \u001b[39m=\u001b[39m {}\n\u001b[1;32m--> 202\u001b[0m \u001b[39mreturn\u001b[39;00m \u001b[39mself\u001b[39;49m\u001b[39m.\u001b[39;49m_client\u001b[39m.\u001b[39;49m_query(\n\u001b[0;32m    203\u001b[0m     collection_name\u001b[39m=\u001b[39;49m\u001b[39mself\u001b[39;49m\u001b[39m.\u001b[39;49mname,\n\u001b[0;32m    204\u001b[0m     query_embeddings\u001b[39m=\u001b[39;49mquery_embeddings,\n\u001b[0;32m    205\u001b[0m     n_results\u001b[39m=\u001b[39;49mn_results,\n\u001b[0;32m    206\u001b[0m     where\u001b[39m=\u001b[39;49mwhere,\n\u001b[0;32m    207\u001b[0m     where_document\u001b[39m=\u001b[39;49mwhere_document,\n\u001b[0;32m    208\u001b[0m     include\u001b[39m=\u001b[39;49minclude,\n\u001b[0;32m    209\u001b[0m )\n",
      "File \u001b[1;32md:\\Documents\\work\\langchain-study\\python310\\lib\\site-packages\\chromadb\\api\\local.py:247\u001b[0m, in \u001b[0;36mLocalAPI._query\u001b[1;34m(self, collection_name, query_embeddings, n_results, where, where_document, include)\u001b[0m\n\u001b[0;32m    238\u001b[0m \u001b[39mdef\u001b[39;00m \u001b[39m_query\u001b[39m(\n\u001b[0;32m    239\u001b[0m     \u001b[39mself\u001b[39m,\n\u001b[0;32m    240\u001b[0m     collection_name,\n\u001b[1;32m   (...)\u001b[0m\n\u001b[0;32m    245\u001b[0m     include: Include \u001b[39m=\u001b[39m [\u001b[39m\"\u001b[39m\u001b[39mdocuments\u001b[39m\u001b[39m\"\u001b[39m, \u001b[39m\"\u001b[39m\u001b[39mmetadatas\u001b[39m\u001b[39m\"\u001b[39m, \u001b[39m\"\u001b[39m\u001b[39mdistances\u001b[39m\u001b[39m\"\u001b[39m],\n\u001b[0;32m    246\u001b[0m ):\n\u001b[1;32m--> 247\u001b[0m     uuids, distances \u001b[39m=\u001b[39m \u001b[39mself\u001b[39;49m\u001b[39m.\u001b[39;49m_db\u001b[39m.\u001b[39;49mget_nearest_neighbors(\n\u001b[0;32m    248\u001b[0m         collection_name\u001b[39m=\u001b[39;49mcollection_name,\n\u001b[0;32m    249\u001b[0m         where\u001b[39m=\u001b[39;49mwhere,\n\u001b[0;32m    250\u001b[0m         where_document\u001b[39m=\u001b[39;49mwhere_document,\n\u001b[0;32m    251\u001b[0m         embeddings\u001b[39m=\u001b[39;49mquery_embeddings,\n\u001b[0;32m    252\u001b[0m         n_results\u001b[39m=\u001b[39;49mn_results,\n\u001b[0;32m    253\u001b[0m     )\n\u001b[0;32m    255\u001b[0m     include_embeddings \u001b[39m=\u001b[39m \u001b[39m\"\u001b[39m\u001b[39membeddings\u001b[39m\u001b[39m\"\u001b[39m \u001b[39min\u001b[39;00m include\n\u001b[0;32m    256\u001b[0m     include_documents \u001b[39m=\u001b[39m \u001b[39m\"\u001b[39m\u001b[39mdocuments\u001b[39m\u001b[39m\"\u001b[39m \u001b[39min\u001b[39;00m include\n",
      "File \u001b[1;32md:\\Documents\\work\\langchain-study\\python310\\lib\\site-packages\\chromadb\\db\\clickhouse.py:503\u001b[0m, in \u001b[0;36mClickhouse.get_nearest_neighbors\u001b[1;34m(self, where, where_document, embeddings, n_results, collection_name, collection_uuid)\u001b[0m\n\u001b[0;32m    500\u001b[0m     \u001b[39mraise\u001b[39;00m \u001b[39mTypeError\u001b[39;00m(\u001b[39m\"\u001b[39m\u001b[39mArguments collection_name and collection_uuid cannot both be None\u001b[39m\u001b[39m\"\u001b[39m)\n\u001b[0;32m    502\u001b[0m \u001b[39mif\u001b[39;00m collection_name \u001b[39mis\u001b[39;00m \u001b[39mnot\u001b[39;00m \u001b[39mNone\u001b[39;00m:\n\u001b[1;32m--> 503\u001b[0m     collection_uuid \u001b[39m=\u001b[39m \u001b[39mself\u001b[39;49m\u001b[39m.\u001b[39;49mget_collection_uuid_from_name(collection_name)\n\u001b[0;32m    505\u001b[0m \u001b[39mif\u001b[39;00m \u001b[39mlen\u001b[39m(where) \u001b[39m!=\u001b[39m \u001b[39m0\u001b[39m \u001b[39mor\u001b[39;00m \u001b[39mlen\u001b[39m(where_document) \u001b[39m!=\u001b[39m \u001b[39m0\u001b[39m:\n\u001b[0;32m    506\u001b[0m     results \u001b[39m=\u001b[39m \u001b[39mself\u001b[39m\u001b[39m.\u001b[39mget(\n\u001b[0;32m    507\u001b[0m         collection_uuid\u001b[39m=\u001b[39mcollection_uuid, where\u001b[39m=\u001b[39mwhere, where_document\u001b[39m=\u001b[39mwhere_document\n\u001b[0;32m    508\u001b[0m     )\n",
      "File \u001b[1;32md:\\Documents\\work\\langchain-study\\python310\\lib\\site-packages\\chromadb\\db\\duckdb.py:71\u001b[0m, in \u001b[0;36mDuckDB.get_collection_uuid_from_name\u001b[1;34m(self, name)\u001b[0m\n\u001b[0;32m     70\u001b[0m \u001b[39mdef\u001b[39;00m \u001b[39mget_collection_uuid_from_name\u001b[39m(\u001b[39mself\u001b[39m, name):\n\u001b[1;32m---> 71\u001b[0m     \u001b[39mreturn\u001b[39;00m \u001b[39mself\u001b[39;49m\u001b[39m.\u001b[39;49m_conn\u001b[39m.\u001b[39;49mexecute(\u001b[39m\"\u001b[39;49m\u001b[39mSELECT uuid FROM collections WHERE name = ?\u001b[39;49m\u001b[39m\"\u001b[39;49m, [name])\u001b[39m.\u001b[39;49mfetchall()[\n\u001b[0;32m     72\u001b[0m         \u001b[39m0\u001b[39;49m\n\u001b[0;32m     73\u001b[0m     ][\u001b[39m0\u001b[39m]\n",
      "\u001b[1;31mIndexError\u001b[0m: list index out of range"
     ]
    }
   ],
   "source": [
    "question = \"What class building is a shopping center? What's the maximum travel distance between two fire exits in a shopping center?\"\n",
    "texts = collection_ncc2022.query(query_texts=[question],\n",
    "                     include=['documents', 'distances', 'metadatas'],\n",
    "                     n_results=3\n",
    "                     )\n",
    "messages = build_prompt_with_context(question, texts['documents'][0])\n",
    "response = openai.ChatCompletion.create(\n",
    "            model='gpt-3.5-turbo',\n",
    "            messages=messages,\n",
    "            max_tokens=1000,\n",
    "        )\n",
    "response"
   ]
  },
  {
   "cell_type": "code",
   "execution_count": 2,
   "metadata": {},
   "outputs": [
    {
     "name": "stdout",
     "output_type": "stream",
     "text": [
      "Collecting panel\n",
      "  Using cached panel-1.0.4-py2.py3-none-any.whl (20.0 MB)\n",
      "Collecting bleach\n",
      "  Using cached bleach-6.0.0-py3-none-any.whl (162 kB)\n",
      "Collecting tqdm>=4.48.0\n",
      "  Using cached tqdm-4.65.0-py3-none-any.whl (77 kB)\n",
      "Collecting pandas>=1.2\n",
      "  Downloading pandas-2.0.2-cp310-cp310-win_amd64.whl (10.7 MB)\n",
      "     ---------------------------------------- 10.7/10.7 MB 2.8 MB/s eta 0:00:00\n",
      "Collecting xyzservices>=2021.09.1\n",
      "  Using cached xyzservices-2023.5.0-py3-none-any.whl (56 kB)\n",
      "Collecting typing-extensions\n",
      "  Downloading typing_extensions-4.6.3-py3-none-any.whl (31 kB)\n",
      "Collecting param>=1.12.0\n",
      "  Using cached param-1.13.0-py2.py3-none-any.whl (87 kB)\n",
      "Collecting pyviz-comms>=0.7.4\n",
      "  Using cached pyviz_comms-2.3.0-py2.py3-none-any.whl (43 kB)\n",
      "Collecting mdit-py-plugins\n",
      "  Using cached mdit_py_plugins-0.3.5-py3-none-any.whl (52 kB)\n",
      "Collecting markdown\n",
      "  Using cached Markdown-3.4.3-py3-none-any.whl (93 kB)\n",
      "Collecting requests\n",
      "  Downloading requests-2.31.0-py3-none-any.whl (62 kB)\n",
      "     ---------------------------------------- 62.6/62.6 kB 1.6 MB/s eta 0:00:00\n",
      "Collecting bokeh<3.2.0,>=3.1.1\n",
      "  Using cached bokeh-3.1.1-py3-none-any.whl (8.3 MB)\n",
      "Collecting markdown-it-py\n",
      "  Downloading markdown_it_py-3.0.0-py3-none-any.whl (87 kB)\n",
      "     ---------------------------------------- 87.5/87.5 kB 2.5 MB/s eta 0:00:00\n",
      "Collecting linkify-it-py\n",
      "  Using cached linkify_it_py-2.0.2-py3-none-any.whl (19 kB)\n",
      "Requirement already satisfied: packaging>=16.8 in d:\\documents\\work\\ask_api\\ask-api\\venv310\\lib\\site-packages (from bokeh<3.2.0,>=3.1.1->panel) (23.1)\n",
      "Requirement already satisfied: tornado>=5.1 in d:\\documents\\work\\ask_api\\ask-api\\venv310\\lib\\site-packages (from bokeh<3.2.0,>=3.1.1->panel) (6.3.1)\n",
      "Collecting PyYAML>=3.10\n",
      "  Using cached PyYAML-6.0-cp310-cp310-win_amd64.whl (151 kB)\n",
      "Collecting contourpy>=1\n",
      "  Using cached contourpy-1.0.7-cp310-cp310-win_amd64.whl (162 kB)\n",
      "Collecting Jinja2>=2.9\n",
      "  Using cached Jinja2-3.1.2-py3-none-any.whl (133 kB)\n",
      "Collecting pillow>=7.1.0\n",
      "  Using cached Pillow-9.5.0-cp310-cp310-win_amd64.whl (2.5 MB)\n",
      "Collecting numpy>=1.16\n",
      "  Using cached numpy-1.24.3-cp310-cp310-win_amd64.whl (14.8 MB)\n",
      "Collecting pytz>=2020.1\n",
      "  Using cached pytz-2023.3-py2.py3-none-any.whl (502 kB)\n",
      "Requirement already satisfied: python-dateutil>=2.8.2 in d:\\documents\\work\\ask_api\\ask-api\\venv310\\lib\\site-packages (from pandas>=1.2->panel) (2.8.2)\n",
      "Collecting tzdata>=2022.1\n",
      "  Using cached tzdata-2023.3-py2.py3-none-any.whl (341 kB)\n",
      "Requirement already satisfied: colorama in d:\\documents\\work\\ask_api\\ask-api\\venv310\\lib\\site-packages (from tqdm>=4.48.0->panel) (0.4.6)\n",
      "Requirement already satisfied: six>=1.9.0 in d:\\documents\\work\\ask_api\\ask-api\\venv310\\lib\\site-packages (from bleach->panel) (1.16.0)\n",
      "Collecting webencodings\n",
      "  Using cached webencodings-0.5.1-py2.py3-none-any.whl (11 kB)\n",
      "Collecting uc-micro-py\n",
      "  Using cached uc_micro_py-1.0.2-py3-none-any.whl (6.2 kB)\n",
      "Collecting mdurl~=0.1\n",
      "  Using cached mdurl-0.1.2-py3-none-any.whl (10.0 kB)\n",
      "Collecting markdown-it-py\n",
      "  Using cached markdown_it_py-2.2.0-py3-none-any.whl (84 kB)\n",
      "Collecting idna<4,>=2.5\n",
      "  Using cached idna-3.4-py3-none-any.whl (61 kB)\n",
      "Collecting certifi>=2017.4.17\n",
      "  Using cached certifi-2023.5.7-py3-none-any.whl (156 kB)\n",
      "Collecting charset-normalizer<4,>=2\n",
      "  Using cached charset_normalizer-3.1.0-cp310-cp310-win_amd64.whl (97 kB)\n",
      "Collecting urllib3<3,>=1.21.1\n",
      "  Using cached urllib3-2.0.2-py3-none-any.whl (123 kB)\n",
      "Collecting MarkupSafe>=2.0\n",
      "  Downloading MarkupSafe-2.1.3-cp310-cp310-win_amd64.whl (17 kB)\n",
      "Installing collected packages: webencodings, pytz, xyzservices, urllib3, uc-micro-py, tzdata, typing-extensions, tqdm, PyYAML, pillow, param, numpy, mdurl, MarkupSafe, markdown, idna, charset-normalizer, certifi, bleach, requests, pyviz-comms, pandas, markdown-it-py, linkify-it-py, Jinja2, contourpy, mdit-py-plugins, bokeh, panel\n",
      "Successfully installed Jinja2-3.1.2 MarkupSafe-2.1.3 PyYAML-6.0 bleach-6.0.0 bokeh-3.1.1 certifi-2023.5.7 charset-normalizer-3.1.0 contourpy-1.0.7 idna-3.4 linkify-it-py-2.0.2 markdown-3.4.3 markdown-it-py-2.2.0 mdit-py-plugins-0.3.5 mdurl-0.1.2 numpy-1.24.3 pandas-2.0.2 panel-1.0.4 param-1.13.0 pillow-9.5.0 pytz-2023.3 pyviz-comms-2.3.0 requests-2.31.0 tqdm-4.65.0 typing-extensions-4.6.3 tzdata-2023.3 uc-micro-py-1.0.2 urllib3-2.0.2 webencodings-0.5.1 xyzservices-2023.5.0\n"
     ]
    },
    {
     "name": "stderr",
     "output_type": "stream",
     "text": [
      "\n",
      "[notice] A new release of pip available: 22.3.1 -> 23.1.2\n",
      "[notice] To update, run: python.exe -m pip install --upgrade pip\n"
     ]
    },
    {
     "name": "stdout",
     "output_type": "stream",
     "text": [
      "Collecting jupyter_bokeh\n",
      "  Using cached jupyter_bokeh-3.0.7-py3-none-any.whl (1.4 MB)\n",
      "Requirement already satisfied: bokeh==3.* in d:\\documents\\work\\ask_api\\ask-api\\venv310\\lib\\site-packages (from jupyter_bokeh) (3.1.1)\n",
      "Collecting ipywidgets==8.*\n",
      "  Using cached ipywidgets-8.0.6-py3-none-any.whl (138 kB)\n",
      "Requirement already satisfied: pillow>=7.1.0 in d:\\documents\\work\\ask_api\\ask-api\\venv310\\lib\\site-packages (from bokeh==3.*->jupyter_bokeh) (9.5.0)\n",
      "Requirement already satisfied: tornado>=5.1 in d:\\documents\\work\\ask_api\\ask-api\\venv310\\lib\\site-packages (from bokeh==3.*->jupyter_bokeh) (6.3.1)\n",
      "Requirement already satisfied: contourpy>=1 in d:\\documents\\work\\ask_api\\ask-api\\venv310\\lib\\site-packages (from bokeh==3.*->jupyter_bokeh) (1.0.7)\n",
      "Requirement already satisfied: PyYAML>=3.10 in d:\\documents\\work\\ask_api\\ask-api\\venv310\\lib\\site-packages (from bokeh==3.*->jupyter_bokeh) (6.0)\n",
      "Requirement already satisfied: numpy>=1.16 in d:\\documents\\work\\ask_api\\ask-api\\venv310\\lib\\site-packages (from bokeh==3.*->jupyter_bokeh) (1.24.3)\n",
      "Requirement already satisfied: packaging>=16.8 in d:\\documents\\work\\ask_api\\ask-api\\venv310\\lib\\site-packages (from bokeh==3.*->jupyter_bokeh) (23.1)\n",
      "Requirement already satisfied: Jinja2>=2.9 in d:\\documents\\work\\ask_api\\ask-api\\venv310\\lib\\site-packages (from bokeh==3.*->jupyter_bokeh) (3.1.2)\n",
      "Requirement already satisfied: xyzservices>=2021.09.1 in d:\\documents\\work\\ask_api\\ask-api\\venv310\\lib\\site-packages (from bokeh==3.*->jupyter_bokeh) (2023.5.0)\n",
      "Requirement already satisfied: pandas>=1.2 in d:\\documents\\work\\ask_api\\ask-api\\venv310\\lib\\site-packages (from bokeh==3.*->jupyter_bokeh) (2.0.2)\n",
      "Requirement already satisfied: ipython>=6.1.0 in d:\\documents\\work\\ask_api\\ask-api\\venv310\\lib\\site-packages (from ipywidgets==8.*->jupyter_bokeh) (8.13.2)\n",
      "Requirement already satisfied: traitlets>=4.3.1 in d:\\documents\\work\\ask_api\\ask-api\\venv310\\lib\\site-packages (from ipywidgets==8.*->jupyter_bokeh) (5.9.0)\n",
      "Requirement already satisfied: ipykernel>=4.5.1 in d:\\documents\\work\\ask_api\\ask-api\\venv310\\lib\\site-packages (from ipywidgets==8.*->jupyter_bokeh) (6.22.0)\n",
      "Collecting widgetsnbextension~=4.0.7\n",
      "  Using cached widgetsnbextension-4.0.7-py3-none-any.whl (2.1 MB)\n",
      "Collecting jupyterlab-widgets~=3.0.7\n",
      "  Using cached jupyterlab_widgets-3.0.7-py3-none-any.whl (198 kB)\n",
      "Requirement already satisfied: psutil in d:\\documents\\work\\ask_api\\ask-api\\venv310\\lib\\site-packages (from ipykernel>=4.5.1->ipywidgets==8.*->jupyter_bokeh) (5.9.5)\n",
      "Requirement already satisfied: jupyter-core!=5.0.*,>=4.12 in d:\\documents\\work\\ask_api\\ask-api\\venv310\\lib\\site-packages (from ipykernel>=4.5.1->ipywidgets==8.*->jupyter_bokeh) (5.3.0)\n",
      "Requirement already satisfied: nest-asyncio in d:\\documents\\work\\ask_api\\ask-api\\venv310\\lib\\site-packages (from ipykernel>=4.5.1->ipywidgets==8.*->jupyter_bokeh) (1.5.6)\n",
      "Requirement already satisfied: comm>=0.1.1 in d:\\documents\\work\\ask_api\\ask-api\\venv310\\lib\\site-packages (from ipykernel>=4.5.1->ipywidgets==8.*->jupyter_bokeh) (0.1.3)\n",
      "Requirement already satisfied: debugpy>=1.6.5 in d:\\documents\\work\\ask_api\\ask-api\\venv310\\lib\\site-packages (from ipykernel>=4.5.1->ipywidgets==8.*->jupyter_bokeh) (1.6.7)\n",
      "Requirement already satisfied: pyzmq>=20 in d:\\documents\\work\\ask_api\\ask-api\\venv310\\lib\\site-packages (from ipykernel>=4.5.1->ipywidgets==8.*->jupyter_bokeh) (25.0.2)\n",
      "Requirement already satisfied: jupyter-client>=6.1.12 in d:\\documents\\work\\ask_api\\ask-api\\venv310\\lib\\site-packages (from ipykernel>=4.5.1->ipywidgets==8.*->jupyter_bokeh) (8.2.0)\n",
      "Requirement already satisfied: matplotlib-inline>=0.1 in d:\\documents\\work\\ask_api\\ask-api\\venv310\\lib\\site-packages (from ipykernel>=4.5.1->ipywidgets==8.*->jupyter_bokeh) (0.1.6)\n",
      "Requirement already satisfied: jedi>=0.16 in d:\\documents\\work\\ask_api\\ask-api\\venv310\\lib\\site-packages (from ipython>=6.1.0->ipywidgets==8.*->jupyter_bokeh) (0.18.2)\n",
      "Requirement already satisfied: colorama in d:\\documents\\work\\ask_api\\ask-api\\venv310\\lib\\site-packages (from ipython>=6.1.0->ipywidgets==8.*->jupyter_bokeh) (0.4.6)\n",
      "Requirement already satisfied: backcall in d:\\documents\\work\\ask_api\\ask-api\\venv310\\lib\\site-packages (from ipython>=6.1.0->ipywidgets==8.*->jupyter_bokeh) (0.2.0)\n",
      "Requirement already satisfied: stack-data in d:\\documents\\work\\ask_api\\ask-api\\venv310\\lib\\site-packages (from ipython>=6.1.0->ipywidgets==8.*->jupyter_bokeh) (0.6.2)\n",
      "Requirement already satisfied: pickleshare in d:\\documents\\work\\ask_api\\ask-api\\venv310\\lib\\site-packages (from ipython>=6.1.0->ipywidgets==8.*->jupyter_bokeh) (0.7.5)\n",
      "Requirement already satisfied: decorator in d:\\documents\\work\\ask_api\\ask-api\\venv310\\lib\\site-packages (from ipython>=6.1.0->ipywidgets==8.*->jupyter_bokeh) (5.1.1)\n",
      "Requirement already satisfied: pygments>=2.4.0 in d:\\documents\\work\\ask_api\\ask-api\\venv310\\lib\\site-packages (from ipython>=6.1.0->ipywidgets==8.*->jupyter_bokeh) (2.15.1)\n",
      "Requirement already satisfied: prompt-toolkit!=3.0.37,<3.1.0,>=3.0.30 in d:\\documents\\work\\ask_api\\ask-api\\venv310\\lib\\site-packages (from ipython>=6.1.0->ipywidgets==8.*->jupyter_bokeh) (3.0.38)\n",
      "Requirement already satisfied: MarkupSafe>=2.0 in d:\\documents\\work\\ask_api\\ask-api\\venv310\\lib\\site-packages (from Jinja2>=2.9->bokeh==3.*->jupyter_bokeh) (2.1.3)\n",
      "Requirement already satisfied: python-dateutil>=2.8.2 in d:\\documents\\work\\ask_api\\ask-api\\venv310\\lib\\site-packages (from pandas>=1.2->bokeh==3.*->jupyter_bokeh) (2.8.2)\n",
      "Requirement already satisfied: tzdata>=2022.1 in d:\\documents\\work\\ask_api\\ask-api\\venv310\\lib\\site-packages (from pandas>=1.2->bokeh==3.*->jupyter_bokeh) (2023.3)\n",
      "Requirement already satisfied: pytz>=2020.1 in d:\\documents\\work\\ask_api\\ask-api\\venv310\\lib\\site-packages (from pandas>=1.2->bokeh==3.*->jupyter_bokeh) (2023.3)\n",
      "Requirement already satisfied: parso<0.9.0,>=0.8.0 in d:\\documents\\work\\ask_api\\ask-api\\venv310\\lib\\site-packages (from jedi>=0.16->ipython>=6.1.0->ipywidgets==8.*->jupyter_bokeh) (0.8.3)\n",
      "Requirement already satisfied: platformdirs>=2.5 in d:\\documents\\work\\ask_api\\ask-api\\venv310\\lib\\site-packages (from jupyter-core!=5.0.*,>=4.12->ipykernel>=4.5.1->ipywidgets==8.*->jupyter_bokeh) (3.5.0)\n",
      "Requirement already satisfied: pywin32>=300 in d:\\documents\\work\\ask_api\\ask-api\\venv310\\lib\\site-packages (from jupyter-core!=5.0.*,>=4.12->ipykernel>=4.5.1->ipywidgets==8.*->jupyter_bokeh) (306)\n",
      "Requirement already satisfied: wcwidth in d:\\documents\\work\\ask_api\\ask-api\\venv310\\lib\\site-packages (from prompt-toolkit!=3.0.37,<3.1.0,>=3.0.30->ipython>=6.1.0->ipywidgets==8.*->jupyter_bokeh) (0.2.6)\n",
      "Requirement already satisfied: six>=1.5 in d:\\documents\\work\\ask_api\\ask-api\\venv310\\lib\\site-packages (from python-dateutil>=2.8.2->pandas>=1.2->bokeh==3.*->jupyter_bokeh) (1.16.0)\n",
      "Requirement already satisfied: pure-eval in d:\\documents\\work\\ask_api\\ask-api\\venv310\\lib\\site-packages (from stack-data->ipython>=6.1.0->ipywidgets==8.*->jupyter_bokeh) (0.2.2)\n",
      "Requirement already satisfied: asttokens>=2.1.0 in d:\\documents\\work\\ask_api\\ask-api\\venv310\\lib\\site-packages (from stack-data->ipython>=6.1.0->ipywidgets==8.*->jupyter_bokeh) (2.2.1)\n",
      "Requirement already satisfied: executing>=1.2.0 in d:\\documents\\work\\ask_api\\ask-api\\venv310\\lib\\site-packages (from stack-data->ipython>=6.1.0->ipywidgets==8.*->jupyter_bokeh) (1.2.0)\n",
      "Installing collected packages: widgetsnbextension, jupyterlab-widgets, ipywidgets, jupyter_bokeh\n",
      "Successfully installed ipywidgets-8.0.6 jupyter_bokeh-3.0.7 jupyterlab-widgets-3.0.7 widgetsnbextension-4.0.7\n"
     ]
    },
    {
     "name": "stderr",
     "output_type": "stream",
     "text": [
      "\n",
      "[notice] A new release of pip available: 22.3.1 -> 23.1.2\n",
      "[notice] To update, run: python.exe -m pip install --upgrade pip\n"
     ]
    }
   ],
   "source": [
    "!pip install panel\n",
    "!pip install jupyter_bokeh"
   ]
  },
  {
   "cell_type": "code",
   "execution_count": 9,
   "metadata": {},
   "outputs": [
    {
     "name": "stdout",
     "output_type": "stream",
     "text": [
      "Collecting flask\n",
      "  Using cached Flask-2.3.2-py3-none-any.whl (96 kB)\n",
      "Collecting chatterbot\n",
      "  Using cached ChatterBot-1.0.5-py2.py3-none-any.whl (67 kB)\n",
      "Requirement already satisfied: Jinja2>=3.1.2 in d:\\documents\\work\\langchain-study\\python310\\lib\\site-packages (from flask) (3.1.2)\n",
      "Requirement already satisfied: click>=8.1.3 in d:\\documents\\work\\langchain-study\\python310\\lib\\site-packages (from flask) (8.1.3)\n",
      "Collecting itsdangerous>=2.1.2\n",
      "  Using cached itsdangerous-2.1.2-py3-none-any.whl (15 kB)\n",
      "Collecting blinker>=1.6.2\n",
      "  Using cached blinker-1.6.2-py3-none-any.whl (13 kB)\n",
      "Collecting Werkzeug>=2.3.3\n",
      "  Using cached Werkzeug-2.3.4-py3-none-any.whl (242 kB)\n",
      "Requirement already satisfied: pytz in d:\\documents\\work\\langchain-study\\python310\\lib\\site-packages (from chatterbot) (2023.3)\n",
      "Collecting pyyaml<5.2,>=5.1\n",
      "  Using cached PyYAML-5.1.2.tar.gz (265 kB)\n",
      "  Preparing metadata (setup.py): started\n",
      "  Preparing metadata (setup.py): finished with status 'done'\n",
      "Collecting pymongo<4.0,>=3.3\n",
      "  Using cached pymongo-3.13.0-cp310-cp310-win_amd64.whl (394 kB)\n",
      "Collecting pint>=0.8.1\n",
      "  Using cached Pint-0.21-py3-none-any.whl (286 kB)\n",
      "Collecting sqlalchemy<1.3,>=1.2\n",
      "  Downloading SQLAlchemy-1.2.19.tar.gz (5.7 MB)\n",
      "     ---------------------------------------- 5.7/5.7 MB 2.6 MB/s eta 0:00:00\n",
      "  Preparing metadata (setup.py): started\n",
      "  Preparing metadata (setup.py): finished with status 'done'\n",
      "Collecting mathparse<0.2,>=0.1\n",
      "  Using cached mathparse-0.1.2-py3-none-any.whl (7.2 kB)\n",
      "Requirement already satisfied: nltk<4.0,>=3.2 in d:\\documents\\work\\langchain-study\\python310\\lib\\site-packages (from chatterbot) (3.8.1)\n",
      "Collecting spacy<2.2,>=2.1\n",
      "  Using cached spacy-2.1.9.tar.gz (30.7 MB)\n",
      "  Installing build dependencies: started\n",
      "  Installing build dependencies: finished with status 'error'\n"
     ]
    },
    {
     "name": "stderr",
     "output_type": "stream",
     "text": [
      "  error: subprocess-exited-with-error\n",
      "  \n",
      "  × pip subprocess to install build dependencies did not run successfully.\n",
      "  │ exit code: 1\n",
      "  ╰─> [104 lines of output]\n",
      "      Collecting setuptools\n",
      "        Using cached setuptools-67.7.2-py3-none-any.whl (1.1 MB)\n",
      "      Collecting wheel<0.33.0,>0.32.0\n",
      "        Using cached wheel-0.32.3-py2.py3-none-any.whl (21 kB)\n",
      "      Collecting Cython\n",
      "        Using cached Cython-0.29.34-py2.py3-none-any.whl (988 kB)\n",
      "      Collecting cymem<2.1.0,>=2.0.2\n",
      "        Using cached cymem-2.0.7-cp310-cp310-win_amd64.whl (29 kB)\n",
      "      Collecting preshed<2.1.0,>=2.0.1\n",
      "        Using cached preshed-2.0.1.tar.gz (113 kB)\n",
      "        Preparing metadata (setup.py): started\n",
      "        Preparing metadata (setup.py): finished with status 'done'\n",
      "      Collecting murmurhash<1.1.0,>=0.28.0\n",
      "        Using cached murmurhash-1.0.9-cp310-cp310-win_amd64.whl (18 kB)\n",
      "      Collecting thinc<7.1.0,>=7.0.8\n",
      "        Using cached thinc-7.0.8.tar.gz (1.9 MB)\n",
      "        Preparing metadata (setup.py): started\n",
      "        Preparing metadata (setup.py): finished with status 'done'\n",
      "      Collecting blis<0.3.0,>=0.2.1\n",
      "        Using cached blis-0.2.4.tar.gz (1.5 MB)\n",
      "        Preparing metadata (setup.py): started\n",
      "        Preparing metadata (setup.py): finished with status 'done'\n",
      "      Collecting wasabi<1.1.0,>=0.0.9\n",
      "        Using cached wasabi-0.10.1-py3-none-any.whl (26 kB)\n",
      "      Collecting srsly<1.1.0,>=0.0.6\n",
      "        Using cached srsly-1.0.6-cp310-cp310-win_amd64.whl (196 kB)\n",
      "      Collecting numpy>=1.7.0\n",
      "        Using cached numpy-1.24.3-cp310-cp310-win_amd64.whl (14.8 MB)\n",
      "      Collecting plac<1.0.0,>=0.9.6\n",
      "        Using cached plac-0.9.6-py2.py3-none-any.whl (20 kB)\n",
      "      Collecting tqdm<5.0.0,>=4.10.0\n",
      "        Using cached tqdm-4.65.0-py3-none-any.whl (77 kB)\n",
      "      Collecting colorama\n",
      "        Using cached colorama-0.4.6-py2.py3-none-any.whl (25 kB)\n",
      "      Installing collected packages: wasabi, plac, cymem, wheel, srsly, setuptools, preshed, numpy, murmurhash, Cython, colorama, tqdm, blis, thinc\n",
      "        DEPRECATION: preshed is being installed using the legacy 'setup.py install' method, because it does not have a 'pyproject.toml' and the 'wheel' package is not installed. pip 23.1 will enforce this behaviour change. A possible replacement is to enable the '--use-pep517' option. Discussion can be found at https://github.com/pypa/pip/issues/8559\n",
      "        Running setup.py install for preshed: started\n",
      "        Running setup.py install for preshed: finished with status 'error'\n",
      "        error: subprocess-exited-with-error\n",
      "      \n",
      "        Ã— Running setup.py install for preshed did not run successfully.\n",
      "        â”‚ exit code: 1\n",
      "        â•°â”€> [48 lines of output]\n",
      "            D:\\Documents\\work\\langchain-study\\python310\\lib\\site-packages\\setuptools\\installer.py:27: SetuptoolsDeprecationWarning: setuptools.installer is deprecated. Requirements should be satisfied by a PEP 517 installer.\n",
      "              warnings.warn(\n",
      "            WARNING: The wheel package is not available.\n",
      "            running install\n",
      "            D:\\Documents\\work\\langchain-study\\python310\\lib\\site-packages\\setuptools\\command\\install.py:34: SetuptoolsDeprecationWarning: setup.py install is deprecated. Use build and pip and other standards-based tools.\n",
      "              warnings.warn(\n",
      "            running build\n",
      "            running build_py\n",
      "            creating build\n",
      "            creating build\\lib.win-amd64-cpython-310\n",
      "            creating build\\lib.win-amd64-cpython-310\\preshed\n",
      "            copying preshed\\about.py -> build\\lib.win-amd64-cpython-310\\preshed\n",
      "            copying preshed\\__init__.py -> build\\lib.win-amd64-cpython-310\\preshed\n",
      "            creating build\\lib.win-amd64-cpython-310\\preshed\\tests\n",
      "            copying preshed\\tests\\test_counter.py -> build\\lib.win-amd64-cpython-310\\preshed\\tests\n",
      "            copying preshed\\tests\\test_hashing.py -> build\\lib.win-amd64-cpython-310\\preshed\\tests\n",
      "            copying preshed\\tests\\test_pop.py -> build\\lib.win-amd64-cpython-310\\preshed\\tests\n",
      "            copying preshed\\tests\\__init__.py -> build\\lib.win-amd64-cpython-310\\preshed\\tests\n",
      "            copying preshed\\counter.pyx -> build\\lib.win-amd64-cpython-310\\preshed\n",
      "            copying preshed\\maps.pyx -> build\\lib.win-amd64-cpython-310\\preshed\n",
      "            copying preshed\\counter.pxd -> build\\lib.win-amd64-cpython-310\\preshed\n",
      "            copying preshed\\maps.pxd -> build\\lib.win-amd64-cpython-310\\preshed\n",
      "            copying preshed\\__init__.pxd -> build\\lib.win-amd64-cpython-310\\preshed\n",
      "            running build_ext\n",
      "            building 'preshed.maps' extension\n",
      "            creating build\\temp.win-amd64-cpython-310\n",
      "            creating build\\temp.win-amd64-cpython-310\\Release\n",
      "            creating build\\temp.win-amd64-cpython-310\\Release\\preshed\n",
      "            \"C:\\Program Files (x86)\\Microsoft Visual Studio\\2019\\Community\\VC\\Tools\\MSVC\\14.29.30133\\bin\\HostX86\\x64\\cl.exe\" /c /nologo /O2 /W3 /GL /DNDEBUG /MD -IC:\\Users\\ellen\\AppData\\Local\\Programs\\Python\\Python310\\include -ID:\\Documents\\work\\langchain-study\\python310\\include -IC:\\Users\\ellen\\AppData\\Local\\Programs\\Python\\Python310\\include -IC:\\Users\\ellen\\AppData\\Local\\Programs\\Python\\Python310\\Include \"-IC:\\Program Files (x86)\\Microsoft Visual Studio\\2019\\Community\\VC\\Tools\\MSVC\\14.29.30133\\ATLMFC\\include\" \"-IC:\\Program Files (x86)\\Microsoft Visual Studio\\2019\\Community\\VC\\Tools\\MSVC\\14.29.30133\\include\" \"-IC:\\Program Files (x86)\\Windows Kits\\10\\include\\10.0.19041.0\\ucrt\" \"-IC:\\Program Files (x86)\\Windows Kits\\10\\include\\10.0.19041.0\\shared\" \"-IC:\\Program Files (x86)\\Windows Kits\\10\\include\\10.0.19041.0\\um\" \"-IC:\\Program Files (x86)\\Windows Kits\\10\\include\\10.0.19041.0\\winrt\" \"-IC:\\Program Files (x86)\\Windows Kits\\10\\include\\10.0.19041.0\\cppwinrt\" /EHsc /Tppreshed/maps.cpp /Fobuild\\temp.win-amd64-cpython-310\\Release\\preshed/maps.obj /Ox /EHsc\n",
      "            maps.cpp\n",
      "            preshed/maps.cpp(5728): error C2039: 'tp_print': is not a member of '_typeobject'\n",
      "            C:\\Users\\ellen\\AppData\\Local\\Programs\\Python\\Python310\\include\\cpython/object.h(191): note: see declaration of '_typeobject'\n",
      "            preshed/maps.cpp(5740): error C2039: 'tp_print': is not a member of '_typeobject'\n",
      "            C:\\Users\\ellen\\AppData\\Local\\Programs\\Python\\Python310\\include\\cpython/object.h(191): note: see declaration of '_typeobject'\n",
      "            preshed/maps.cpp(5749): error C2039: 'tp_print': is not a member of '_typeobject'\n",
      "            C:\\Users\\ellen\\AppData\\Local\\Programs\\Python\\Python310\\include\\cpython/object.h(191): note: see declaration of '_typeobject'\n",
      "            preshed/maps.cpp(5755): error C2039: 'tp_print': is not a member of '_typeobject'\n",
      "            C:\\Users\\ellen\\AppData\\Local\\Programs\\Python\\Python310\\include\\cpython/object.h(191): note: see declaration of '_typeobject'\n",
      "            preshed/maps.cpp(5761): error C2039: 'tp_print': is not a member of '_typeobject'\n",
      "            C:\\Users\\ellen\\AppData\\Local\\Programs\\Python\\Python310\\include\\cpython/object.h(191): note: see declaration of '_typeobject'\n",
      "            preshed/maps.cpp(5767): error C2039: 'tp_print': is not a member of '_typeobject'\n",
      "            C:\\Users\\ellen\\AppData\\Local\\Programs\\Python\\Python310\\include\\cpython/object.h(191): note: see declaration of '_typeobject'\n",
      "            preshed/maps.cpp(6129): warning C4996: '_PyUnicode_get_wstr_length': deprecated in 3.3\n",
      "            preshed/maps.cpp(6145): warning C4996: '_PyUnicode_get_wstr_length': deprecated in 3.3\n",
      "            preshed/maps.cpp(8447): error C3861: '_PyGen_Send': identifier not found\n",
      "            preshed/maps.cpp(8452): error C3861: '_PyGen_Send': identifier not found\n",
      "            preshed/maps.cpp(8536): error C3861: '_PyGen_Send': identifier not found\n",
      "            error: command 'C:\\\\Program Files (x86)\\\\Microsoft Visual Studio\\\\2019\\\\Community\\\\VC\\\\Tools\\\\MSVC\\\\14.29.30133\\\\bin\\\\HostX86\\\\x64\\\\cl.exe' failed with exit code 2\n",
      "            [end of output]\n",
      "      \n",
      "        note: This error originates from a subprocess, and is likely not a problem with pip.\n",
      "      error: legacy-install-failure\n",
      "      \n",
      "      Ã— Encountered error while trying to install package.\n",
      "      â•°â”€> preshed\n",
      "      \n",
      "      note: This is an issue with the package mentioned above, not pip.\n",
      "      hint: See above for output from the failure.\n",
      "      \n",
      "      [notice] A new release of pip available: 22.3.1 -> 23.1.2\n",
      "      [notice] To update, run: python.exe -m pip install --upgrade pip\n",
      "      [end of output]\n",
      "  \n",
      "  note: This error originates from a subprocess, and is likely not a problem with pip.\n",
      "error: subprocess-exited-with-error\n",
      "\n",
      "× pip subprocess to install build dependencies did not run successfully.\n",
      "│ exit code: 1\n",
      "╰─> See above for output.\n",
      "\n",
      "note: This error originates from a subprocess, and is likely not a problem with pip.\n",
      "\n",
      "[notice] A new release of pip available: 22.3.1 -> 23.1.2\n",
      "[notice] To update, run: python.exe -m pip install --upgrade pip\n"
     ]
    }
   ],
   "source": [
    "!pip install flask chatterbot"
   ]
  },
  {
   "cell_type": "code",
   "execution_count": 7,
   "metadata": {},
   "outputs": [
    {
     "data": {
      "application/javascript": "(function(root) {\n  function now() {\n    return new Date();\n  }\n\n  var force = true;\n\n  if (typeof root._bokeh_onload_callbacks === \"undefined\" || force === true) {\n    root._bokeh_onload_callbacks = [];\n    root._bokeh_is_loading = undefined;\n  }\n\n  if (typeof (root._bokeh_timeout) === \"undefined\" || force === true) {\n    root._bokeh_timeout = Date.now() + 5000;\n    root._bokeh_failed_load = false;\n  }\n\n  function run_callbacks() {\n    try {\n      root._bokeh_onload_callbacks.forEach(function(callback) {\n        if (callback != null)\n          callback();\n      });\n    } finally {\n      delete root._bokeh_onload_callbacks\n    }\n    console.debug(\"Bokeh: all callbacks have finished\");\n  }\n\n  function load_libs(css_urls, js_urls, js_modules, callback) {\n    if (css_urls == null) css_urls = [];\n    if (js_urls == null) js_urls = [];\n    if (js_modules == null) js_modules = [];\n\n    root._bokeh_onload_callbacks.push(callback);\n    if (root._bokeh_is_loading > 0) {\n      console.debug(\"Bokeh: BokehJS is being loaded, scheduling callback at\", now());\n      return null;\n    }\n    if (js_urls.length === 0 && js_modules.length === 0) {\n      run_callbacks();\n      return null;\n    }\n    console.debug(\"Bokeh: BokehJS not loaded, scheduling load and callback at\", now());\n\n    function on_load() {\n      root._bokeh_is_loading--;\n      if (root._bokeh_is_loading === 0) {\n        console.debug(\"Bokeh: all BokehJS libraries/stylesheets loaded\");\n        run_callbacks()\n      }\n    }\n\n    function on_error() {\n      console.error(\"failed to load \" + url);\n    }\n\n    for (var i = 0; i < css_urls.length; i++) {\n      var url = css_urls[i];\n      const element = document.createElement(\"link\");\n      element.onload = on_load;\n      element.onerror = on_error;\n      element.rel = \"stylesheet\";\n      element.type = \"text/css\";\n      element.href = url;\n      console.debug(\"Bokeh: injecting link tag for BokehJS stylesheet: \", url);\n      document.body.appendChild(element);\n    }\n\n    var skip = [];\n    if (window.requirejs) {\n      window.requirejs.config({'packages': {}, 'paths': {'gridstack': 'https://cdn.jsdelivr.net/npm/gridstack@4.2.5/dist/gridstack-h5', 'notyf': 'https://cdn.jsdelivr.net/npm/notyf@3/notyf.min'}, 'shim': {'gridstack': {'exports': 'GridStack'}}});\n      require([\"gridstack\"], function(GridStack) {\n\twindow.GridStack = GridStack\n\ton_load()\n      })\n      require([\"notyf\"], function() {\n\ton_load()\n      })\n      root._bokeh_is_loading = css_urls.length + 2;\n    } else {\n      root._bokeh_is_loading = css_urls.length + js_urls.length + js_modules.length;\n    }    if (((window['GridStack'] !== undefined) && (!(window['GridStack'] instanceof HTMLElement))) || window.requirejs) {\n      var urls = ['https://cdn.holoviz.org/panel/0.14.4/dist/bundled/gridstack/gridstack@4.2.5/dist/gridstack-h5.js'];\n      for (var i = 0; i < urls.length; i++) {\n        skip.push(urls[i])\n      }\n    }    if (((window['Notyf'] !== undefined) && (!(window['Notyf'] instanceof HTMLElement))) || window.requirejs) {\n      var urls = ['https://cdn.holoviz.org/panel/0.14.4/dist/bundled/notificationarea/notyf@3/notyf.min.js'];\n      for (var i = 0; i < urls.length; i++) {\n        skip.push(urls[i])\n      }\n    }    for (var i = 0; i < js_urls.length; i++) {\n      var url = js_urls[i];\n      if (skip.indexOf(url) >= 0) {\n\tif (!window.requirejs) {\n\t  on_load();\n\t}\n\tcontinue;\n      }\n      var element = document.createElement('script');\n      element.onload = on_load;\n      element.onerror = on_error;\n      element.async = false;\n      element.src = url;\n      console.debug(\"Bokeh: injecting script tag for BokehJS library: \", url);\n      document.head.appendChild(element);\n    }\n    for (var i = 0; i < js_modules.length; i++) {\n      var url = js_modules[i];\n      if (skip.indexOf(url) >= 0) {\n\tif (!window.requirejs) {\n\t  on_load();\n\t}\n\tcontinue;\n      }\n      var element = document.createElement('script');\n      element.onload = on_load;\n      element.onerror = on_error;\n      element.async = false;\n      element.src = url;\n      element.type = \"module\";\n      console.debug(\"Bokeh: injecting script tag for BokehJS library: \", url);\n      document.head.appendChild(element);\n    }\n    if (!js_urls.length && !js_modules.length) {\n      on_load()\n    }\n  };\n\n  function inject_raw_css(css) {\n    const element = document.createElement(\"style\");\n    element.appendChild(document.createTextNode(css));\n    document.body.appendChild(element);\n  }\n\n  var js_urls = [\"https://cdn.bokeh.org/bokeh/release/bokeh-2.4.3.min.js\", \"https://cdn.bokeh.org/bokeh/release/bokeh-gl-2.4.3.min.js\", \"https://cdn.bokeh.org/bokeh/release/bokeh-widgets-2.4.3.min.js\", \"https://cdn.bokeh.org/bokeh/release/bokeh-tables-2.4.3.min.js\", \"https://cdn.bokeh.org/bokeh/release/bokeh-mathjax-2.4.3.min.js\", \"https://unpkg.com/@holoviz/panel@0.14.4/dist/panel.min.js\"];\n  var js_modules = [];\n  var css_urls = [\"https://cdn.holoviz.org/panel/0.14.4/dist/css/alerts.css\", \"https://cdn.holoviz.org/panel/0.14.4/dist/css/card.css\", \"https://cdn.holoviz.org/panel/0.14.4/dist/css/dataframe.css\", \"https://cdn.holoviz.org/panel/0.14.4/dist/css/debugger.css\", \"https://cdn.holoviz.org/panel/0.14.4/dist/css/json.css\", \"https://cdn.holoviz.org/panel/0.14.4/dist/css/loading.css\", \"https://cdn.holoviz.org/panel/0.14.4/dist/css/markdown.css\", \"https://cdn.holoviz.org/panel/0.14.4/dist/css/widgets.css\"];\n  var inline_js = [    function(Bokeh) {\n      inject_raw_css(\"\\n    .bk.pn-loading.arc:before {\\n      background-image: url(\\\"data:image/svg+xml;base64,PHN2ZyB4bWxucz0iaHR0cDovL3d3dy53My5vcmcvMjAwMC9zdmciIHN0eWxlPSJtYXJnaW46IGF1dG87IGJhY2tncm91bmQ6IG5vbmU7IGRpc3BsYXk6IGJsb2NrOyBzaGFwZS1yZW5kZXJpbmc6IGF1dG87IiB2aWV3Qm94PSIwIDAgMTAwIDEwMCIgcHJlc2VydmVBc3BlY3RSYXRpbz0ieE1pZFlNaWQiPiAgPGNpcmNsZSBjeD0iNTAiIGN5PSI1MCIgZmlsbD0ibm9uZSIgc3Ryb2tlPSIjYzNjM2MzIiBzdHJva2Utd2lkdGg9IjEwIiByPSIzNSIgc3Ryb2tlLWRhc2hhcnJheT0iMTY0LjkzMzYxNDMxMzQ2NDE1IDU2Ljk3Nzg3MTQzNzgyMTM4Ij4gICAgPGFuaW1hdGVUcmFuc2Zvcm0gYXR0cmlidXRlTmFtZT0idHJhbnNmb3JtIiB0eXBlPSJyb3RhdGUiIHJlcGVhdENvdW50PSJpbmRlZmluaXRlIiBkdXI9IjFzIiB2YWx1ZXM9IjAgNTAgNTA7MzYwIDUwIDUwIiBrZXlUaW1lcz0iMDsxIj48L2FuaW1hdGVUcmFuc2Zvcm0+ICA8L2NpcmNsZT48L3N2Zz4=\\\");\\n      background-size: auto calc(min(50%, 400px));\\n    }\\n    \");\n    },    function(Bokeh) {\n      Bokeh.set_log_level(\"info\");\n    },\nfunction(Bokeh) {} // ensure no trailing comma for IE\n  ];\n\n  function run_inline_js() {\n    if ((root.Bokeh !== undefined) || (force === true)) {\n      for (var i = 0; i < inline_js.length; i++) {\n        inline_js[i].call(root, root.Bokeh);\n      }} else if (Date.now() < root._bokeh_timeout) {\n      setTimeout(run_inline_js, 100);\n    } else if (!root._bokeh_failed_load) {\n      console.log(\"Bokeh: BokehJS failed to load within specified timeout.\");\n      root._bokeh_failed_load = true;\n    }\n  }\n\n  if (root._bokeh_is_loading === 0) {\n    console.debug(\"Bokeh: BokehJS loaded, going straight to plotting\");\n    run_inline_js();\n  } else {\n    load_libs(css_urls, js_urls, js_modules, function() {\n      console.debug(\"Bokeh: BokehJS plotting callback run at\", now());\n      run_inline_js();\n    });\n  }\n}(window));",
      "application/vnd.holoviews_load.v0+json": ""
     },
     "metadata": {},
     "output_type": "display_data"
    },
    {
     "data": {
      "application/javascript": "\nif ((window.PyViz === undefined) || (window.PyViz instanceof HTMLElement)) {\n  window.PyViz = {comms: {}, comm_status:{}, kernels:{}, receivers: {}, plot_index: []}\n}\n\n\n    function JupyterCommManager() {\n    }\n\n    JupyterCommManager.prototype.register_target = function(plot_id, comm_id, msg_handler) {\n      if (window.comm_manager || ((window.Jupyter !== undefined) && (Jupyter.notebook.kernel != null))) {\n        var comm_manager = window.comm_manager || Jupyter.notebook.kernel.comm_manager;\n        comm_manager.register_target(comm_id, function(comm) {\n          comm.on_msg(msg_handler);\n        });\n      } else if ((plot_id in window.PyViz.kernels) && (window.PyViz.kernels[plot_id])) {\n        window.PyViz.kernels[plot_id].registerCommTarget(comm_id, function(comm) {\n          comm.onMsg = msg_handler;\n        });\n      } else if (typeof google != 'undefined' && google.colab.kernel != null) {\n        google.colab.kernel.comms.registerTarget(comm_id, (comm) => {\n          var messages = comm.messages[Symbol.asyncIterator]();\n          function processIteratorResult(result) {\n            var message = result.value;\n            console.log(message)\n            var content = {data: message.data, comm_id};\n            var buffers = []\n            for (var buffer of message.buffers || []) {\n              buffers.push(new DataView(buffer))\n            }\n            var metadata = message.metadata || {};\n            var msg = {content, buffers, metadata}\n            msg_handler(msg);\n            return messages.next().then(processIteratorResult);\n          }\n          return messages.next().then(processIteratorResult);\n        })\n      }\n    }\n\n    JupyterCommManager.prototype.get_client_comm = function(plot_id, comm_id, msg_handler) {\n      if (comm_id in window.PyViz.comms) {\n        return window.PyViz.comms[comm_id];\n      } else if (window.comm_manager || ((window.Jupyter !== undefined) && (Jupyter.notebook.kernel != null))) {\n        var comm_manager = window.comm_manager || Jupyter.notebook.kernel.comm_manager;\n        var comm = comm_manager.new_comm(comm_id, {}, {}, {}, comm_id);\n        if (msg_handler) {\n          comm.on_msg(msg_handler);\n        }\n      } else if ((plot_id in window.PyViz.kernels) && (window.PyViz.kernels[plot_id])) {\n        var comm = window.PyViz.kernels[plot_id].connectToComm(comm_id);\n        comm.open();\n        if (msg_handler) {\n          comm.onMsg = msg_handler;\n        }\n      } else if (typeof google != 'undefined' && google.colab.kernel != null) {\n        var comm_promise = google.colab.kernel.comms.open(comm_id)\n        comm_promise.then((comm) => {\n          window.PyViz.comms[comm_id] = comm;\n          if (msg_handler) {\n            var messages = comm.messages[Symbol.asyncIterator]();\n            function processIteratorResult(result) {\n              var message = result.value;\n              var content = {data: message.data};\n              var metadata = message.metadata || {comm_id};\n              var msg = {content, metadata}\n              msg_handler(msg);\n              return messages.next().then(processIteratorResult);\n            }\n            return messages.next().then(processIteratorResult);\n          }\n        }) \n        var sendClosure = (data, metadata, buffers, disposeOnDone) => {\n          return comm_promise.then((comm) => {\n            comm.send(data, metadata, buffers, disposeOnDone);\n          });\n        };\n        var comm = {\n          send: sendClosure\n        };\n      }\n      window.PyViz.comms[comm_id] = comm;\n      return comm;\n    }\n    window.PyViz.comm_manager = new JupyterCommManager();\n    \n\n\nvar JS_MIME_TYPE = 'application/javascript';\nvar HTML_MIME_TYPE = 'text/html';\nvar EXEC_MIME_TYPE = 'application/vnd.holoviews_exec.v0+json';\nvar CLASS_NAME = 'output';\n\n/**\n * Render data to the DOM node\n */\nfunction render(props, node) {\n  var div = document.createElement(\"div\");\n  var script = document.createElement(\"script\");\n  node.appendChild(div);\n  node.appendChild(script);\n}\n\n/**\n * Handle when a new output is added\n */\nfunction handle_add_output(event, handle) {\n  var output_area = handle.output_area;\n  var output = handle.output;\n  if ((output.data == undefined) || (!output.data.hasOwnProperty(EXEC_MIME_TYPE))) {\n    return\n  }\n  var id = output.metadata[EXEC_MIME_TYPE][\"id\"];\n  var toinsert = output_area.element.find(\".\" + CLASS_NAME.split(' ')[0]);\n  if (id !== undefined) {\n    var nchildren = toinsert.length;\n    var html_node = toinsert[nchildren-1].children[0];\n    html_node.innerHTML = output.data[HTML_MIME_TYPE];\n    var scripts = [];\n    var nodelist = html_node.querySelectorAll(\"script\");\n    for (var i in nodelist) {\n      if (nodelist.hasOwnProperty(i)) {\n        scripts.push(nodelist[i])\n      }\n    }\n\n    scripts.forEach( function (oldScript) {\n      var newScript = document.createElement(\"script\");\n      var attrs = [];\n      var nodemap = oldScript.attributes;\n      for (var j in nodemap) {\n        if (nodemap.hasOwnProperty(j)) {\n          attrs.push(nodemap[j])\n        }\n      }\n      attrs.forEach(function(attr) { newScript.setAttribute(attr.name, attr.value) });\n      newScript.appendChild(document.createTextNode(oldScript.innerHTML));\n      oldScript.parentNode.replaceChild(newScript, oldScript);\n    });\n    if (JS_MIME_TYPE in output.data) {\n      toinsert[nchildren-1].children[1].textContent = output.data[JS_MIME_TYPE];\n    }\n    output_area._hv_plot_id = id;\n    if ((window.Bokeh !== undefined) && (id in Bokeh.index)) {\n      window.PyViz.plot_index[id] = Bokeh.index[id];\n    } else {\n      window.PyViz.plot_index[id] = null;\n    }\n  } else if (output.metadata[EXEC_MIME_TYPE][\"server_id\"] !== undefined) {\n    var bk_div = document.createElement(\"div\");\n    bk_div.innerHTML = output.data[HTML_MIME_TYPE];\n    var script_attrs = bk_div.children[0].attributes;\n    for (var i = 0; i < script_attrs.length; i++) {\n      toinsert[toinsert.length - 1].childNodes[1].setAttribute(script_attrs[i].name, script_attrs[i].value);\n    }\n    // store reference to server id on output_area\n    output_area._bokeh_server_id = output.metadata[EXEC_MIME_TYPE][\"server_id\"];\n  }\n}\n\n/**\n * Handle when an output is cleared or removed\n */\nfunction handle_clear_output(event, handle) {\n  var id = handle.cell.output_area._hv_plot_id;\n  var server_id = handle.cell.output_area._bokeh_server_id;\n  if (((id === undefined) || !(id in PyViz.plot_index)) && (server_id !== undefined)) { return; }\n  var comm = window.PyViz.comm_manager.get_client_comm(\"hv-extension-comm\", \"hv-extension-comm\", function () {});\n  if (server_id !== null) {\n    comm.send({event_type: 'server_delete', 'id': server_id});\n    return;\n  } else if (comm !== null) {\n    comm.send({event_type: 'delete', 'id': id});\n  }\n  delete PyViz.plot_index[id];\n  if ((window.Bokeh !== undefined) & (id in window.Bokeh.index)) {\n    var doc = window.Bokeh.index[id].model.document\n    doc.clear();\n    const i = window.Bokeh.documents.indexOf(doc);\n    if (i > -1) {\n      window.Bokeh.documents.splice(i, 1);\n    }\n  }\n}\n\n/**\n * Handle kernel restart event\n */\nfunction handle_kernel_cleanup(event, handle) {\n  delete PyViz.comms[\"hv-extension-comm\"];\n  window.PyViz.plot_index = {}\n}\n\n/**\n * Handle update_display_data messages\n */\nfunction handle_update_output(event, handle) {\n  handle_clear_output(event, {cell: {output_area: handle.output_area}})\n  handle_add_output(event, handle)\n}\n\nfunction register_renderer(events, OutputArea) {\n  function append_mime(data, metadata, element) {\n    // create a DOM node to render to\n    var toinsert = this.create_output_subarea(\n    metadata,\n    CLASS_NAME,\n    EXEC_MIME_TYPE\n    );\n    this.keyboard_manager.register_events(toinsert);\n    // Render to node\n    var props = {data: data, metadata: metadata[EXEC_MIME_TYPE]};\n    render(props, toinsert[0]);\n    element.append(toinsert);\n    return toinsert\n  }\n\n  events.on('output_added.OutputArea', handle_add_output);\n  events.on('output_updated.OutputArea', handle_update_output);\n  events.on('clear_output.CodeCell', handle_clear_output);\n  events.on('delete.Cell', handle_clear_output);\n  events.on('kernel_ready.Kernel', handle_kernel_cleanup);\n\n  OutputArea.prototype.register_mime_type(EXEC_MIME_TYPE, append_mime, {\n    safe: true,\n    index: 0\n  });\n}\n\nif (window.Jupyter !== undefined) {\n  try {\n    var events = require('base/js/events');\n    var OutputArea = require('notebook/js/outputarea').OutputArea;\n    if (OutputArea.prototype.mime_types().indexOf(EXEC_MIME_TYPE) == -1) {\n      register_renderer(events, OutputArea);\n    }\n  } catch(err) {\n  }\n}\n",
      "application/vnd.holoviews_load.v0+json": ""
     },
     "metadata": {},
     "output_type": "display_data"
    },
    {
     "data": {
      "text/html": [
       "<style>.bk-root, .bk-root .bk:before, .bk-root .bk:after {\n",
       "  font-family: var(--jp-ui-font-size1);\n",
       "  font-size: var(--jp-ui-font-size1);\n",
       "  color: var(--jp-ui-font-color1);\n",
       "}\n",
       "</style>"
      ]
     },
     "metadata": {},
     "output_type": "display_data"
    },
    {
     "ename": "ImportError",
     "evalue": "cannot import name 'warn' from 'bokeh.util.warnings' (d:\\Documents\\work\\langchain-study\\python310\\lib\\site-packages\\bokeh\\util\\warnings.py)",
     "output_type": "error",
     "traceback": [
      "\u001b[1;31m---------------------------------------------------------------------------\u001b[0m",
      "\u001b[1;31mImportError\u001b[0m                               Traceback (most recent call last)",
      "File \u001b[1;32md:\\Documents\\work\\langchain-study\\python310\\lib\\site-packages\\IPython\\core\\formatters.py:974\u001b[0m, in \u001b[0;36mMimeBundleFormatter.__call__\u001b[1;34m(self, obj, include, exclude)\u001b[0m\n\u001b[0;32m    971\u001b[0m     method \u001b[39m=\u001b[39m get_real_method(obj, \u001b[39mself\u001b[39m\u001b[39m.\u001b[39mprint_method)\n\u001b[0;32m    973\u001b[0m     \u001b[39mif\u001b[39;00m method \u001b[39mis\u001b[39;00m \u001b[39mnot\u001b[39;00m \u001b[39mNone\u001b[39;00m:\n\u001b[1;32m--> 974\u001b[0m         \u001b[39mreturn\u001b[39;00m method(include\u001b[39m=\u001b[39;49minclude, exclude\u001b[39m=\u001b[39;49mexclude)\n\u001b[0;32m    975\u001b[0m     \u001b[39mreturn\u001b[39;00m \u001b[39mNone\u001b[39;00m\n\u001b[0;32m    976\u001b[0m \u001b[39melse\u001b[39;00m:\n",
      "File \u001b[1;32md:\\Documents\\work\\langchain-study\\python310\\lib\\site-packages\\panel\\viewable.py:623\u001b[0m, in \u001b[0;36mViewable._repr_mimebundle_\u001b[1;34m(self, include, exclude)\u001b[0m\n\u001b[0;32m    620\u001b[0m     loaded \u001b[39m=\u001b[39m hv\u001b[39m.\u001b[39mextension\u001b[39m.\u001b[39m_loaded\n\u001b[0;32m    622\u001b[0m \u001b[39mif\u001b[39;00m config\u001b[39m.\u001b[39mcomms \u001b[39min\u001b[39;00m (\u001b[39m'\u001b[39m\u001b[39mvscode\u001b[39m\u001b[39m'\u001b[39m, \u001b[39m'\u001b[39m\u001b[39mipywidgets\u001b[39m\u001b[39m'\u001b[39m):\n\u001b[1;32m--> 623\u001b[0m     widget \u001b[39m=\u001b[39m ipywidget(\u001b[39mself\u001b[39;49m)\n\u001b[0;32m    624\u001b[0m     \u001b[39mif\u001b[39;00m \u001b[39mhasattr\u001b[39m(widget, \u001b[39m'\u001b[39m\u001b[39m_repr_mimebundle_\u001b[39m\u001b[39m'\u001b[39m):\n\u001b[0;32m    625\u001b[0m         \u001b[39mreturn\u001b[39;00m widget\u001b[39m.\u001b[39m_repr_mimebundle_(include\u001b[39m=\u001b[39minclude, exclude\u001b[39m=\u001b[39mexclude), {}\n",
      "File \u001b[1;32md:\\Documents\\work\\langchain-study\\python310\\lib\\site-packages\\panel\\io\\notebook.py:384\u001b[0m, in \u001b[0;36mipywidget\u001b[1;34m(obj, **kwargs)\u001b[0m\n\u001b[0;32m    367\u001b[0m \u001b[39mdef\u001b[39;00m \u001b[39mipywidget\u001b[39m(obj: Any, \u001b[39m*\u001b[39m\u001b[39m*\u001b[39mkwargs: Any):\n\u001b[0;32m    368\u001b[0m \u001b[39m    \u001b[39m\u001b[39m\"\"\"\u001b[39;00m\n\u001b[0;32m    369\u001b[0m \u001b[39m    Returns an ipywidget model which renders the Panel object.\u001b[39;00m\n\u001b[0;32m    370\u001b[0m \n\u001b[1;32m   (...)\u001b[0m\n\u001b[0;32m    382\u001b[0m \u001b[39m    Returns an ipywidget model which renders the Panel object.\u001b[39;00m\n\u001b[0;32m    383\u001b[0m \u001b[39m    \"\"\"\u001b[39;00m\n\u001b[1;32m--> 384\u001b[0m     \u001b[39mfrom\u001b[39;00m \u001b[39mjupyter_bokeh\u001b[39;00m\u001b[39m.\u001b[39;00m\u001b[39mwidgets\u001b[39;00m \u001b[39mimport\u001b[39;00m BokehModel\n\u001b[0;32m    386\u001b[0m     \u001b[39mfrom\u001b[39;00m \u001b[39m.\u001b[39;00m\u001b[39m.\u001b[39;00m\u001b[39mpane\u001b[39;00m \u001b[39mimport\u001b[39;00m panel\n\u001b[0;32m    387\u001b[0m     model \u001b[39m=\u001b[39m panel(obj, \u001b[39m*\u001b[39m\u001b[39m*\u001b[39mkwargs)\u001b[39m.\u001b[39mget_root()\n",
      "File \u001b[1;32md:\\Documents\\work\\langchain-study\\python310\\lib\\site-packages\\jupyter_bokeh\\__init__.py:9\u001b[0m\n\u001b[0;32m      5\u001b[0m \u001b[39mfrom\u001b[39;00m \u001b[39m.\u001b[39;00m\u001b[39m_version\u001b[39;00m \u001b[39mimport\u001b[39;00m __version__\n\u001b[0;32m      7\u001b[0m HERE \u001b[39m=\u001b[39m Path(\u001b[39m__file__\u001b[39m)\u001b[39m.\u001b[39mparent\u001b[39m.\u001b[39mresolve()\n\u001b[1;32m----> 9\u001b[0m \u001b[39mfrom\u001b[39;00m \u001b[39m.\u001b[39;00m\u001b[39mwidgets\u001b[39;00m \u001b[39mimport\u001b[39;00m BokehModel\n\u001b[0;32m     10\u001b[0m \u001b[39mwith\u001b[39;00m (HERE \u001b[39m/\u001b[39m \u001b[39m\"\u001b[39m\u001b[39mlabextension\u001b[39m\u001b[39m\"\u001b[39m \u001b[39m/\u001b[39m \u001b[39m\"\u001b[39m\u001b[39mpackage.json\u001b[39m\u001b[39m\"\u001b[39m)\u001b[39m.\u001b[39mopen() \u001b[39mas\u001b[39;00m fid:\n\u001b[0;32m     11\u001b[0m     data \u001b[39m=\u001b[39m json\u001b[39m.\u001b[39mload(fid)\n",
      "File \u001b[1;32md:\\Documents\\work\\langchain-study\\python310\\lib\\site-packages\\jupyter_bokeh\\widgets.py:33\u001b[0m\n\u001b[0;32m     31\u001b[0m \u001b[39mfrom\u001b[39;00m \u001b[39mbokeh\u001b[39;00m\u001b[39m.\u001b[39;00m\u001b[39mmodels\u001b[39;00m \u001b[39mimport\u001b[39;00m ColumnDataSource, LayoutDOM\n\u001b[0;32m     32\u001b[0m \u001b[39mfrom\u001b[39;00m \u001b[39mbokeh\u001b[39;00m\u001b[39m.\u001b[39;00m\u001b[39mprotocol\u001b[39;00m \u001b[39mimport\u001b[39;00m Protocol\n\u001b[1;32m---> 33\u001b[0m \u001b[39mfrom\u001b[39;00m \u001b[39mbokeh\u001b[39;00m\u001b[39m.\u001b[39;00m\u001b[39mcore\u001b[39;00m\u001b[39m.\u001b[39;00m\u001b[39mserialization\u001b[39;00m \u001b[39mimport\u001b[39;00m Deserializer, Serialized\n\u001b[0;32m     34\u001b[0m \u001b[39mfrom\u001b[39;00m \u001b[39mbokeh\u001b[39;00m\u001b[39m.\u001b[39;00m\u001b[39mmodel\u001b[39;00m \u001b[39mimport\u001b[39;00m Model\n\u001b[0;32m     36\u001b[0m \u001b[39mfrom\u001b[39;00m \u001b[39m.\u001b[39;00m\u001b[39m_version\u001b[39;00m \u001b[39mimport\u001b[39;00m __version__\n",
      "File \u001b[1;32md:\\Documents\\work\\langchain-study\\python310\\lib\\site-packages\\bokeh\\core\\serialization.py:63\u001b[0m\n\u001b[0;32m     47\u001b[0m \u001b[39mfrom\u001b[39;00m \u001b[39m.\u001b[39;00m\u001b[39m.\u001b[39;00m\u001b[39mutil\u001b[39;00m\u001b[39m.\u001b[39;00m\u001b[39mdataclasses\u001b[39;00m \u001b[39mimport\u001b[39;00m (\n\u001b[0;32m     48\u001b[0m     Unspecified,\n\u001b[0;32m     49\u001b[0m     dataclass,\n\u001b[0;32m     50\u001b[0m     entries,\n\u001b[0;32m     51\u001b[0m     is_dataclass,\n\u001b[0;32m     52\u001b[0m )\n\u001b[0;32m     53\u001b[0m \u001b[39mfrom\u001b[39;00m \u001b[39m.\u001b[39;00m\u001b[39m.\u001b[39;00m\u001b[39mutil\u001b[39;00m\u001b[39m.\u001b[39;00m\u001b[39mserialization\u001b[39;00m \u001b[39mimport\u001b[39;00m (\n\u001b[0;32m     54\u001b[0m     array_encoding_disabled,\n\u001b[0;32m     55\u001b[0m     convert_datetime_type,\n\u001b[1;32m   (...)\u001b[0m\n\u001b[0;32m     61\u001b[0m     transform_series,\n\u001b[0;32m     62\u001b[0m )\n\u001b[1;32m---> 63\u001b[0m \u001b[39mfrom\u001b[39;00m \u001b[39m.\u001b[39;00m\u001b[39m.\u001b[39;00m\u001b[39mutil\u001b[39;00m\u001b[39m.\u001b[39;00m\u001b[39mwarnings\u001b[39;00m \u001b[39mimport\u001b[39;00m BokehUserWarning, warn\n\u001b[0;32m     64\u001b[0m \u001b[39mfrom\u001b[39;00m \u001b[39m.\u001b[39;00m\u001b[39mtypes\u001b[39;00m \u001b[39mimport\u001b[39;00m ID\n\u001b[0;32m     66\u001b[0m \u001b[39mif\u001b[39;00m TYPE_CHECKING:\n",
      "\u001b[1;31mImportError\u001b[0m: cannot import name 'warn' from 'bokeh.util.warnings' (d:\\Documents\\work\\langchain-study\\python310\\lib\\site-packages\\bokeh\\util\\warnings.py)"
     ]
    },
    {
     "data": {
      "text/plain": [
       "Column\n",
       "    [0] TextInput(placeholder='Enter text here…')\n",
       "    [1] Row\n",
       "        [0] Button(name='Chat!')\n",
       "    [2] ParamFunction(function, _pane=Column, height=300, loading_indicator=True)"
      ]
     },
     "execution_count": 7,
     "metadata": {},
     "output_type": "execute_result"
    }
   ],
   "source": [
    "\n",
    "\n",
    "\n",
    "def get_completion(prompt, model=\"gpt-3.5-turbo\"):\n",
    "    messages = [{\"role\": \"user\", \"content\": prompt}]\n",
    "    response = openai.ChatCompletion.create(\n",
    "        model=model,\n",
    "        messages=messages,\n",
    "        temperature=0, # this is the degree of randomness of the model's output\n",
    "    )\n",
    "    return response.choices[0].message[\"content\"]\n",
    "\n",
    "\n",
    "def get_completion_from_messages(messages, model=\"gpt-3.5-turbo\", temperature=0):\n",
    "    response = openai.ChatCompletion.create(\n",
    "        model=model,\n",
    "        messages=messages,\n",
    "        temperature=temperature, # this is the degree of randomness of the model's output\n",
    "    )\n",
    "#     print(str(response.choices[0].message))\n",
    "    return response.choices[0].message[\"content\"]\n",
    "\n",
    "\n",
    "def collect_messages(_):\n",
    "    prompt = inp.value_input\n",
    "    inp.value = ''\n",
    "    context.append({'role':'user', 'content':f\"{prompt}\"})\n",
    "    response = get_completion_from_messages(context) \n",
    "    context.append({'role':'assistant', 'content':f\"{response}\"})\n",
    "    panels.append(\n",
    "        pn.Row('User:', pn.pane.Markdown(prompt, width=600)))\n",
    "    panels.append(\n",
    "        pn.Row('Assistant:', pn.pane.Markdown(response, width=600, style={'background-color': '#F6F6F6'})))\n",
    " \n",
    "    return pn.Column(*panels)\n",
    "\n",
    "import panel as pn  # GUI\n",
    "pn.extension()\n",
    "\n",
    "panels = [] # collect display \n",
    "\n",
    "context = [ {'role':'system', 'content':\"\"\"\n",
    "You are OrderBot, an automated service to collect orders for a pizza restaurant. \\\n",
    "You first greet the customer, then collects the order, \\\n",
    "and then asks if it's a pickup or delivery. \\\n",
    "You wait to collect the entire order, then summarize it and check for a final \\\n",
    "time if the customer wants to add anything else. \\\n",
    "If it's a delivery, you ask for an address. \\\n",
    "Finally you collect the payment.\\\n",
    "Make sure to clarify all options, extras and sizes to uniquely \\\n",
    "identify the item from the menu.\\\n",
    "You respond in a short, very conversational friendly style. \\\n",
    "The menu includes \\\n",
    "pepperoni pizza  12.95, 10.00, 7.00 \\\n",
    "cheese pizza   10.95, 9.25, 6.50 \\\n",
    "eggplant pizza   11.95, 9.75, 6.75 \\\n",
    "fries 4.50, 3.50 \\\n",
    "greek salad 7.25 \\\n",
    "Toppings: \\\n",
    "extra cheese 2.00, \\\n",
    "mushrooms 1.50 \\\n",
    "sausage 3.00 \\\n",
    "canadian bacon 3.50 \\\n",
    "AI sauce 1.50 \\\n",
    "peppers 1.00 \\\n",
    "Drinks: \\\n",
    "coke 3.00, 2.00, 1.00 \\\n",
    "sprite 3.00, 2.00, 1.00 \\\n",
    "bottled water 5.00 \\\n",
    "\"\"\"} ]  # accumulate messages\n",
    "\n",
    "\n",
    "inp = pn.widgets.TextInput(value=\"Hi\", placeholder='Enter text here…')\n",
    "button_conversation = pn.widgets.Button(name=\"Chat!\")\n",
    "\n",
    "interactive_conversation = pn.bind(collect_messages, button_conversation)\n",
    "\n",
    "dashboard = pn.Column(\n",
    "    inp,\n",
    "    pn.Row(button_conversation),\n",
    "    pn.panel(interactive_conversation, loading_indicator=True, height=300),\n",
    ")\n",
    "\n",
    "dashboard"
   ]
  },
  {
   "cell_type": "code",
   "execution_count": 3,
   "metadata": {},
   "outputs": [
    {
     "name": "stdout",
     "output_type": "stream",
     "text": [
      "Maximum Score: 20\n"
     ]
    }
   ],
   "source": [
    "def calculate_score(num, central_pile, memo):\n",
    "    if num == 1 or num not in central_pile:\n",
    "        return 0\n",
    "\n",
    "    if num in memo:\n",
    "        return memo[num]\n",
    "\n",
    "    max_score = 0\n",
    "    for factor in range(2, int(num/2) + 1):\n",
    "        if num % factor == 0 and factor in central_pile:\n",
    "            new_central_pile = central_pile.copy()\n",
    "            new_central_pile.remove(factor)\n",
    "            max_score = max(max_score, num + calculate_score(factor, new_central_pile, memo))\n",
    "\n",
    "    memo[num] = max_score\n",
    "    return max_score\n",
    "\n",
    "\n",
    "central_pile = list(range(1, 21))\n",
    "memo = {}\n",
    "\n",
    "max_score = 0\n",
    "for num in central_pile:\n",
    "    max_score = max(max_score, calculate_score(num, central_pile, memo))\n",
    "\n",
    "print(\"Maximum Score:\", max_score)\n"
   ]
  },
  {
   "cell_type": "code",
   "execution_count": 6,
   "metadata": {},
   "outputs": [
    {
     "data": {
      "text/plain": [
       "<OpenAIObject chat.completion id=chatcmpl-7IxWqGGp40OfixYfQDHJub0Fvno94 at 0x250dd976d40> JSON: {\n",
       "  \"choices\": [\n",
       "    {\n",
       "      \"finish_reason\": \"stop\",\n",
       "      \"index\": 0,\n",
       "      \"message\": {\n",
       "        \"content\": \"To better understand the reasoning behind this, let's break down the problem step by step:\\n\\n1. We know that the GPFs of the successive composite numbers in question are 41, 19, and 79.\\n\\n2. First, let's consider the GPF of 41. Since 41 is a prime number, the smallest composite number with a GPF of 41, will have the form (41 * a), where a is the smallest integer greater than 1. Hence, the smallest composite with a GPF of 41 is 41 * 2 = 82. But this is a three-digit number, so we need to look further.\\n\\n3. Next, let's consider the GPF of 19. As we know that the GPF of the previous composite number was 41, then this composite number will have the form (19 * b), where b is an integer, such that 41 divides (19 * b - 1). The smallest integer b that satisfies this condition is 9, because 19 * 9 = 171, and 170 is divisible by 41. Therefore, the smallest composite with a GPF of 19 that comes after a composite with a GPF of 41 is 171, which is also a three-digit number. Hence, we need to search for a larger composite.\\n\\n4. Finally, let's consider the GPF of 79. We already know the GPF of the previous composite number was 19. Thus, this composite number will have the form (79 * c), where c is an integer such that 19 divides (79 * c - 1). The smallest integer c meeting this condition is 4, because 79 * 4 = 316, and 315 is divisible by 19. So, the smallest composite with a GPF of 79 that comes after a composite with a GPF of 19 is 316, which is still a three-digit number.\\n\\nIn conclusion, however, the composites with a GPF sequence of 41, 19, 79 must all have at least four digits because the smallest available composite from our calculation is less than 1000, thus a three-digit number. When considering GPF sequences for larger composite numbers, this will not hold true, and four-digit numbers might start appearing in the GPF sequence. This reasoning does not guarantee that the next set of composites with this GPF sequence will be four-digit numbers but shows that for the sequence provided, the composite numbers do not require four digits.\",\n",
       "        \"role\": \"assistant\"\n",
       "      }\n",
       "    }\n",
       "  ],\n",
       "  \"created\": 1684753088,\n",
       "  \"id\": \"chatcmpl-7IxWqGGp40OfixYfQDHJub0Fvno94\",\n",
       "  \"model\": \"gpt-4-0314\",\n",
       "  \"object\": \"chat.completion\",\n",
       "  \"usage\": {\n",
       "    \"completion_tokens\": 521,\n",
       "    \"prompt_tokens\": 145,\n",
       "    \"total_tokens\": 666\n",
       "  }\n",
       "}"
      ]
     },
     "execution_count": 6,
     "metadata": {},
     "output_type": "execute_result"
    }
   ],
   "source": [
    "system_prompt = {\n",
    "        \"role\": \"system\",\n",
    "        \"content\": \"\"\"You are a mathmatician.\"\"\"\n",
    "    }\n",
    "user_prompt = {\n",
    "        \"role\": \"user\",\n",
    "        \"content\": f\"\"\"\n",
    "        The list of GPFs (Greatest Primary Factor) of successive composites is called a GFP sequence. For example, the sequence of GPFs for the composites from 40 to  49 is 5, 7, 11, 5, 23, 3, 7. Note that 41, 43 and 47 are prime and do not contribute to the sequence of GPFs. \n",
    "Based on this information, please explain why successive composites that give the sequence of GPFs 41, 19, 79 must all have at least four digits.\n",
    "        \"\"\"\n",
    "    }\n",
    "messages = [system_prompt, user_prompt]\n",
    "response = openai.ChatCompletion.create(\n",
    "            model='gpt-4',\n",
    "            messages=messages,\n",
    "            max_tokens=1000,\n",
    "        )\n",
    "response"
   ]
  },
  {
   "cell_type": "code",
   "execution_count": null,
   "metadata": {},
   "outputs": [],
   "source": []
  },
  {
   "cell_type": "code",
   "execution_count": 1,
   "metadata": {},
   "outputs": [
    {
     "data": {
      "application/javascript": "(function(root) {\n  function now() {\n    return new Date();\n  }\n\n  var force = true;\n  var py_version = '3.1.1'.replace('rc', '-rc.');\n  var is_dev = py_version.indexOf(\"+\") !== -1 || py_version.indexOf(\"-\") !== -1;\n  var reloading = false;\n  var Bokeh = root.Bokeh;\n  var bokeh_loaded = Bokeh != null && (Bokeh.version === py_version || (Bokeh.versions !== undefined && Bokeh.versions.has(py_version)));\n\n  if (typeof (root._bokeh_timeout) === \"undefined\" || force) {\n    root._bokeh_timeout = Date.now() + 5000;\n    root._bokeh_failed_load = false;\n  }\n\n  function run_callbacks() {\n    try {\n      root._bokeh_onload_callbacks.forEach(function(callback) {\n        if (callback != null)\n          callback();\n      });\n    } finally {\n      delete root._bokeh_onload_callbacks;\n    }\n    console.debug(\"Bokeh: all callbacks have finished\");\n  }\n\n  function load_libs(css_urls, js_urls, js_modules, js_exports, callback) {\n    if (css_urls == null) css_urls = [];\n    if (js_urls == null) js_urls = [];\n    if (js_modules == null) js_modules = [];\n    if (js_exports == null) js_exports = {};\n\n    root._bokeh_onload_callbacks.push(callback);\n\n    if (root._bokeh_is_loading > 0) {\n      console.debug(\"Bokeh: BokehJS is being loaded, scheduling callback at\", now());\n      return null;\n    }\n    if (js_urls.length === 0 && js_modules.length === 0 && Object.keys(js_exports).length === 0) {\n      run_callbacks();\n      return null;\n    }\n    if (!reloading) {\n      console.debug(\"Bokeh: BokehJS not loaded, scheduling load and callback at\", now());\n    }\n\n    function on_load() {\n      root._bokeh_is_loading--;\n      if (root._bokeh_is_loading === 0) {\n        console.debug(\"Bokeh: all BokehJS libraries/stylesheets loaded\");\n        run_callbacks()\n      }\n    }\n    window._bokeh_on_load = on_load\n\n    function on_error() {\n      console.error(\"failed to load \" + url);\n    }\n\n    var skip = [];\n    if (window.requirejs) {\n      window.requirejs.config({'packages': {}, 'paths': {'jspanel': 'https://cdn.jsdelivr.net/npm/jspanel4@4.12.0/dist/jspanel', 'jspanel-modal': 'https://cdn.jsdelivr.net/npm/jspanel4@4.12.0/dist/extensions/modal/jspanel.modal', 'jspanel-tooltip': 'https://cdn.jsdelivr.net/npm/jspanel4@4.12.0/dist/extensions/tooltip/jspanel.tooltip', 'jspanel-hint': 'https://cdn.jsdelivr.net/npm/jspanel4@4.12.0/dist/extensions/hint/jspanel.hint', 'jspanel-layout': 'https://cdn.jsdelivr.net/npm/jspanel4@4.12.0/dist/extensions/layout/jspanel.layout', 'jspanel-contextmenu': 'https://cdn.jsdelivr.net/npm/jspanel4@4.12.0/dist/extensions/contextmenu/jspanel.contextmenu', 'jspanel-dock': 'https://cdn.jsdelivr.net/npm/jspanel4@4.12.0/dist/extensions/dock/jspanel.dock', 'gridstack': 'https://cdn.jsdelivr.net/npm/gridstack@7.2.3/dist/gridstack-all', 'notyf': 'https://cdn.jsdelivr.net/npm/notyf@3/notyf.min'}, 'shim': {'jspanel': {'exports': 'jsPanel'}, 'gridstack': {'exports': 'GridStack'}}});\n      require([\"jspanel\"], function(jsPanel) {\n\twindow.jsPanel = jsPanel\n\ton_load()\n      })\n      require([\"jspanel-modal\"], function() {\n\ton_load()\n      })\n      require([\"jspanel-tooltip\"], function() {\n\ton_load()\n      })\n      require([\"jspanel-hint\"], function() {\n\ton_load()\n      })\n      require([\"jspanel-layout\"], function() {\n\ton_load()\n      })\n      require([\"jspanel-contextmenu\"], function() {\n\ton_load()\n      })\n      require([\"jspanel-dock\"], function() {\n\ton_load()\n      })\n      require([\"gridstack\"], function(GridStack) {\n\twindow.GridStack = GridStack\n\ton_load()\n      })\n      require([\"notyf\"], function() {\n\ton_load()\n      })\n      root._bokeh_is_loading = css_urls.length + 9;\n    } else {\n      root._bokeh_is_loading = css_urls.length + js_urls.length + js_modules.length + Object.keys(js_exports).length;\n    }\n\n    var existing_stylesheets = []\n    var links = document.getElementsByTagName('link')\n    for (var i = 0; i < links.length; i++) {\n      var link = links[i]\n      if (link.href != null) {\n\texisting_stylesheets.push(link.href)\n      }\n    }\n    for (var i = 0; i < css_urls.length; i++) {\n      var url = css_urls[i];\n      if (existing_stylesheets.indexOf(url) !== -1) {\n\ton_load()\n\tcontinue;\n      }\n      const element = document.createElement(\"link\");\n      element.onload = on_load;\n      element.onerror = on_error;\n      element.rel = \"stylesheet\";\n      element.type = \"text/css\";\n      element.href = url;\n      console.debug(\"Bokeh: injecting link tag for BokehJS stylesheet: \", url);\n      document.body.appendChild(element);\n    }    if (((window['jsPanel'] !== undefined) && (!(window['jsPanel'] instanceof HTMLElement))) || window.requirejs) {\n      var urls = ['https://cdn.holoviz.org/panel/1.0.4/dist/bundled/floatpanel/jspanel4@4.12.0/dist/jspanel.js', 'https://cdn.holoviz.org/panel/1.0.4/dist/bundled/floatpanel/jspanel4@4.12.0/dist/extensions/modal/jspanel.modal.js', 'https://cdn.holoviz.org/panel/1.0.4/dist/bundled/floatpanel/jspanel4@4.12.0/dist/extensions/tooltip/jspanel.tooltip.js', 'https://cdn.holoviz.org/panel/1.0.4/dist/bundled/floatpanel/jspanel4@4.12.0/dist/extensions/hint/jspanel.hint.js', 'https://cdn.holoviz.org/panel/1.0.4/dist/bundled/floatpanel/jspanel4@4.12.0/dist/extensions/layout/jspanel.layout.js', 'https://cdn.holoviz.org/panel/1.0.4/dist/bundled/floatpanel/jspanel4@4.12.0/dist/extensions/contextmenu/jspanel.contextmenu.js', 'https://cdn.holoviz.org/panel/1.0.4/dist/bundled/floatpanel/jspanel4@4.12.0/dist/extensions/dock/jspanel.dock.js'];\n      for (var i = 0; i < urls.length; i++) {\n        skip.push(urls[i])\n      }\n    }    if (((window['GridStack'] !== undefined) && (!(window['GridStack'] instanceof HTMLElement))) || window.requirejs) {\n      var urls = ['https://cdn.holoviz.org/panel/1.0.4/dist/bundled/gridstack/gridstack@7.2.3/dist/gridstack-all.js'];\n      for (var i = 0; i < urls.length; i++) {\n        skip.push(urls[i])\n      }\n    }    if (((window['Notyf'] !== undefined) && (!(window['Notyf'] instanceof HTMLElement))) || window.requirejs) {\n      var urls = ['https://cdn.holoviz.org/panel/1.0.4/dist/bundled/notificationarea/notyf@3/notyf.min.js'];\n      for (var i = 0; i < urls.length; i++) {\n        skip.push(urls[i])\n      }\n    }    var existing_scripts = []\n    var scripts = document.getElementsByTagName('script')\n    for (var i = 0; i < scripts.length; i++) {\n      var script = scripts[i]\n      if (script.src != null) {\n\texisting_scripts.push(script.src)\n      }\n    }\n    for (var i = 0; i < js_urls.length; i++) {\n      var url = js_urls[i];\n      if (skip.indexOf(url) !== -1 || existing_scripts.indexOf(url) !== -1) {\n\tif (!window.requirejs) {\n\t  on_load();\n\t}\n\tcontinue;\n      }\n      var element = document.createElement('script');\n      element.onload = on_load;\n      element.onerror = on_error;\n      element.async = false;\n      element.src = url;\n      console.debug(\"Bokeh: injecting script tag for BokehJS library: \", url);\n      document.head.appendChild(element);\n    }\n    for (var i = 0; i < js_modules.length; i++) {\n      var url = js_modules[i];\n      if (skip.indexOf(url) !== -1 || existing_scripts.indexOf(url) !== -1) {\n\tif (!window.requirejs) {\n\t  on_load();\n\t}\n\tcontinue;\n      }\n      var element = document.createElement('script');\n      element.onload = on_load;\n      element.onerror = on_error;\n      element.async = false;\n      element.src = url;\n      element.type = \"module\";\n      console.debug(\"Bokeh: injecting script tag for BokehJS library: \", url);\n      document.head.appendChild(element);\n    }\n    for (const name in js_exports) {\n      var url = js_exports[name];\n      if (skip.indexOf(url) >= 0 || root[name] != null) {\n\tif (!window.requirejs) {\n\t  on_load();\n\t}\n\tcontinue;\n      }\n      var element = document.createElement('script');\n      element.onerror = on_error;\n      element.async = false;\n      element.type = \"module\";\n      console.debug(\"Bokeh: injecting script tag for BokehJS library: \", url);\n      element.textContent = `\n      import ${name} from \"${url}\"\n      window.${name} = ${name}\n      window._bokeh_on_load()\n      `\n      document.head.appendChild(element);\n    }\n    if (!js_urls.length && !js_modules.length) {\n      on_load()\n    }\n  };\n\n  function inject_raw_css(css) {\n    const element = document.createElement(\"style\");\n    element.appendChild(document.createTextNode(css));\n    document.body.appendChild(element);\n  }\n\n  var js_urls = [\"https://cdn.bokeh.org/bokeh/release/bokeh-3.1.1.min.js\", \"https://cdn.bokeh.org/bokeh/release/bokeh-gl-3.1.1.min.js\", \"https://cdn.bokeh.org/bokeh/release/bokeh-widgets-3.1.1.min.js\", \"https://cdn.bokeh.org/bokeh/release/bokeh-tables-3.1.1.min.js\", \"https://cdn.holoviz.org/panel/1.0.4/dist/panel.min.js\"];\n  var js_modules = [];\n  var js_exports = {};\n  var css_urls = [];\n  var inline_js = [    function(Bokeh) {\n      Bokeh.set_log_level(\"info\");\n    },\nfunction(Bokeh) {} // ensure no trailing comma for IE\n  ];\n\n  function run_inline_js() {\n    if ((root.Bokeh !== undefined) || (force === true)) {\n      for (var i = 0; i < inline_js.length; i++) {\n        inline_js[i].call(root, root.Bokeh);\n      }\n      // Cache old bokeh versions\n      if (Bokeh != undefined && !reloading) {\n\tvar NewBokeh = root.Bokeh;\n\tif (Bokeh.versions === undefined) {\n\t  Bokeh.versions = new Map();\n\t}\n\tif (NewBokeh.version !== Bokeh.version) {\n\t  Bokeh.versions.set(NewBokeh.version, NewBokeh)\n\t}\n\troot.Bokeh = Bokeh;\n      }} else if (Date.now() < root._bokeh_timeout) {\n      setTimeout(run_inline_js, 100);\n    } else if (!root._bokeh_failed_load) {\n      console.log(\"Bokeh: BokehJS failed to load within specified timeout.\");\n      root._bokeh_failed_load = true;\n    }\n    root._bokeh_is_initializing = false\n  }\n\n  function load_or_wait() {\n    // Implement a backoff loop that tries to ensure we do not load multiple\n    // versions of Bokeh and its dependencies at the same time.\n    // In recent versions we use the root._bokeh_is_initializing flag\n    // to determine whether there is an ongoing attempt to initialize\n    // bokeh, however for backward compatibility we also try to ensure\n    // that we do not start loading a newer (Panel>=1.0 and Bokeh>3) version\n    // before older versions are fully initialized.\n    if (root._bokeh_is_initializing && Date.now() > root._bokeh_timeout) {\n      root._bokeh_is_initializing = false;\n      root._bokeh_onload_callbacks = undefined;\n      console.log(\"Bokeh: BokehJS was loaded multiple times but one version failed to initialize.\");\n      load_or_wait();\n    } else if (root._bokeh_is_initializing || (typeof root._bokeh_is_initializing === \"undefined\" && root._bokeh_onload_callbacks !== undefined)) {\n      setTimeout(load_or_wait, 100);\n    } else {\n      Bokeh = root.Bokeh;\n      bokeh_loaded = Bokeh != null && (Bokeh.version === py_version || (Bokeh.versions !== undefined && Bokeh.versions.has(py_version)));\n      root._bokeh_is_initializing = true\n      root._bokeh_onload_callbacks = []\n      if (!reloading && (!bokeh_loaded || is_dev)) {\n\troot.Bokeh = undefined;\n      }\n      load_libs(css_urls, js_urls, js_modules, js_exports, function() {\n\tconsole.debug(\"Bokeh: BokehJS plotting callback run at\", now());\n\trun_inline_js();\n      });\n    }\n  }\n  // Give older versions of the autoload script a head-start to ensure\n  // they initialize before we start loading newer version.\n  setTimeout(load_or_wait, 100)\n}(window));",
      "application/vnd.holoviews_load.v0+json": ""
     },
     "metadata": {},
     "output_type": "display_data"
    },
    {
     "data": {
      "application/javascript": "\nif ((window.PyViz === undefined) || (window.PyViz instanceof HTMLElement)) {\n  window.PyViz = {comms: {}, comm_status:{}, kernels:{}, receivers: {}, plot_index: []}\n}\n\n\n    function JupyterCommManager() {\n    }\n\n    JupyterCommManager.prototype.register_target = function(plot_id, comm_id, msg_handler) {\n      if (window.comm_manager || ((window.Jupyter !== undefined) && (Jupyter.notebook.kernel != null))) {\n        var comm_manager = window.comm_manager || Jupyter.notebook.kernel.comm_manager;\n        comm_manager.register_target(comm_id, function(comm) {\n          comm.on_msg(msg_handler);\n        });\n      } else if ((plot_id in window.PyViz.kernels) && (window.PyViz.kernels[plot_id])) {\n        window.PyViz.kernels[plot_id].registerCommTarget(comm_id, function(comm) {\n          comm.onMsg = msg_handler;\n        });\n      } else if (typeof google != 'undefined' && google.colab.kernel != null) {\n        google.colab.kernel.comms.registerTarget(comm_id, (comm) => {\n          var messages = comm.messages[Symbol.asyncIterator]();\n          function processIteratorResult(result) {\n            var message = result.value;\n            console.log(message)\n            var content = {data: message.data, comm_id};\n            var buffers = []\n            for (var buffer of message.buffers || []) {\n              buffers.push(new DataView(buffer))\n            }\n            var metadata = message.metadata || {};\n            var msg = {content, buffers, metadata}\n            msg_handler(msg);\n            return messages.next().then(processIteratorResult);\n          }\n          return messages.next().then(processIteratorResult);\n        })\n      }\n    }\n\n    JupyterCommManager.prototype.get_client_comm = function(plot_id, comm_id, msg_handler) {\n      if (comm_id in window.PyViz.comms) {\n        return window.PyViz.comms[comm_id];\n      } else if (window.comm_manager || ((window.Jupyter !== undefined) && (Jupyter.notebook.kernel != null))) {\n        var comm_manager = window.comm_manager || Jupyter.notebook.kernel.comm_manager;\n        var comm = comm_manager.new_comm(comm_id, {}, {}, {}, comm_id);\n        if (msg_handler) {\n          comm.on_msg(msg_handler);\n        }\n      } else if ((plot_id in window.PyViz.kernels) && (window.PyViz.kernels[plot_id])) {\n        var comm = window.PyViz.kernels[plot_id].connectToComm(comm_id);\n        comm.open();\n        if (msg_handler) {\n          comm.onMsg = msg_handler;\n        }\n      } else if (typeof google != 'undefined' && google.colab.kernel != null) {\n        var comm_promise = google.colab.kernel.comms.open(comm_id)\n        comm_promise.then((comm) => {\n          window.PyViz.comms[comm_id] = comm;\n          if (msg_handler) {\n            var messages = comm.messages[Symbol.asyncIterator]();\n            function processIteratorResult(result) {\n              var message = result.value;\n              var content = {data: message.data};\n              var metadata = message.metadata || {comm_id};\n              var msg = {content, metadata}\n              msg_handler(msg);\n              return messages.next().then(processIteratorResult);\n            }\n            return messages.next().then(processIteratorResult);\n          }\n        }) \n        var sendClosure = (data, metadata, buffers, disposeOnDone) => {\n          return comm_promise.then((comm) => {\n            comm.send(data, metadata, buffers, disposeOnDone);\n          });\n        };\n        var comm = {\n          send: sendClosure\n        };\n      }\n      window.PyViz.comms[comm_id] = comm;\n      return comm;\n    }\n    window.PyViz.comm_manager = new JupyterCommManager();\n    \n\n\nvar JS_MIME_TYPE = 'application/javascript';\nvar HTML_MIME_TYPE = 'text/html';\nvar EXEC_MIME_TYPE = 'application/vnd.holoviews_exec.v0+json';\nvar CLASS_NAME = 'output';\n\n/**\n * Render data to the DOM node\n */\nfunction render(props, node) {\n  var div = document.createElement(\"div\");\n  var script = document.createElement(\"script\");\n  node.appendChild(div);\n  node.appendChild(script);\n}\n\n/**\n * Handle when a new output is added\n */\nfunction handle_add_output(event, handle) {\n  var output_area = handle.output_area;\n  var output = handle.output;\n  if ((output.data == undefined) || (!output.data.hasOwnProperty(EXEC_MIME_TYPE))) {\n    return\n  }\n  var id = output.metadata[EXEC_MIME_TYPE][\"id\"];\n  var toinsert = output_area.element.find(\".\" + CLASS_NAME.split(' ')[0]);\n  if (id !== undefined) {\n    var nchildren = toinsert.length;\n    var html_node = toinsert[nchildren-1].children[0];\n    html_node.innerHTML = output.data[HTML_MIME_TYPE];\n    var scripts = [];\n    var nodelist = html_node.querySelectorAll(\"script\");\n    for (var i in nodelist) {\n      if (nodelist.hasOwnProperty(i)) {\n        scripts.push(nodelist[i])\n      }\n    }\n\n    scripts.forEach( function (oldScript) {\n      var newScript = document.createElement(\"script\");\n      var attrs = [];\n      var nodemap = oldScript.attributes;\n      for (var j in nodemap) {\n        if (nodemap.hasOwnProperty(j)) {\n          attrs.push(nodemap[j])\n        }\n      }\n      attrs.forEach(function(attr) { newScript.setAttribute(attr.name, attr.value) });\n      newScript.appendChild(document.createTextNode(oldScript.innerHTML));\n      oldScript.parentNode.replaceChild(newScript, oldScript);\n    });\n    if (JS_MIME_TYPE in output.data) {\n      toinsert[nchildren-1].children[1].textContent = output.data[JS_MIME_TYPE];\n    }\n    output_area._hv_plot_id = id;\n    if ((window.Bokeh !== undefined) && (id in Bokeh.index)) {\n      window.PyViz.plot_index[id] = Bokeh.index[id];\n    } else {\n      window.PyViz.plot_index[id] = null;\n    }\n  } else if (output.metadata[EXEC_MIME_TYPE][\"server_id\"] !== undefined) {\n    var bk_div = document.createElement(\"div\");\n    bk_div.innerHTML = output.data[HTML_MIME_TYPE];\n    var script_attrs = bk_div.children[0].attributes;\n    for (var i = 0; i < script_attrs.length; i++) {\n      toinsert[toinsert.length - 1].childNodes[1].setAttribute(script_attrs[i].name, script_attrs[i].value);\n    }\n    // store reference to server id on output_area\n    output_area._bokeh_server_id = output.metadata[EXEC_MIME_TYPE][\"server_id\"];\n  }\n}\n\n/**\n * Handle when an output is cleared or removed\n */\nfunction handle_clear_output(event, handle) {\n  var id = handle.cell.output_area._hv_plot_id;\n  var server_id = handle.cell.output_area._bokeh_server_id;\n  if (((id === undefined) || !(id in PyViz.plot_index)) && (server_id !== undefined)) { return; }\n  var comm = window.PyViz.comm_manager.get_client_comm(\"hv-extension-comm\", \"hv-extension-comm\", function () {});\n  if (server_id !== null) {\n    comm.send({event_type: 'server_delete', 'id': server_id});\n    return;\n  } else if (comm !== null) {\n    comm.send({event_type: 'delete', 'id': id});\n  }\n  delete PyViz.plot_index[id];\n  if ((window.Bokeh !== undefined) & (id in window.Bokeh.index)) {\n    var doc = window.Bokeh.index[id].model.document\n    doc.clear();\n    const i = window.Bokeh.documents.indexOf(doc);\n    if (i > -1) {\n      window.Bokeh.documents.splice(i, 1);\n    }\n  }\n}\n\n/**\n * Handle kernel restart event\n */\nfunction handle_kernel_cleanup(event, handle) {\n  delete PyViz.comms[\"hv-extension-comm\"];\n  window.PyViz.plot_index = {}\n}\n\n/**\n * Handle update_display_data messages\n */\nfunction handle_update_output(event, handle) {\n  handle_clear_output(event, {cell: {output_area: handle.output_area}})\n  handle_add_output(event, handle)\n}\n\nfunction register_renderer(events, OutputArea) {\n  function append_mime(data, metadata, element) {\n    // create a DOM node to render to\n    var toinsert = this.create_output_subarea(\n    metadata,\n    CLASS_NAME,\n    EXEC_MIME_TYPE\n    );\n    this.keyboard_manager.register_events(toinsert);\n    // Render to node\n    var props = {data: data, metadata: metadata[EXEC_MIME_TYPE]};\n    render(props, toinsert[0]);\n    element.append(toinsert);\n    return toinsert\n  }\n\n  events.on('output_added.OutputArea', handle_add_output);\n  events.on('output_updated.OutputArea', handle_update_output);\n  events.on('clear_output.CodeCell', handle_clear_output);\n  events.on('delete.Cell', handle_clear_output);\n  events.on('kernel_ready.Kernel', handle_kernel_cleanup);\n\n  OutputArea.prototype.register_mime_type(EXEC_MIME_TYPE, append_mime, {\n    safe: true,\n    index: 0\n  });\n}\n\nif (window.Jupyter !== undefined) {\n  try {\n    var events = require('base/js/events');\n    var OutputArea = require('notebook/js/outputarea').OutputArea;\n    if (OutputArea.prototype.mime_types().indexOf(EXEC_MIME_TYPE) == -1) {\n      register_renderer(events, OutputArea);\n    }\n  } catch(err) {\n  }\n}\n",
      "application/vnd.holoviews_load.v0+json": ""
     },
     "metadata": {},
     "output_type": "display_data"
    },
    {
     "data": {
      "text/html": [
       "<style>*[data-root-id],\n",
       "*[data-root-id] > * {\n",
       "  box-sizing: border-box;\n",
       "  font-family: var(--jp-ui-font-family);\n",
       "  font-size: var(--jp-ui-font-size1);\n",
       "  color: var(--vscode-editor-foreground, var(--jp-ui-font-color1));\n",
       "}\n",
       "\n",
       "/* Override VSCode background color */\n",
       ".cell-output-ipywidget-background:has(> .cell-output-ipywidget-background\n",
       "    > .lm-Widget\n",
       "    > *[data-root-id]),\n",
       ".cell-output-ipywidget-background:has(> .lm-Widget > *[data-root-id]) {\n",
       "  background-color: transparent !important;\n",
       "}\n",
       "</style>"
      ]
     },
     "metadata": {},
     "output_type": "display_data"
    },
    {
     "data": {
      "application/vnd.holoviews_exec.v0+json": "",
      "text/html": [
       "<div id='43b1788c-ebf3-4ba3-8db4-e42c8712d7ea'>\n",
       "  <div id=\"da32dcdc-c658-4707-a628-fd201154ef9e\" data-root-id=\"43b1788c-ebf3-4ba3-8db4-e42c8712d7ea\" style=\"display: contents;\"></div>\n",
       "</div>\n",
       "<script type=\"application/javascript\">(function(root) {\n",
       "  var docs_json = {\"08357e9a-ed88-4641-b926-8c0a51bff4e8\":{\"version\":\"3.1.1\",\"title\":\"Bokeh Application\",\"defs\":[{\"type\":\"model\",\"name\":\"ReactiveHTML1\"},{\"type\":\"model\",\"name\":\"FlexBox1\",\"properties\":[{\"name\":\"align_content\",\"kind\":\"Any\",\"default\":\"flex-start\"},{\"name\":\"align_items\",\"kind\":\"Any\",\"default\":\"flex-start\"},{\"name\":\"flex_direction\",\"kind\":\"Any\",\"default\":\"row\"},{\"name\":\"flex_wrap\",\"kind\":\"Any\",\"default\":\"wrap\"},{\"name\":\"justify_content\",\"kind\":\"Any\",\"default\":\"flex-start\"}]},{\"type\":\"model\",\"name\":\"FloatPanel1\",\"properties\":[{\"name\":\"config\",\"kind\":\"Any\",\"default\":{\"type\":\"map\"}},{\"name\":\"contained\",\"kind\":\"Any\",\"default\":true},{\"name\":\"position\",\"kind\":\"Any\",\"default\":\"right-top\"},{\"name\":\"offsetx\",\"kind\":\"Any\",\"default\":null},{\"name\":\"offsety\",\"kind\":\"Any\",\"default\":null},{\"name\":\"theme\",\"kind\":\"Any\",\"default\":\"primary\"},{\"name\":\"status\",\"kind\":\"Any\",\"default\":\"normalized\"}]},{\"type\":\"model\",\"name\":\"GridStack1\",\"properties\":[{\"name\":\"mode\",\"kind\":\"Any\",\"default\":\"warn\"},{\"name\":\"ncols\",\"kind\":\"Any\",\"default\":null},{\"name\":\"nrows\",\"kind\":\"Any\",\"default\":null},{\"name\":\"allow_resize\",\"kind\":\"Any\",\"default\":true},{\"name\":\"allow_drag\",\"kind\":\"Any\",\"default\":true},{\"name\":\"state\",\"kind\":\"Any\",\"default\":[]}]},{\"type\":\"model\",\"name\":\"drag1\",\"properties\":[{\"name\":\"slider_width\",\"kind\":\"Any\",\"default\":5},{\"name\":\"slider_color\",\"kind\":\"Any\",\"default\":\"black\"},{\"name\":\"value\",\"kind\":\"Any\",\"default\":50}]},{\"type\":\"model\",\"name\":\"click1\",\"properties\":[{\"name\":\"terminal_output\",\"kind\":\"Any\",\"default\":\"\"},{\"name\":\"debug_name\",\"kind\":\"Any\",\"default\":\"\"},{\"name\":\"clears\",\"kind\":\"Any\",\"default\":0}]},{\"type\":\"model\",\"name\":\"FastWrapper1\",\"properties\":[{\"name\":\"object\",\"kind\":\"Any\",\"default\":null},{\"name\":\"style\",\"kind\":\"Any\",\"default\":null}]},{\"type\":\"model\",\"name\":\"NotificationAreaBase1\",\"properties\":[{\"name\":\"position\",\"kind\":\"Any\",\"default\":\"bottom-right\"},{\"name\":\"_clear\",\"kind\":\"Any\",\"default\":0}]},{\"type\":\"model\",\"name\":\"NotificationArea1\",\"properties\":[{\"name\":\"notifications\",\"kind\":\"Any\",\"default\":[]},{\"name\":\"position\",\"kind\":\"Any\",\"default\":\"bottom-right\"},{\"name\":\"_clear\",\"kind\":\"Any\",\"default\":0},{\"name\":\"types\",\"kind\":\"Any\",\"default\":[{\"type\":\"map\",\"entries\":[[\"type\",\"warning\"],[\"background\",\"#ffc107\"],[\"icon\",{\"type\":\"map\",\"entries\":[[\"className\",\"fas fa-exclamation-triangle\"],[\"tagName\",\"i\"],[\"color\",\"white\"]]}]]},{\"type\":\"map\",\"entries\":[[\"type\",\"info\"],[\"background\",\"#007bff\"],[\"icon\",{\"type\":\"map\",\"entries\":[[\"className\",\"fas fa-info-circle\"],[\"tagName\",\"i\"],[\"color\",\"white\"]]}]]}]}]},{\"type\":\"model\",\"name\":\"Notification\",\"properties\":[{\"name\":\"background\",\"kind\":\"Any\",\"default\":null},{\"name\":\"duration\",\"kind\":\"Any\",\"default\":3000},{\"name\":\"icon\",\"kind\":\"Any\",\"default\":null},{\"name\":\"message\",\"kind\":\"Any\",\"default\":\"\"},{\"name\":\"notification_type\",\"kind\":\"Any\",\"default\":null},{\"name\":\"_destroyed\",\"kind\":\"Any\",\"default\":false}]},{\"type\":\"model\",\"name\":\"TemplateActions1\",\"properties\":[{\"name\":\"open_modal\",\"kind\":\"Any\",\"default\":0},{\"name\":\"close_modal\",\"kind\":\"Any\",\"default\":0}]},{\"type\":\"model\",\"name\":\"BootstrapTemplateActions1\",\"properties\":[{\"name\":\"open_modal\",\"kind\":\"Any\",\"default\":0},{\"name\":\"close_modal\",\"kind\":\"Any\",\"default\":0}]},{\"type\":\"model\",\"name\":\"MaterialTemplateActions1\",\"properties\":[{\"name\":\"open_modal\",\"kind\":\"Any\",\"default\":0},{\"name\":\"close_modal\",\"kind\":\"Any\",\"default\":0}]}],\"roots\":[{\"type\":\"object\",\"name\":\"panel.models.browser.BrowserInfo\",\"id\":\"43b1788c-ebf3-4ba3-8db4-e42c8712d7ea\"},{\"type\":\"object\",\"name\":\"panel.models.comm_manager.CommManager\",\"id\":\"78cc4399-4d4f-4ccb-85b8-b4da002f89fd\",\"attributes\":{\"plot_id\":\"43b1788c-ebf3-4ba3-8db4-e42c8712d7ea\",\"comm_id\":\"8658677433f74fe5a90468fb358bc60e\",\"client_comm_id\":\"629de40415ea43fd9f6f85780ef67082\"}}],\"callbacks\":{\"type\":\"map\"}}};\n",
       "  var render_items = [{\"docid\":\"08357e9a-ed88-4641-b926-8c0a51bff4e8\",\"roots\":{\"43b1788c-ebf3-4ba3-8db4-e42c8712d7ea\":\"da32dcdc-c658-4707-a628-fd201154ef9e\"},\"root_ids\":[\"43b1788c-ebf3-4ba3-8db4-e42c8712d7ea\"]}];\n",
       "  var docs = Object.values(docs_json)\n",
       "  if (!docs) {\n",
       "    return\n",
       "  }\n",
       "  const py_version = docs[0].version.replace('rc', '-rc.')\n",
       "  const is_dev = py_version.indexOf(\"+\") !== -1 || py_version.indexOf(\"-\") !== -1\n",
       "  function embed_document(root) {\n",
       "    var Bokeh = get_bokeh(root)\n",
       "    Bokeh.embed.embed_items_notebook(docs_json, render_items);\n",
       "    for (const render_item of render_items) {\n",
       "      for (const root_id of render_item.root_ids) {\n",
       "\tconst id_el = document.getElementById(root_id)\n",
       "\tif (id_el.children.length && (id_el.children[0].className === 'bk-root')) {\n",
       "\t  const root_el = id_el.children[0]\n",
       "\t  root_el.id = root_el.id + '-rendered'\n",
       "\t}\n",
       "      }\n",
       "    }\n",
       "  }\n",
       "  function get_bokeh(root) {\n",
       "    if (root.Bokeh === undefined) {\n",
       "      return null\n",
       "    } else if (root.Bokeh.version !== py_version && !is_dev) {\n",
       "      if (root.Bokeh.versions === undefined || !root.Bokeh.versions.has(py_version)) {\n",
       "\treturn null\n",
       "      }\n",
       "      return root.Bokeh.versions.get(py_version);\n",
       "    } else if (root.Bokeh.version === py_version) {\n",
       "      return root.Bokeh\n",
       "    }\n",
       "    return null\n",
       "  }\n",
       "  function is_loaded(root) {\n",
       "    var Bokeh = get_bokeh(root)\n",
       "    return (Bokeh != null && Bokeh.Panel !== undefined)\n",
       "  }\n",
       "  if (is_loaded(root)) {\n",
       "    embed_document(root);\n",
       "  } else {\n",
       "    var attempts = 0;\n",
       "    var timer = setInterval(function(root) {\n",
       "      if (is_loaded(root)) {\n",
       "        clearInterval(timer);\n",
       "        embed_document(root);\n",
       "      } else if (document.readyState == \"complete\") {\n",
       "        attempts++;\n",
       "        if (attempts > 200) {\n",
       "          clearInterval(timer);\n",
       "\t  var Bokeh = get_bokeh(root)\n",
       "\t  if (Bokeh == null || Bokeh.Panel == null) {\n",
       "            console.warn(\"Panel: ERROR: Unable to run Panel code because Bokeh or Panel library is missing\");\n",
       "\t  } else {\n",
       "\t    console.warn(\"Panel: WARNING: Attempting to render but not all required libraries could be resolved.\")\n",
       "\t    embed_document(root)\n",
       "\t  }\n",
       "        }\n",
       "      }\n",
       "    }, 25, root)\n",
       "  }\n",
       "})(window);</script>"
      ]
     },
     "metadata": {
      "application/vnd.holoviews_exec.v0+json": {
       "id": "43b1788c-ebf3-4ba3-8db4-e42c8712d7ea"
      }
     },
     "output_type": "display_data"
    },
    {
     "data": {
      "application/vnd.jupyter.widget-view+json": {
       "model_id": "557c0508db27473fa6839d2628c4f97a",
       "version_major": 2,
       "version_minor": 0
      },
      "text/plain": [
       "BokehModel(combine_events=True, render_bundle={'docs_json': {'a8183637-a835-40ef-a542-8c7bfec12c9c': {'version…"
      ]
     },
     "execution_count": 1,
     "metadata": {},
     "output_type": "execute_result"
    }
   ],
   "source": [
    "import panel as pn  # GUI\n",
    "pn.extension()\n",
    "\n",
    "def collect_messages(debug=False):\n",
    "    user_input = inp.value_input\n",
    "\n",
    "    panels.append(\n",
    "        pn.Row(\"User:\", pn.pane.Markdown(user_input, width=600))\n",
    "    )\n",
    "    panels.append(\n",
    "        pn.Row(\"Chatbot:\", pn.pane.Markdown(f\"I hear '{user_input}'\", width=600, styles={'background-color': '#F6F6F6'}))\n",
    "    )\n",
    "    return pn.Column(*panels)\n",
    "\n",
    "panels = [] # collect display \n",
    "inp = pn.widgets.TextInput(placeholder='Enter text here…')\n",
    "button_conversation = pn.widgets.Button(name=\"Service Assistant\")\n",
    "\n",
    "interactive_conversation = pn.bind(collect_messages, button_conversation)\n",
    "dashboard = pn.Column(\n",
    "    inp,\n",
    "    pn.Row(button_conversation),\n",
    "    pn.panel(interactive_conversation, loading_indicator=True, height=300)\n",
    ")\n",
    "dashboard"
   ]
  },
  {
   "cell_type": "code",
   "execution_count": 11,
   "metadata": {},
   "outputs": [],
   "source": []
  },
  {
   "cell_type": "code",
   "execution_count": 12,
   "metadata": {},
   "outputs": [
    {
     "name": "stderr",
     "output_type": "stream",
     "text": [
      "C:\\Users\\ellen\\AppData\\Local\\Temp\\ipykernel_2908\\3404714276.py:8: PanelDeprecationWarning: 'style' is deprecated and will be removed in version 1.1, use 'styles' instead.\n",
      "  pn.Row(\"Chatbot:\", pn.pane.Markdown(f\"I hear '{user_input}'\", width=600, style={'background-color': '#F6F6F6'}))\n"
     ]
    },
    {
     "data": {
      "application/vnd.jupyter.widget-view+json": {
       "model_id": "f8a9648fbc2e4ffd96e731a837d87338",
       "version_major": 2,
       "version_minor": 0
      },
      "text/plain": [
       "BokehModel(combine_events=True, render_bundle={'docs_json': {'e41b01f8-2408-40bb-a6e2-ae794cba14d8': {'version…"
      ]
     },
     "execution_count": 12,
     "metadata": {},
     "output_type": "execute_result"
    }
   ],
   "source": []
  }
 ],
 "metadata": {
  "kernelspec": {
   "display_name": "venv310",
   "language": "python",
   "name": "python3"
  },
  "language_info": {
   "codemirror_mode": {
    "name": "ipython",
    "version": 3
   },
   "file_extension": ".py",
   "mimetype": "text/x-python",
   "name": "python",
   "nbconvert_exporter": "python",
   "pygments_lexer": "ipython3",
   "version": "3.10.10"
  },
  "orig_nbformat": 4
 },
 "nbformat": 4,
 "nbformat_minor": 2
}
